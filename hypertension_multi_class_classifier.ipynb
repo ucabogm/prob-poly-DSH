{
 "cells": [
  {
   "cell_type": "markdown",
   "id": "70af469d",
   "metadata": {},
   "source": [
    "# Setup\n",
    "\n",
    "Import basic packages and bring in lookup tables for clinical conditions and medications and pre-defined mapping functions.\n",
    "\n",
    "#### Packages"
   ]
  },
  {
   "cell_type": "code",
   "execution_count": 1,
   "id": "5a20bb02",
   "metadata": {},
   "outputs": [],
   "source": [
    "import pandas as pd\n",
    "import numpy as np\n",
    "import pickle\n",
    "from datetime import datetime, timedelta\n",
    "import random\n",
    "from tqdm import tqdm\n",
    "import matplotlib.pyplot as plt\n",
    "from itertools import combinations\n",
    "# set number of rows pandas dataframe displays\n",
    "pd.set_option('display.max_rows', 3000)"
   ]
  },
  {
   "cell_type": "markdown",
   "id": "65d0caa2",
   "metadata": {},
   "source": [
    "#### Lookup tables"
   ]
  },
  {
   "cell_type": "code",
   "execution_count": 2,
   "id": "e5df403c",
   "metadata": {},
   "outputs": [],
   "source": [
    "lkp_med = pd.read_csv('S:\\CALIBER_17_205R\\MSc\\Oliver\\Lookup Tables\\lookup_medical_table.csv', sep=',')\n",
    "lkp_med_code_dic = pickle.load(open('S:\\CALIBER_17_205R\\MSc\\Oliver\\Python Code\\lkp_med_code_dic.p', 'rb'))\n",
    "lkp_med_term_dic = pickle.load(open('S:\\CALIBER_17_205R\\MSc\\Oliver\\Python Code\\lkp_med_term_dic.p', 'rb'))\n",
    "\n",
    "lkp_bnf = pd.read_csv('S:\\CALIBER_17_205R\\MSc\\Oliver\\Lookup Tables\\lookup_bnf_table.csv', \n",
    "                      sep=',', dtype={'bnfcode':str, 'bnf':str})\n",
    "\n",
    "lkp_prd = pd.read_csv('S:\\CALIBER_17_205R\\MSc\\Oliver\\Lookup Tables\\lookup_product_table.csv', sep=',', \n",
    "                      low_memory=False)"
   ]
  },
  {
   "cell_type": "markdown",
   "id": "49221901",
   "metadata": {},
   "source": [
    "#### Mappings from helper_functions"
   ]
  },
  {
   "cell_type": "code",
   "execution_count": 3,
   "id": "40bdfe6b",
   "metadata": {},
   "outputs": [],
   "source": [
    "from helper_functions import medcode_to_read, medcode_to_term, read_to_medcode, cprd_to_bnf\n",
    "from helper_functions import bnf_to_chapter, get_stat_dic, make_confusion_matrix"
   ]
  },
  {
   "cell_type": "markdown",
   "id": "ff8b6208",
   "metadata": {},
   "source": [
    "#### Disease readcode lists\n",
    "\n",
    "Predominantly taken from ClinicalCodes.org"
   ]
  },
  {
   "cell_type": "code",
   "execution_count": 4,
   "id": "f80e9c2b",
   "metadata": {},
   "outputs": [],
   "source": [
    "# diabetes\n",
    "db_csv = pd.read_csv(r'S:\\CALIBER_17_205R\\MSc\\Oliver\\Clinical Code Lists\\diabetes.csv', sep=',')\n",
    "diabetes_readcodes = list(db_csv['code'])\n",
    "\n",
    "# heart-failure\n",
    "hf_csv = pd.read_csv(r'S:\\CALIBER_17_205R\\MSc\\Oliver\\Clinical Code Lists\\heart-failure.csv', sep=',')\n",
    "heartfailure_readcodes = list(hf_csv['code'])\n",
    "\n",
    "# thrombosis\n",
    "tm_csv = pd.read_csv(r'S:\\CALIBER_17_205R\\MSc\\Oliver\\Clinical Code Lists\\res25-p16_thrombosis.csv', sep=',')\n",
    "thrombosis_readcodes = list(tm_csv['code'])\n",
    "\n",
    "# mild-liver-disease\n",
    "ld_csv = pd.read_csv(r'S:\\CALIBER_17_205R\\MSc\\Oliver\\Clinical Code Lists\\res27-mild-liver-disease.csv', sep=',')\n",
    "liverdisease_readcodes = list(ld_csv['code'])\n",
    "\n",
    "# renal-disease\n",
    "rd_csv = pd.read_csv(r'S:\\CALIBER_17_205R\\MSc\\Oliver\\Clinical Code Lists\\res27-renal-disease.csv', sep=',')\n",
    "renaldisease_readcodes = list(rd_csv['code'])\n",
    "\n",
    "# hypertension\n",
    "ht_csv = pd.read_csv(r'S:\\CALIBER_17_205R\\MSc\\Oliver\\Clinical Code Lists\\hypertension.csv', sep=',')\n",
    "hypertension_readcodes = list(ht_csv['code'])"
   ]
  },
  {
   "cell_type": "markdown",
   "id": "e648e79e",
   "metadata": {},
   "source": [
    "Construct disease_dic from the readcodes specified above, to feed into the build_data function"
   ]
  },
  {
   "cell_type": "code",
   "execution_count": 5,
   "id": "ac8da318",
   "metadata": {},
   "outputs": [],
   "source": [
    "disease_dic = {'db':diabetes_readcodes,\n",
    "               'hf':heartfailure_readcodes,\n",
    "               'tm':thrombosis_readcodes,\n",
    "               'ld':liverdisease_readcodes,\n",
    "               'rd':renaldisease_readcodes,\n",
    "               'ht':hypertension_readcodes}"
   ]
  },
  {
   "cell_type": "markdown",
   "id": "99b31ee7",
   "metadata": {},
   "source": [
    "# Get Multi-Classification Data"
   ]
  },
  {
   "cell_type": "code",
   "execution_count": 6,
   "id": "b5d0903c",
   "metadata": {},
   "outputs": [],
   "source": [
    "# target, version and eventdate of selected classifier\n",
    "target = 'patids_v1a_pos'\n",
    "version = 'v1'\n",
    "eventdate = 'eventdate_min'\n",
    "filter_type = 'filter_12_mnth'"
   ]
  },
  {
   "cell_type": "code",
   "execution_count": 7,
   "id": "59c00baa",
   "metadata": {},
   "outputs": [],
   "source": [
    "# complete list of hyptertension treatements by bnfchapter\n",
    "drug_list = [5, 17, 135, 142]\n",
    "\n",
    "# initialize data dictionary\n",
    "ht_data_dic = {}\n",
    "\n",
    "for drug in drug_list:\n",
    "    \n",
    "    # get processed data for each drug and save within ht_data_dic\n",
    "    stat_dic, target_list, _, filter_6_mnth, filter_12_mnth = get_stat_dic(drug)\n",
    "    ht_data_dic[drug] = {'stat_dic':stat_dic,\n",
    "                         'target_list':target_list,\n",
    "                         'filter_6_mnth':filter_6_mnth,\n",
    "                         'filter_12_mnth':filter_12_mnth}\n",
    "    \n",
    "    # get required items from the ht_data_dic\n",
    "    filtr = ht_data_dic[drug][filter_type]\n",
    "    \n",
    "    # get positive instances and filter to within the X month window required\n",
    "    patids_pos = [patid for patid in list(stat_dic.keys()) if stat_dic[patid]['target'][target][0]==1]\n",
    "    patids_pos = list(set.intersection(set(patids_pos), set(filtr)))    \n",
    "    \n",
    "    # add these positive patids to the ht_data_dic\n",
    "    ht_data_dic[drug][f'{target}_{filter_type}'] = patids_pos\n",
    "\n",
    "##################################### THIS CODE MUST ALL BE RUN AT THE SAME TIME #####################################\n",
    "    \n",
    "# initialize duplicate and comb patid lists\n",
    "dup_patids = []\n",
    "comb_patids = []\n",
    "\n",
    "for drug_a in drug_list:\n",
    "    for drug_b in drug_list:\n",
    "        if drug_a!=drug_b:\n",
    "            dup_patids = dup_patids + (list(set.intersection(set(ht_data_dic[drug_a][f'{target}_{filter_type}']), \n",
    "                                                             set(ht_data_dic[drug_b][f'{target}_{filter_type}']))))\n",
    "    \n",
    "    # get a combined list of patids\n",
    "    comb_patids = list(set.union(set(comb_patids), set(ht_data_dic[drug_a][f'{target}_{filter_type}'])))\n",
    "    \n",
    "    # remove duplicate patids from each drug specific patids_pos\n",
    "    ht_data_dic[drug_a].update({f'{target}_{filter_type}': list(set(ht_data_dic[drug_a][f'{target}_{filter_type}']) -\\\n",
    "                                                                set(dup_patids))}) \n",
    "        \n",
    "# get unique duplicate patids\n",
    "dup_patids = list(set(dup_patids))\n",
    "# remove duplicate patids from comb_patids\n",
    "comb_patids = list(set(comb_patids)-set(dup_patids))"
   ]
  },
  {
   "cell_type": "code",
   "execution_count": 8,
   "id": "21271789",
   "metadata": {},
   "outputs": [],
   "source": [
    "# can't use helper function here because we only want data for a specific set of patients\n",
    "\n",
    "dic = {}\n",
    "\n",
    "y = []\n",
    "X_bnf = []\n",
    "n_bnf = len(list(lkp_bnf['bnfcode']))\n",
    "\n",
    "row = 0\n",
    "\n",
    "for col, drug in enumerate(drug_list):\n",
    "    \n",
    "    stat_dic = ht_data_dic[drug]['stat_dic']\n",
    "    \n",
    "    for patid in ht_data_dic[drug][f'{target}_{filter_type}']:\n",
    "        \n",
    "        y.append(col)\n",
    "        X_bnf.append([0 if (k+1) not in stat_dic[patid]['meds_min'] else 1 for k in range(n_bnf)])\n",
    "        row+=1\n",
    "        \n",
    "# re-format the data\n",
    "y = np.array(y)\n",
    "X_bnf = np.array(X_bnf)\n",
    "\n",
    "# dummy column to start building from\n",
    "X = np.zeros((len(comb_patids),1))\n",
    "# idx to map column to feature\n",
    "idx = 0\n",
    "\n",
    "X = np.concatenate((X, X_bnf), axis=1)\n",
    "unknown_idx = 0\n",
    "for bnfcode in range(n_bnf):\n",
    "    # !note there are duplicate mappings, so appending an index to make each mapping unique\n",
    "    try:\n",
    "        mapping = bnf_to_chapter(cprd_to_bnf(bnfcode+1, lkp_bnf), lkp_prd).item()\n",
    "        if mapping=='-':\n",
    "            dic[idx] = f'Unknown Chapter {unknown_idx}'\n",
    "            unknown_idx += 1\n",
    "        elif mapping in list(dic.values()):\n",
    "            dic[idx] = f'{mapping} (repeated)' # don't need to index here bcs max duplication is 2\n",
    "        else:\n",
    "            dic[idx] = mapping\n",
    "    except ValueError:\n",
    "        dic[idx] = f'Unknown Chapter {unknown_idx}'\n",
    "        unknown_idx += 1\n",
    "    idx += 1\n",
    "\n",
    "# delete dummy column before returning\n",
    "X = np.delete(X, 0, axis=1)"
   ]
  },
  {
   "cell_type": "code",
   "execution_count": 9,
   "id": "fd96fb7b",
   "metadata": {},
   "outputs": [],
   "source": [
    "# MASK HYPERTENSIVE BNFCHAPTERS (idx = [8, 20, 138, 145] when all feature groups included)\n",
    "delete_idx_list = [4, 16, 134, 141]\n",
    "\n",
    "for idx in delete_idx_list:\n",
    "    dic.pop(idx)\n",
    "\n",
    "X = np.delete(X, delete_idx_list, axis=1)  "
   ]
  },
  {
   "cell_type": "code",
   "execution_count": 10,
   "id": "59f8b666",
   "metadata": {},
   "outputs": [],
   "source": [
    "from sklearn.model_selection import train_test_split\n",
    "from sklearn.model_selection import KFold\n",
    "from sklearn.model_selection import GridSearchCV\n",
    "from sklearn.decomposition import PCA\n",
    "from sklearn.decomposition import SparsePCA\n",
    "from sklearn.decomposition import KernelPCA\n",
    "from sklearn.decomposition import TruncatedSVD\n",
    "from sklearn.metrics import accuracy_score\n",
    "from sklearn.metrics import precision_score\n",
    "from sklearn.metrics import recall_score\n",
    "from sklearn.metrics import f1_score\n",
    "from sklearn.metrics import roc_auc_score\n",
    "from sklearn.metrics import confusion_matrix\n",
    "\n",
    "from sklearn import tree\n",
    "from sklearn.ensemble import RandomForestClassifier\n",
    "import xgboost as xgb\n",
    "\n",
    "from imblearn.over_sampling import SMOTEN\n",
    "from imblearn.over_sampling import RandomOverSampler\n",
    "from imblearn.under_sampling import RandomUnderSampler\n",
    "\n",
    "from helper_functions import add_neg_patids, build_data"
   ]
  },
  {
   "cell_type": "markdown",
   "id": "8ef4a160",
   "metadata": {},
   "source": [
    "Cross-validation will be done over 5 folds"
   ]
  },
  {
   "cell_type": "code",
   "execution_count": 13,
   "id": "12fbbd44",
   "metadata": {},
   "outputs": [],
   "source": [
    "k_folds = 5\n",
    "kf = KFold(n_splits=k_folds, shuffle=True, random_state=0)"
   ]
  },
  {
   "cell_type": "markdown",
   "id": "d373bb7a",
   "metadata": {},
   "source": [
    "### GridsearchCV for best hyper-parameters"
   ]
  },
  {
   "cell_type": "markdown",
   "id": "85c14b90",
   "metadata": {},
   "source": [
    "#### Split data in to top level train and test"
   ]
  },
  {
   "cell_type": "code",
   "execution_count": 14,
   "id": "1eabf434",
   "metadata": {},
   "outputs": [],
   "source": [
    "X_train, X_test, y_train, y_test = train_test_split(X, y, test_size=1/6, random_state=0, shuffle=True)"
   ]
  },
  {
   "cell_type": "markdown",
   "id": "b55dbcf9",
   "metadata": {},
   "source": [
    "#### Undersample majority classes for 5-fold CV gridsearch to avoid data leakage"
   ]
  },
  {
   "cell_type": "code",
   "execution_count": 15,
   "id": "9618b848",
   "metadata": {},
   "outputs": [],
   "source": [
    "undersample = RandomUnderSampler(random_state=0)\n",
    "\n",
    "X_train_gs, y_train_gs = undersample.fit_resample(X_train, y_train)\n",
    "X_test_gs, y_test_gs = undersample.fit_resample(X_test, y_test)\n",
    "\n",
    "# use dic to map columns to feature names\n",
    "X_train_gs_df = pd.DataFrame(data=X_train_gs, columns=list(dic.values()))\n",
    "X_test_gs_df = pd.DataFrame(data=X_test_gs, columns=list(dic.values()))"
   ]
  },
  {
   "cell_type": "code",
   "execution_count": 16,
   "id": "70a6fa95",
   "metadata": {
    "scrolled": false
   },
   "outputs": [
    {
     "data": {
      "text/plain": [
       "GridSearchCV(cv=5,\n",
       "             estimator=XGBClassifier(base_score=None, booster=None,\n",
       "                                     colsample_bylevel=None,\n",
       "                                     colsample_bynode=None,\n",
       "                                     colsample_bytree=None, gamma=None,\n",
       "                                     gpu_id=None, importance_type='gain',\n",
       "                                     interaction_constraints=None,\n",
       "                                     learning_rate=None, max_delta_step=None,\n",
       "                                     max_depth=None, min_child_weight=None,\n",
       "                                     missing=nan, monotone_constraints=None,\n",
       "                                     n_estimators=100, n_jobs...\n",
       "                                     scale_pos_weight=None, subsample=None,\n",
       "                                     tree_method=None, use_label_encoder=False,\n",
       "                                     validate_parameters=None, verbosity=None),\n",
       "             param_grid={'colsample_bytree': [0.7, 0.8, 0.9, 1.0],\n",
       "                         'eta': [0.1, 0.2, 0.3], 'eval_metric': ['merror'],\n",
       "                         'max_depth': [1, 2, 3, 4, 5, 6],\n",
       "                         'min_child_weight': [1, 3, 5, 7, 9, 11],\n",
       "                         'n_estimators': [100], 'num_class': [4],\n",
       "                         'objective': ['multi:softmax']},\n",
       "             scoring='accuracy')"
      ]
     },
     "execution_count": 16,
     "metadata": {},
     "output_type": "execute_result"
    }
   ],
   "source": [
    "grid_params = {'objective':['multi:softmax'], 'eval_metric':['merror'], \n",
    "               # if not gridsearch, set large enough thatnever reached because applying early stopping criteria\n",
    "               'n_estimators':[100], \n",
    "               'max_depth':[1,2,3,4,5,6], 'eta':[0.1,0.2,0.3], 'min_child_weight':[1,3,5,7,9,11],\n",
    "               'colsample_bytree':[0.7,0.8,0.9,1.0], 'num_class':[4]}\n",
    "\n",
    "# using SKLearn API for grid search and better printing of trees\n",
    "model = xgb.XGBClassifier(use_label_encoder=False)\n",
    "gridsearch = GridSearchCV(model, grid_params, scoring='accuracy', refit=True, cv=5)\n",
    "gridsearch.fit(X_train_gs_df, y_train_gs.flatten(), early_stopping_rounds=5, # 5 implied from learning curve\n",
    "               eval_set=[(X_test_gs_df, y_test_gs.flatten())],\n",
    "               verbose=False)"
   ]
  },
  {
   "cell_type": "code",
   "execution_count": 17,
   "id": "d4fb1b8b",
   "metadata": {},
   "outputs": [
    {
     "data": {
      "text/plain": [
       "0.3219806763285024"
      ]
     },
     "execution_count": 17,
     "metadata": {},
     "output_type": "execute_result"
    }
   ],
   "source": [
    "gridsearch.best_score_"
   ]
  },
  {
   "cell_type": "code",
   "execution_count": 18,
   "id": "336e5910",
   "metadata": {},
   "outputs": [
    {
     "data": {
      "text/plain": [
       "{'colsample_bytree': 1.0,\n",
       " 'eta': 0.2,\n",
       " 'eval_metric': 'merror',\n",
       " 'max_depth': 2,\n",
       " 'min_child_weight': 1,\n",
       " 'n_estimators': 100,\n",
       " 'num_class': 4,\n",
       " 'objective': 'multi:softmax'}"
      ]
     },
     "execution_count": 18,
     "metadata": {},
     "output_type": "execute_result"
    }
   ],
   "source": [
    "gridsearch.best_params_"
   ]
  },
  {
   "cell_type": "code",
   "execution_count": 19,
   "id": "2a317ff5",
   "metadata": {},
   "outputs": [],
   "source": [
    "# save best booster\n",
    "pickle.dump(gridsearch.best_estimator_.get_booster(), open('mc_booster_best_31082021.p', 'wb'))"
   ]
  },
  {
   "cell_type": "code",
   "execution_count": 20,
   "id": "f24f3c50",
   "metadata": {},
   "outputs": [],
   "source": [
    "# save best estimator\n",
    "pickle.dump(gridsearch.best_estimator_, open('mc_estimator_best_31082021.p', 'wb'))"
   ]
  },
  {
   "cell_type": "code",
   "execution_count": 21,
   "id": "4686688c",
   "metadata": {},
   "outputs": [],
   "source": [
    "# save best estimator\n",
    "pickle.dump(gridsearch, open('mc_gridsearch_31082021.p', 'wb'))"
   ]
  },
  {
   "cell_type": "markdown",
   "id": "7513655e",
   "metadata": {},
   "source": [
    "### Train model on all data"
   ]
  },
  {
   "cell_type": "markdown",
   "id": "861ab9cf",
   "metadata": {},
   "source": [
    "#### Parameters from gridsearch"
   ]
  },
  {
   "cell_type": "code",
   "execution_count": 11,
   "id": "3dfdc07c",
   "metadata": {},
   "outputs": [],
   "source": [
    "params = {'colsample_bytree': 1.0,\n",
    "          'eta': 0.2,\n",
    "          'eval_metric': 'merror',\n",
    "          'max_depth': 2,\n",
    "          'min_child_weight': 1,\n",
    "          'num_class': 4,\n",
    "          'objective': 'multi:softmax'}"
   ]
  },
  {
   "cell_type": "markdown",
   "id": "3a12886a",
   "metadata": {},
   "source": [
    "#### Define oversampler for subsequent analysis"
   ]
  },
  {
   "cell_type": "code",
   "execution_count": 12,
   "id": "8e9a7338",
   "metadata": {},
   "outputs": [],
   "source": [
    "# oversample = SMOTEN() # - not suitable, always predicts 142: suspected data leakage\n",
    "oversample = RandomOverSampler(random_state=0)"
   ]
  },
  {
   "cell_type": "markdown",
   "id": "b6d139b2",
   "metadata": {},
   "source": [
    "#### Establish optimum number of training rounds"
   ]
  },
  {
   "cell_type": "code",
   "execution_count": 26,
   "id": "bec9838c",
   "metadata": {},
   "outputs": [],
   "source": [
    "num_boost_round = 100\n",
    "\n",
    "# initialize training and test auc score lists\n",
    "tr_epoch_as = []\n",
    "te_epoch_as = []\n",
    "\n",
    "k_fold_index_set = list(kf.split(X))\n",
    "\n",
    "for fold in range(k_folds):\n",
    "    \n",
    "    evals_result = {}\n",
    "\n",
    "    # split the data in to the k-th fold using SKLearn k-fold split\n",
    "    train_idx, test_idx = k_fold_index_set[fold]\n",
    "    X_train_k, y_train_k, X_test_k, y_test_k = X[train_idx], y[train_idx], X[test_idx], y[test_idx]\n",
    "    \n",
    "    # oversample to get balanced dataset\n",
    "    X_train_k, y_train_k = oversample.fit_resample(X_train_k, y_train_k)\n",
    "    X_test_k, y_test_k = oversample.fit_resample(X_test_k, y_test_k)\n",
    "\n",
    "    # get data in required format for XGBoost\n",
    "    dtrain_k = xgb.DMatrix(X_train_k, label=y_train_k, feature_names=list(dic.values()))\n",
    "    dtest_k = xgb.DMatrix(X_test_k, label=y_test_k, feature_names=list(dic.values()))\n",
    "\n",
    "    # using Learning API in XGBoost so that can store feature_names within the dMatrix\n",
    "    evals = [(dtrain_k, 'dtrain_k'), (dtest_k, 'dtest_k')] # early stopping on the last item in evals (so test)\n",
    "    model = xgb.train(params, dtrain_k, num_boost_round, evals=evals,\n",
    "                      evals_result=evals_result, verbose_eval=False)\n",
    "\n",
    "    # get accuracy score from evals_test for train and test\n",
    "    tr_epoch_as.append(np.array(list(evals_result['dtrain_k'].values())[0]))\n",
    "    te_epoch_as.append(np.array(list(evals_result['dtest_k'].values())[0]))"
   ]
  },
  {
   "cell_type": "code",
   "execution_count": 27,
   "id": "a9f725cd",
   "metadata": {},
   "outputs": [
    {
     "data": {
      "image/png": "[encoded data removed]",
      "text/plain": [
       "<Figure size 504x360 with 1 Axes>"
      ]
     },
     "metadata": {
      "needs_background": "light"
     },
     "output_type": "display_data"
    },
    {
     "name": "stdout",
     "output_type": "stream",
     "text": [
      "optimal training rounds: 2\n",
      "optimal error: 0.6920767999999999\n"
     ]
    }
   ],
   "source": [
    "plt.figure(figsize=(7,5))\n",
    "line_b = plt.errorbar((np.linspace(1,100,100)), np.mean(np.array(te_epoch_as), axis=0), \n",
    "             yerr=np.std(np.array(te_epoch_as), axis=0), errorevery=5, capsize=3, label='Test +/- s.d')\n",
    "\n",
    "line_a = plt.errorbar((np.linspace(1,100,100)), np.mean(np.array(tr_epoch_as), axis=0), \n",
    "             yerr=np.std(np.array(tr_epoch_as), axis=0), errorevery=5, capsize=3, label='Train +/- s.d')\n",
    "plt.xlabel('Boosting Rounds', labelpad=8) #, fontsize='large', fontweight='demibold')\n",
    "plt.ylabel('Error', labelpad=8) #, fontsize='large', fontweight='demibold')\n",
    "# plt.ylim(0.76,0.92)\n",
    "# plt.xlim(0,100)\n",
    "plt.grid(True)\n",
    "plt.axvline(x=np.argmin(np.mean(np.array(te_epoch_as), axis=0))+1, color='red', linestyle=(0,(3,4)),\n",
    "            label=f'x = {np.argmin(np.mean(np.array(te_epoch_as), axis=0))+1}')\n",
    "plt.legend(loc='lower left')\n",
    "# plt.savefig('mc_boosting_rounds.jpg', format='jpg', dpi=300, bbox_inches='tight')\n",
    "plt.show()\n",
    "\n",
    "print(f'optimal training rounds: {np.argmin(np.mean(np.array(te_epoch_as), axis=0))+1}')\n",
    "print(f'optimal error: {np.min(np.mean(np.array(te_epoch_as), axis=0))}')"
   ]
  },
  {
   "cell_type": "markdown",
   "id": "e8f90464",
   "metadata": {},
   "source": [
    "#### 20 runs for final evaluation metrics"
   ]
  },
  {
   "cell_type": "code",
   "execution_count": 13,
   "id": "ec0159ab",
   "metadata": {},
   "outputs": [],
   "source": [
    "num_boost_round = 60"
   ]
  },
  {
   "cell_type": "code",
   "execution_count": 25,
   "id": "d08c1fc3",
   "metadata": {},
   "outputs": [
    {
     "name": "stdout",
     "output_type": "stream",
     "text": [
      "[985772 305711 435829 117952 963395 152315 882371 359783 304137 122579\n",
      " 610581 448242 374564 735831 736326 310744 170584 839052 604474 541377]\n"
     ]
    }
   ],
   "source": [
    "np.random.seed(seed=0)\n",
    "\n",
    "seed_list = np.random.randint(0, 1000000, 20)\n",
    "print(seed_list)"
   ]
  },
  {
   "cell_type": "code",
   "execution_count": 26,
   "id": "476ac760",
   "metadata": {},
   "outputs": [
    {
     "name": "stdout",
     "output_type": "stream",
     "text": [
      "0.893714 0.851415 1.0\n",
      "0.8894340000000001 0.876794 1.0\n",
      "0.89159 0.854478 1.0\n",
      "0.89186 0.880233 1.0\n",
      "0.887743 0.884462 0.99800796812749\n",
      "0.890152 0.875576 1.0\n",
      "0.891003 0.869617 1.0\n",
      "0.887921 0.877336 1.0\n",
      "0.893808 0.85782 1.0\n",
      "0.891383 0.875498 1.0\n",
      "0.888095 0.86383 0.997872340425532\n",
      "0.894387 0.868483 0.9976303317535545\n",
      "0.892899 0.834491 1.0\n",
      "0.892281 0.853865 0.998792270531401\n",
      "0.894477 0.859302 1.0\n",
      "0.891677 0.872807 1.0\n",
      "0.890407 0.876744 1.0\n",
      "0.895714 0.85 0.99875\n",
      "0.896601 0.853865 0.998792270531401\n",
      "0.894691 0.875 1.0\n",
      "['0.89+/-0.003', '0.87+/-0.013', '1.0+/-0.001']\n"
     ]
    }
   ],
   "source": [
    "# initialize evaluation score lists\n",
    "tr_as, te_as, te_ud = [], [], [] # ud is user defined evaluation metric\n",
    "\n",
    "for seed in seed_list:\n",
    "    \n",
    "    evals_result = {}\n",
    "    \n",
    "    # split the data in to train and test for each random seed\n",
    "    X_train_20, X_test_20, y_train_20, y_test_20 = train_test_split(X, y, test_size=1/5, random_state=seed)\n",
    "\n",
    "    # oversample to get balanced dataset\n",
    "    X_train_20, y_train_20 = oversample.fit_resample(X_train_20, y_train_20)\n",
    "    X_test_20, y_test_20 = oversample.fit_resample(X_test_20, y_test_20)\n",
    "\n",
    "    # get data in required format for XGBoost\n",
    "    dtrain_20 = xgb.DMatrix(X_train_20, label=y_train_20, feature_names=list(dic.values()))\n",
    "    dtest_20 = xgb.DMatrix(X_test_20, label=y_test_20, feature_names=list(dic.values()))\n",
    "\n",
    "    # using Learning API in XGBoost so that can store feature_names within the dMatrix\n",
    "    evals = [(dtrain_20, 'dtrain_20'), (dtest_20, 'dtest_20')] # early stopping on the last item in evals (so test)\n",
    "    model = xgb.train(params, dtrain_20, num_boost_round, evals=evals,\n",
    "                      evals_result=evals_result, verbose_eval=False)\n",
    "\n",
    "    # get accuracy score from evals_test for train and test\n",
    "    tr_as.append(1-np.array(list(evals_result['dtrain_20'].values())[0][-1]))\n",
    "    te_as.append(1-np.array(list(evals_result['dtest_20'].values())[0][-1]))\n",
    "    te_ud.append(1-(sum(y_test_20==[np.argmin(pred) for pred in model.predict(dtest_20, output_margin=True)]))/\\\n",
    "                    len(y_test_20))\n",
    "    \n",
    "    # print progress out\n",
    "    print(tr_as[-1], te_as[-1], te_ud[-1])    \n",
    "    \n",
    "# calculate mean and standard deviation over the k-fold cross validation and append to results lists\n",
    "results = [tr_as, te_as, te_ud]\n",
    "\n",
    "result_formatted = [f'{round(np.mean(np.array(tr_as)),2)}+/-{round(np.std(np.array(tr_as)),3)}',\n",
    "                    f'{round(np.mean(np.array(te_as)),2)}+/-{round(np.std(np.array(te_as)),3)}',\n",
    "                    f'{round(np.mean(np.array(te_ud)),2)}+/-{round(np.std(np.array(te_ud)),3)}']\n",
    "\n",
    "# print final formatted result to screen\n",
    "print(result_formatted)\n",
    "            \n",
    "# save results\n",
    "# pickle.dump(results, open('Results\\\\results_final_20_unbalanced_mc.p', 'wb'))"
   ]
  },
  {
   "cell_type": "markdown",
   "id": "833683d2",
   "metadata": {},
   "source": [
    "#### Confusion matrix analysis"
   ]
  },
  {
   "cell_type": "code",
   "execution_count": 25,
   "id": "f31400ac",
   "metadata": {},
   "outputs": [],
   "source": [
    "# split the data in to train and test for each random seed\n",
    "X_train, X_test, y_train, y_test = train_test_split(X, y, test_size=1/5, random_state=42)\n",
    "\n",
    "# oversample to get balanced dataset\n",
    "X_train, y_train = oversample.fit_resample(X_train, y_train)\n",
    "X_test, y_test = oversample.fit_resample(X_test, y_test)\n",
    "\n",
    "# get data in required format for XGBoost\n",
    "dtrain = xgb.DMatrix(X_train, label=y_train, feature_names=list(dic.values()))\n",
    "dtest = xgb.DMatrix(X_test, label=y_test, feature_names=list(dic.values()))\n",
    "\n",
    "# using Learning API in XGBoost so that can store feature_names within the dMatrix\n",
    "estimator = xgb.train(params, dtrain, num_boost_round, verbose_eval=False)"
   ]
  },
  {
   "cell_type": "code",
   "execution_count": 26,
   "id": "219ee93b",
   "metadata": {},
   "outputs": [],
   "source": [
    "cf_mtx = confusion_matrix(y_test, [pred for pred in estimator.predict(dtest)], \n",
    "                          labels=[0,1,2,3])"
   ]
  },
  {
   "cell_type": "code",
   "execution_count": 28,
   "id": "022523d8",
   "metadata": {},
   "outputs": [
    {
     "data": {
      "image/png": "[encoded data removed]",
      "text/plain": [
       "<Figure size 360x288 with 2 Axes>"
      ]
     },
     "metadata": {
      "needs_background": "light"
     },
     "output_type": "display_data"
    }
   ],
   "source": [
    "# function from help_functions\n",
    "make_confusion_matrix(cf_mtx, categories=['ACE-I','Thiazide','CCB','ARB'], cmap='binary', \n",
    "                      figsize=(5,4), title=None)\n",
    "plt.savefig('confusion_matrix_42.jpg', format='jpg', dpi=300)"
   ]
  },
  {
   "cell_type": "markdown",
   "id": "090c5128",
   "metadata": {},
   "source": [
    "#### Vizualisation"
   ]
  },
  {
   "cell_type": "code",
   "execution_count": 19,
   "id": "b1535877",
   "metadata": {},
   "outputs": [],
   "source": [
    "# shorten name\n",
    "dic[2]='Drugs For Urinary Frequency'"
   ]
  },
  {
   "cell_type": "code",
   "execution_count": 20,
   "id": "e8e364f0",
   "metadata": {},
   "outputs": [],
   "source": [
    "# train on all data\n",
    "estimator = xgb.train(params, xgb.DMatrix(X, label=y, feature_names=list(dic.values())), \n",
    "                      num_boost_round, verbose_eval=False)"
   ]
  },
  {
   "cell_type": "code",
   "execution_count": 21,
   "id": "d3563e35",
   "metadata": {},
   "outputs": [
    {
     "data": {
      "image/png": "[encoded data removed]",
      "text/plain": [
       "<Figure size 576x288 with 1 Axes>"
      ]
     },
     "metadata": {
      "needs_background": "light"
     },
     "output_type": "display_data"
    }
   ],
   "source": [
    "topk = 5\n",
    "\n",
    "# sort model importances and take top k\n",
    "sorted_importance = {k:v for k,v in sorted(estimator.get_score(importance_type='gain').items(),\n",
    "                                           key=lambda item: item[1], reverse=True)[:topk]}\n",
    "\n",
    "df = pd.DataFrame({'Feature': list(sorted_importance.keys())[:topk],\n",
    "                   'Importance': 100*np.array(list(sorted_importance.values())[:topk])/\\\n",
    "                                 max(np.array(list(sorted_importance.values())))})\n",
    "ax = df.plot(x='Feature', kind='barh', figsize=(8,4))\n",
    "ax.invert_yaxis()\n",
    "plt.xlabel('Percent Importance (%)', labelpad=8, fontsize='large', fontweight='demibold')\n",
    "plt.ylabel('Feature', fontsize='large', fontweight='demibold')\n",
    "plt.grid(axis='x')\n",
    "ax.set_xticks(ticks=np.linspace(0,100,11))\n",
    "plt.savefig('feature_importance_mc.jpg', format='jpg', dpi=300, bbox_inches='tight')\n",
    "plt.show()"
   ]
  },
  {
   "cell_type": "code",
   "execution_count": null,
   "id": "6bd17cbc",
   "metadata": {},
   "outputs": [],
   "source": []
  },
  {
   "cell_type": "code",
   "execution_count": null,
   "id": "51d32c13",
   "metadata": {},
   "outputs": [],
   "source": []
  },
  {
   "cell_type": "code",
   "execution_count": null,
   "id": "2b063ea8",
   "metadata": {},
   "outputs": [],
   "source": []
  }
 ],
 "metadata": {
  "kernelspec": {
   "display_name": "Python 3",
   "language": "python",
   "name": "python3"
  },
  "language_info": {
   "codemirror_mode": {
    "name": "ipython",
    "version": 3
   },
   "file_extension": ".py",
   "mimetype": "text/x-python",
   "name": "python",
   "nbconvert_exporter": "python",
   "pygments_lexer": "ipython3",
   "version": "3.8.5"
  }
 },
 "nbformat": 4,
 "nbformat_minor": 5
}
