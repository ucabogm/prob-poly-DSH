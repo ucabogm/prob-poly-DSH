{
 "cells": [
  {
   "cell_type": "markdown",
   "id": "490d9763",
   "metadata": {},
   "source": [
    "# Setup\n",
    "\n",
    "Import basic packages and bring in lookup tables for clinical conditions and medications and pre-defined mapping functions.\n",
    "\n",
    "#### Packages"
   ]
  },
  {
   "cell_type": "code",
   "execution_count": 1,
   "id": "62c6bd0c",
   "metadata": {},
   "outputs": [],
   "source": [
    "import pandas as pd\n",
    "import numpy as np\n",
    "import pickle\n",
    "from datetime import datetime, timedelta\n",
    "import random\n",
    "from tqdm import tqdm\n",
    "import matplotlib.pyplot as plt\n",
    "# set number of rows pandas dataframe displays\n",
    "pd.set_option('display.max_rows', 3000)"
   ]
  },
  {
   "cell_type": "markdown",
   "id": "d291b244",
   "metadata": {},
   "source": [
    "#### Lookup tables"
   ]
  },
  {
   "cell_type": "code",
   "execution_count": 2,
   "id": "4ff60247",
   "metadata": {},
   "outputs": [],
   "source": [
    "lkp_med = pd.read_csv('S:\\CALIBER_17_205R\\MSc\\Oliver\\Lookup Tables\\lookup_medical_table.csv', sep=',')\n",
    "lkp_med_code_dic = pickle.load(open('S:\\CALIBER_17_205R\\MSc\\Oliver\\Python Code\\lkp_med_code_dic.p', 'rb'))\n",
    "lkp_med_term_dic = pickle.load(open('S:\\CALIBER_17_205R\\MSc\\Oliver\\Python Code\\lkp_med_term_dic.p', 'rb'))\n",
    "\n",
    "lkp_bnf = pd.read_csv('S:\\CALIBER_17_205R\\MSc\\Oliver\\Lookup Tables\\lookup_bnf_table.csv', \n",
    "                      sep=',', dtype={'bnfcode':str, 'bnf':str})\n",
    "\n",
    "lkp_prd = pd.read_csv('S:\\CALIBER_17_205R\\MSc\\Oliver\\Lookup Tables\\lookup_product_table.csv', sep=',', \n",
    "                      low_memory=False)"
   ]
  },
  {
   "cell_type": "markdown",
   "id": "5be749b7",
   "metadata": {},
   "source": [
    "#### Mappings from helper_functions"
   ]
  },
  {
   "cell_type": "code",
   "execution_count": 3,
   "id": "5d315ffa",
   "metadata": {},
   "outputs": [],
   "source": [
    "from helper_functions import medcode_to_read, medcode_to_term, read_to_medcode, cprd_to_bnf, bnf_to_chapter"
   ]
  },
  {
   "cell_type": "markdown",
   "id": "7ada3985",
   "metadata": {},
   "source": [
    "#### Patid lists relating to readcodes of interest\n",
    "\n",
    "Bring in required data and get high-level positive/negative patid lists"
   ]
  },
  {
   "cell_type": "code",
   "execution_count": 4,
   "id": "5188c5a2",
   "metadata": {},
   "outputs": [],
   "source": [
    "df_c_max = pd.read_csv(r'S:\\CALIBER_17_205R\\MSc\\Oliver\\MySQL Output\\5_analysis\\clinical_5_max_84_after.txt', \n",
    "                       sep='\\t', names=['patid','eventdate','medcode','episode','enttype','adid'])\n",
    "df_c_max['readcode'] = df_c_max['medcode'].apply(medcode_to_read, args=(lkp_med_code_dic,))\n",
    "df_c_max['readterm'] = df_c_max['medcode'].apply(medcode_to_term, args=(lkp_med_term_dic,))\n",
    "df_c_max = df_c_max.drop(columns = ['medcode'])\n",
    "\n",
    "df_f = pd.read_csv(r'S:\\CALIBER_17_205R\\MSc\\Oliver\\MySQL Output\\5_analysis\\flags_5.txt', sep='\\t')\n",
    "df_f = df_f[['patid','min_eventdate_5','max_eventdate_5_less_6_month','max_eventdate_5','max_eventdate',\n",
    "             'stopped_in_data']]\n",
    "\n",
    "patids_1 = df_f[df_f['stopped_in_data']==1]['patid'].unique()\n",
    "patids_0 = df_f[df_f['stopped_in_data']==0]['patid'].unique()"
   ]
  },
  {
   "cell_type": "markdown",
   "id": "59d12661",
   "metadata": {},
   "source": [
    "Patid lists relating to generic readcodes"
   ]
  },
  {
   "cell_type": "code",
   "execution_count": 5,
   "id": "03e3b7be",
   "metadata": {},
   "outputs": [
    {
     "name": "stdout",
     "output_type": "stream",
     "text": [
      "patids_med_rvw: 83295\n",
      "patids_med_cng: 6745\n",
      "patids_cnd_imp: 7332\n",
      "patids_eha: 11524\n",
      "patids_cas: 31753\n",
      "patids_ane: 4119\n",
      "patids_died: 72154\n"
     ]
    }
   ],
   "source": [
    "# medication review terms taken from Medication Review - Best Practice Guidelinees (Dudley NHS), with additional codes\n",
    "patids_med_rvw = df_c_max[df_c_max['readterm'].isin(['Medication review done by pharmacist',\n",
    "                                                     'Medication review',\n",
    "                                                     'Medication review done',\n",
    "                                                     'Medication review with patient',\n",
    "                                                     'Medication review with nurse',\n",
    "                                                     'Medication review by pharmacy technician',\n",
    "                                                     'Medication review of medical notes',\n",
    "                                                     'Medication review without patient'])]['patid'].unique()\n",
    "print(f'patids_med_rvw: {len(patids_med_rvw)}')\n",
    "\n",
    "patids_med_cng = df_c_max[df_c_max['readterm'].isin(['Medication changed'])]['patid'].unique()\n",
    "print(f'patids_med_cng: {len(patids_med_cng)}')\n",
    "\n",
    "patids_cnd_imp = df_c_max[df_c_max['readterm'].isin([\"Patient's condition improved\"])]['patid'].unique()\n",
    "print(f'patids_cnd_imp: {len(patids_cnd_imp)}')\n",
    "\n",
    "patids_eha = df_c_max[df_c_max['readterm'].isin(['Emergency hospital admission'])]['patid'].unique()\n",
    "print(f'patids_eha: {len(patids_eha)}')\n",
    "\n",
    "patids_cas = df_c_max[df_c_max['readterm'].isin(['Seen in hospital casualty'])]['patid'].unique()\n",
    "print(f'patids_cas: {len(patids_cas)}')\n",
    "\n",
    "patids_ane = df_c_max[df_c_max['readterm'].isin(['Seen by accident and emergency doctor'])]['patid'].unique()\n",
    "print(f'patids_ane: {len(patids_ane)}')\n",
    "\n",
    "# read terms for death taken from LSHTM clinical code lists\n",
    "read_death = pd.read_csv(r'S:\\CALIBER_17_205R\\MSc\\Oliver\\Clinical Code Lists\\Clinical_codelist_Read_death.txt',\n",
    "                         sep='\\t')\n",
    "patids_died = df_c_max[df_c_max['readcode'].isin(list(read_death['readcode']))]['patid'].unique()\n",
    "print(f'patids_died: {len(patids_died)}')"
   ]
  },
  {
   "cell_type": "markdown",
   "id": "e8054d29",
   "metadata": {},
   "source": [
    "Patid lists relating to medication specific readcodes"
   ]
  },
  {
   "cell_type": "code",
   "execution_count": 6,
   "id": "c64e2fe4",
   "metadata": {},
   "outputs": [
    {
     "name": "stdout",
     "output_type": "stream",
     "text": [
      "patids_cou: 51736\n"
     ]
    }
   ],
   "source": [
    "patids_cou = df_c_max[df_c_max['readterm'].isin(['Cough',\n",
    "                                                 'C/O - cough',\n",
    "                                                 'Dry cough'])]['patid'].unique()\n",
    "print(f'patids_cou: {len(patids_cou)}')"
   ]
  },
  {
   "cell_type": "markdown",
   "id": "5cb82b06",
   "metadata": {},
   "source": [
    "### Define labels/targets of interest\n",
    "\n",
    "Create a selection of labels/targets to fit classifiers to and to test predictive ability against.\n",
    "\n",
    "#### Positive instances\n",
    "\n",
    "Focussed on combinations of patients being taken off the medication coinciding with:\n",
    "- an admission to hospital, further narrowed down by additional filters for medication reviews, medication changes coded in to the data and indications that the patient has not been taken off the medication because their condition has improved\n",
    "- a complaint of a known side-effect of the drug, further narrowed down with additional filters as above"
   ]
  },
  {
   "cell_type": "code",
   "execution_count": 7,
   "id": "6c2b63a8",
   "metadata": {},
   "outputs": [],
   "source": [
    "# 1a. patients taken off medication AND preceeded by an emergency hospital admission\n",
    "patids_v1a_pos = list(set.intersection(set(patids_1), set(patids_eha)))\n",
    "\n",
    "# 1b. patients taken off medication AND preceeded by hospital casualty\n",
    "patids_v1b_pos = list(set.intersection(set(patids_1), set(patids_cas)))\n",
    "\n",
    "# 1c. patients taken off medication AND preceeded by being seen by an A&E doctor\n",
    "patids_v1c_pos = list(set.intersection(set(patids_1), set(patids_ane)))\n",
    "\n",
    "# 1d. patients taken off medication AND preceeded by an emergency admission OR hospital casualty OR seen by A&E doc\n",
    "patids_v1d_pos = list(set.union(set.union(set(patids_v1a_pos), set(patids_v1b_pos)), set(patids_v1c_pos)))\n",
    "\n",
    "# 1e. patients from 1d. AND medication review\n",
    "patids_v1e_pos = list(set.intersection(set(patids_v1d_pos), set(patids_med_rvw)))\n",
    "\n",
    "# 1f. patients from 1d. AND medication change\n",
    "patids_v1f_pos = list(set.intersection(set(patids_v1d_pos), set(patids_med_cng)))\n",
    "\n",
    "# 1g. patients from 1d. AND NOT condition improved\n",
    "patids_cnd_not_imp = list(set(patids_1) - set(patids_cnd_imp))\n",
    "patids_v1g_pos = list(set.intersection(set(patids_v1d_pos), set(patids_cnd_not_imp)))\n",
    "\n",
    "\n",
    "# 2a. patients taken off medication AND preceeded by a cough\n",
    "patids_v2a_pos = list(set.intersection(set(patids_1), set(patids_cou)))\n",
    "\n",
    "# 2b. patients taken off medication AND preceeded by a cough AND medication review\n",
    "patids_v2b_pos = list(set.intersection(set(patids_v2a_pos), set(patids_med_rvw)))\n",
    "\n",
    "# 2c. patients taken off medication AND preceeded by a cough AND medication change\n",
    "patids_v2c_pos = list(set.intersection(set(patids_v2a_pos), set(patids_med_cng)))\n",
    "\n",
    "# 2d. patients taken off medication AND preceeded by a cough AND NOT condition improved\n",
    "patids_cnd_not_imp = list(set(patids_1) - set(patids_cnd_imp))\n",
    "patids_v2d_pos = list(set.intersection(set(patids_v2a_pos), set(patids_cnd_not_imp)))"
   ]
  },
  {
   "cell_type": "code",
   "execution_count": 8,
   "id": "07e37fce",
   "metadata": {},
   "outputs": [],
   "source": [
    "patids_pos = list(set.union(set(patids_v1d_pos), set(patids_v2a_pos)))"
   ]
  },
  {
   "cell_type": "markdown",
   "id": "1fff9de7",
   "metadata": {},
   "source": [
    "#### Negative instances\n",
    "\n",
    "Make baseline set as general as possible whilst remaining distinct to the positive instances of the target labels. \n",
    "\n",
    "A suitable baseline group has been chosen for each positive group e.g. a patient developing a side effect after the last prescription of medication in the data but without an emergency hospital admission would be a suitable baseline case for v1 but not for v2.\n",
    "\n",
    "Due to restrictions on the computational capacity avaliable, unblanaced data is dealt with by matching the size of the baseline/negative isntances class to the size of the positive class."
   ]
  },
  {
   "cell_type": "code",
   "execution_count": 9,
   "id": "e5e644b9",
   "metadata": {},
   "outputs": [],
   "source": [
    "# patients NOT taken off medication, with NOT hospital admission following the last prescription AND NOT dead\n",
    "n_v1 = len(patids_v1d_pos)\n",
    "np.random.seed(0)\n",
    "patids_v1_neg = np.random.choice(list(set(patids_0)-set(patids_eha)-set(patids_cas)-set(patids_ane)-set(patids_died)), \n",
    "                                 size=n_v1, replace=False)\n",
    "\n",
    "# patients NOT taken off medication, with NOT a cough following the last prescription AND NOT dead\n",
    "n_v2 = len(patids_v2a_pos)\n",
    "np.random.seed(0)\n",
    "patids_v2_neg = np.random.choice(list(set(patids_0)-set(patids_cou)-set(patids_died)), \n",
    "                                 size=n_v2, replace=False)"
   ]
  },
  {
   "cell_type": "code",
   "execution_count": 10,
   "id": "2e028af8",
   "metadata": {},
   "outputs": [],
   "source": [
    "patids_neg = list(set.union(set(patids_v1_neg), set(patids_v2_neg)))"
   ]
  },
  {
   "cell_type": "markdown",
   "id": "4ec8b440",
   "metadata": {},
   "source": [
    "#### Full patient list"
   ]
  },
  {
   "cell_type": "code",
   "execution_count": 11,
   "id": "52729856",
   "metadata": {},
   "outputs": [],
   "source": [
    "patids = list(set.union(set(patids_pos), set(patids_neg)))"
   ]
  },
  {
   "cell_type": "markdown",
   "id": "69cafbf0",
   "metadata": {},
   "source": [
    "# Bring in pre-processed data to build stat_dic from\n",
    "\n",
    "Data has been pre-processed in SQL prior to bringing in to this workbook."
   ]
  },
  {
   "cell_type": "code",
   "execution_count": 12,
   "id": "18be5381",
   "metadata": {},
   "outputs": [],
   "source": [
    "# clinical data from start up to 84 days after the last date of prescription of medication\n",
    "df_c = pd.read_csv(r'S:\\CALIBER_17_205R\\MSc\\Oliver\\MySQL Output\\5_analysis\\clinical_5.txt', \n",
    "                   sep='\\t', names=['patid','eventdate','medcode','episode','enttype','adid'])\n",
    "\n",
    "# therapy data from minium date of presctiption to 84 days prior\n",
    "df_t_min = pd.read_csv(r'S:\\CALIBER_17_205R\\MSc\\Oliver\\MySQL Output\\5_analysis\\therapy_5_min_84_before.txt', \n",
    "                       sep='\\t', names=['patid','eventdate','consid','prodcode','dosageid','bnfcode','qty','numdays'],\n",
    "                       dtype={'qty':str})\n",
    "\n",
    "# therapy data from 6 months prior to last date of prescription of medication to 84 days prior\n",
    "df_t_max_6 = pd.read_csv(r'S:\\CALIBER_17_205R\\MSc\\Oliver\\MySQL Output\\5_analysis\\therapy_5_max_6_mnth_84_before.txt', \n",
    "                       sep='\\t', names=['patid','eventdate','consid','prodcode','dosageid','bnfcode','qty','numdays'],\n",
    "                       dtype={'qty':str})\n",
    "\n",
    "# patient data for all patients recieving at least one instance of the medication\n",
    "df_p = pd.read_csv(r'S:\\CALIBER_17_205R\\MSc\\Oliver\\MySQL Output\\5_analysis\\patient_5.txt', sep='\\t')"
   ]
  },
  {
   "cell_type": "markdown",
   "id": "41db239b",
   "metadata": {},
   "source": [
    "Due to the size of the data and the limits on computational capacity we immediately cut the data down to the size required for subsequent analysis as per the full patient listing above."
   ]
  },
  {
   "cell_type": "code",
   "execution_count": 13,
   "id": "72f33630",
   "metadata": {},
   "outputs": [],
   "source": [
    "df_c = df_c[df_c['patid'].isin(patids)]\n",
    "df_c['readcode'] = df_c['medcode'].apply(medcode_to_read, args=(lkp_med_code_dic,))\n",
    "df_c['readterm'] = df_c['medcode'].apply(medcode_to_term, args=(lkp_med_term_dic,))\n",
    "df_c = df_c.drop(columns = ['medcode'])\n",
    "\n",
    "df_t_min = df_t_min[df_t_min['patid'].isin(patids)]\n",
    "\n",
    "df_t_max_6 = df_t_max_6[df_t_max_6['patid'].isin(patids)]\n",
    "\n",
    "df_f = df_f[df_f['patid'].isin(patids)]\n",
    "\n",
    "df_p = df_p[df_p['patid'].isin(patids)]"
   ]
  },
  {
   "cell_type": "markdown",
   "id": "2e4f1b68",
   "metadata": {},
   "source": [
    "# Build stat_dic"
   ]
  },
  {
   "cell_type": "markdown",
   "id": "e41396be",
   "metadata": {},
   "source": [
    "#### Mappings from helper_functions"
   ]
  },
  {
   "cell_type": "code",
   "execution_count": 14,
   "id": "0278dd60",
   "metadata": {},
   "outputs": [],
   "source": [
    "from helper_functions import build_stat_dic"
   ]
  },
  {
   "cell_type": "markdown",
   "id": "bfa3eea6",
   "metadata": {},
   "source": [
    "Construct target_dic from the labels/targets specified up top, and feed to the build_stat_dic function along with the medication specific pre-processed data."
   ]
  },
  {
   "cell_type": "code",
   "execution_count": 15,
   "id": "b95d1b86",
   "metadata": {},
   "outputs": [
    {
     "name": "stderr",
     "output_type": "stream",
     "text": [
      "100%|████████████████████████████████████████████████████████████████████████| 125969/125969 [5:06:05<00:00,  6.86it/s]\n"
     ]
    }
   ],
   "source": [
    "target_dic = {'patids_v1_neg' :patids_v1_neg,\n",
    "              'patids_v1a_pos':patids_v1a_pos,\n",
    "              'patids_v1b_pos':patids_v1b_pos,\n",
    "              'patids_v1c_pos':patids_v1c_pos,\n",
    "              'patids_v1d_pos':patids_v1d_pos,\n",
    "              'patids_v1e_pos':patids_v1e_pos,\n",
    "              'patids_v1f_pos':patids_v1f_pos,\n",
    "              'patids_v1g_pos':patids_v1g_pos,\n",
    "              'patids_v2_neg' :patids_v2_neg,\n",
    "              'patids_v2a_pos':patids_v2a_pos,\n",
    "              'patids_v2b_pos':patids_v2b_pos,\n",
    "              'patids_v2c_pos':patids_v2c_pos,\n",
    "              'patids_v2d_pos':patids_v2d_pos}\n",
    "\n",
    "stat_dic_5 = build_stat_dic(patids, str(5), df_c, df_t_min, df_t_max_6, df_f, df_p, target_dic, tdqm_display=True)"
   ]
  },
  {
   "cell_type": "markdown",
   "id": "9e5f9961",
   "metadata": {},
   "source": [
    "#### Save stat_dic"
   ]
  },
  {
   "cell_type": "code",
   "execution_count": 16,
   "id": "d9b4d75b",
   "metadata": {},
   "outputs": [],
   "source": [
    "pickle.dump(stat_dic_5, open('stat_dic_5.p', 'wb'))"
   ]
  },
  {
   "cell_type": "code",
   "execution_count": null,
   "id": "cf872bff",
   "metadata": {},
   "outputs": [],
   "source": []
  }
 ],
 "metadata": {
  "kernelspec": {
   "display_name": "Python 3",
   "language": "python",
   "name": "python3"
  },
  "language_info": {
   "codemirror_mode": {
    "name": "ipython",
    "version": 3
   },
   "file_extension": ".py",
   "mimetype": "text/x-python",
   "name": "python",
   "nbconvert_exporter": "python",
   "pygments_lexer": "ipython3",
   "version": "3.8.5"
  }
 },
 "nbformat": 4,
 "nbformat_minor": 5
}
