{
 "cells": [
  {
   "cell_type": "markdown",
   "id": "70af469d",
   "metadata": {},
   "source": [
    "# Setup\n",
    "\n",
    "Import basic packages and bring in lookup tables for clinical conditions and medications and pre-defined mapping functions.\n",
    "\n",
    "#### Packages"
   ]
  },
  {
   "cell_type": "code",
   "execution_count": 1,
   "id": "5a20bb02",
   "metadata": {},
   "outputs": [],
   "source": [
    "import pandas as pd\n",
    "import numpy as np\n",
    "import pickle\n",
    "from datetime import datetime, timedelta\n",
    "import random\n",
    "from tqdm import tqdm\n",
    "import matplotlib.pyplot as plt\n",
    "from itertools import combinations\n",
    "# set number of rows pandas dataframe displays\n",
    "pd.set_option('display.max_rows', 3000)"
   ]
  },
  {
   "cell_type": "markdown",
   "id": "65d0caa2",
   "metadata": {},
   "source": [
    "#### Lookup tables"
   ]
  },
  {
   "cell_type": "code",
   "execution_count": 2,
   "id": "e5df403c",
   "metadata": {},
   "outputs": [],
   "source": [
    "lkp_med = pd.read_csv('S:\\CALIBER_17_205R\\MSc\\Oliver\\Lookup Tables\\lookup_medical_table.csv', sep=',')\n",
    "lkp_med_code_dic = pickle.load(open('S:\\CALIBER_17_205R\\MSc\\Oliver\\Python Code\\lkp_med_code_dic.p', 'rb'))\n",
    "lkp_med_term_dic = pickle.load(open('S:\\CALIBER_17_205R\\MSc\\Oliver\\Python Code\\lkp_med_term_dic.p', 'rb'))\n",
    "\n",
    "lkp_bnf = pd.read_csv('S:\\CALIBER_17_205R\\MSc\\Oliver\\Lookup Tables\\lookup_bnf_table.csv', \n",
    "                      sep=',', dtype={'bnfcode':str, 'bnf':str})\n",
    "\n",
    "lkp_prd = pd.read_csv('S:\\CALIBER_17_205R\\MSc\\Oliver\\Lookup Tables\\lookup_product_table.csv', sep=',', \n",
    "                      low_memory=False)"
   ]
  },
  {
   "cell_type": "markdown",
   "id": "49221901",
   "metadata": {},
   "source": [
    "#### Mappings from helper_functions"
   ]
  },
  {
   "cell_type": "code",
   "execution_count": 3,
   "id": "40bdfe6b",
   "metadata": {},
   "outputs": [],
   "source": [
    "from helper_functions import medcode_to_read, medcode_to_term, read_to_medcode, cprd_to_bnf, bnf_to_chapter\n",
    "from helper_functions import get_stat_dic"
   ]
  },
  {
   "cell_type": "markdown",
   "id": "ff8b6208",
   "metadata": {},
   "source": [
    "#### Disease readcode lists\n",
    "\n",
    "Predominantly taken from ClinicalCodes.org"
   ]
  },
  {
   "cell_type": "code",
   "execution_count": 4,
   "id": "f80e9c2b",
   "metadata": {},
   "outputs": [],
   "source": [
    "# diabetes\n",
    "db_csv = pd.read_csv(r'S:\\CALIBER_17_205R\\MSc\\Oliver\\Clinical Code Lists\\diabetes.csv', sep=',')\n",
    "diabetes_readcodes = list(db_csv['code'])\n",
    "\n",
    "# heart-failure\n",
    "hf_csv = pd.read_csv(r'S:\\CALIBER_17_205R\\MSc\\Oliver\\Clinical Code Lists\\heart-failure.csv', sep=',')\n",
    "heartfailure_readcodes = list(hf_csv['code'])\n",
    "\n",
    "# thrombosis\n",
    "tm_csv = pd.read_csv(r'S:\\CALIBER_17_205R\\MSc\\Oliver\\Clinical Code Lists\\res25-p16_thrombosis.csv', sep=',')\n",
    "thrombosis_readcodes = list(tm_csv['code'])\n",
    "\n",
    "# mild-liver-disease\n",
    "ld_csv = pd.read_csv(r'S:\\CALIBER_17_205R\\MSc\\Oliver\\Clinical Code Lists\\res27-mild-liver-disease.csv', sep=',')\n",
    "liverdisease_readcodes = list(ld_csv['code'])\n",
    "\n",
    "# renal-disease\n",
    "rd_csv = pd.read_csv(r'S:\\CALIBER_17_205R\\MSc\\Oliver\\Clinical Code Lists\\res27-renal-disease.csv', sep=',')\n",
    "renaldisease_readcodes = list(rd_csv['code'])\n",
    "\n",
    "# hypertension\n",
    "ht_csv = pd.read_csv(r'S:\\CALIBER_17_205R\\MSc\\Oliver\\Clinical Code Lists\\hypertension.csv', sep=',')\n",
    "hypertension_readcodes = list(ht_csv['code'])"
   ]
  },
  {
   "cell_type": "markdown",
   "id": "e648e79e",
   "metadata": {},
   "source": [
    "Construct disease_dic from the readcodes specified above, to feed into the build_data function"
   ]
  },
  {
   "cell_type": "code",
   "execution_count": 5,
   "id": "ac8da318",
   "metadata": {},
   "outputs": [],
   "source": [
    "disease_dic = {'db':diabetes_readcodes,\n",
    "               'hf':heartfailure_readcodes,\n",
    "               'tm':thrombosis_readcodes,\n",
    "               'ld':liverdisease_readcodes,\n",
    "               'rd':renaldisease_readcodes,\n",
    "               'ht':hypertension_readcodes}"
   ]
  },
  {
   "cell_type": "markdown",
   "id": "51cf11be",
   "metadata": {},
   "source": [
    "# Testing Generalizability\n",
    "\n",
    "#### Packages\n",
    "\n",
    "Packages imported from SKLearn, XGBoost and user-defined functions"
   ]
  },
  {
   "cell_type": "code",
   "execution_count": 6,
   "id": "da910ef7",
   "metadata": {},
   "outputs": [],
   "source": [
    "from sklearn.model_selection import train_test_split\n",
    "from sklearn.model_selection import KFold\n",
    "from sklearn.model_selection import GridSearchCV\n",
    "from sklearn.decomposition import PCA\n",
    "from sklearn.decomposition import SparsePCA\n",
    "from sklearn.decomposition import KernelPCA\n",
    "from sklearn.decomposition import TruncatedSVD\n",
    "from sklearn.metrics import accuracy_score\n",
    "from sklearn.metrics import precision_score\n",
    "from sklearn.metrics import recall_score\n",
    "from sklearn.metrics import f1_score\n",
    "from sklearn.metrics import roc_auc_score\n",
    "from sklearn.metrics import precision_recall_curve\n",
    "from sklearn.metrics import plot_precision_recall_curve\n",
    "from sklearn.metrics import average_precision_score\n",
    "from sklearn.metrics import roc_curve\n",
    "from sklearn.metrics import plot_roc_curve\n",
    "\n",
    "from sklearn import tree\n",
    "from sklearn.ensemble import RandomForestClassifier\n",
    "import xgboost as xgb\n",
    "\n",
    "from helper_functions import add_neg_patids, build_data"
   ]
  },
  {
   "cell_type": "markdown",
   "id": "f84bb36b",
   "metadata": {},
   "source": [
    "Cross-validation will be done over 5 folds"
   ]
  },
  {
   "cell_type": "code",
   "execution_count": 7,
   "id": "571a3793",
   "metadata": {},
   "outputs": [],
   "source": [
    "k_folds = 5\n",
    "kf = KFold(n_splits=k_folds, shuffle=True, random_state=0)"
   ]
  },
  {
   "cell_type": "markdown",
   "id": "5ed1f98e",
   "metadata": {},
   "source": [
    "## 1. Test 135 model on other hypertensives + drugs"
   ]
  },
  {
   "cell_type": "markdown",
   "id": "b25fdb94",
   "metadata": {},
   "source": [
    "#### Load estimator from 135 analysis"
   ]
  },
  {
   "cell_type": "code",
   "execution_count": 8,
   "id": "24d447e3",
   "metadata": {},
   "outputs": [],
   "source": [
    "# best estimator from grid search on 135 data\n",
    "# estimator = pickle.load(open(r'S:\\CALIBER_17_205R\\MSc\\Oliver\\Python Code\\135_analysis\\model_all_data_135.p', 'rb'))\n",
    "# estimator = pickle.load(open(r'S:\\CALIBER_17_205R\\MSc\\Oliver\\Python Code\\model_best.p', 'rb'))\n",
    "# estimator = pickle.load(open(r'S:\\CALIBER_17_205R\\MSc\\Oliver\\Python Code\\model_best_on_84.p', 'rb'))\n",
    "estimator_135 = pickle.load(open(r'S:\\CALIBER_17_205R\\MSc\\Oliver\\Python Code\\135_analysis\\model_eha_unbalanced_135.p', 'rb'))\n",
    "\n",
    "# target, version and eventdate of selected classifier\n",
    "target = 'patids_v1a_pos'\n",
    "version = 'v1'\n",
    "eventdate = 'eventdate_min'\n",
    "filter_type = '12_mnth'\n",
    "\n",
    "# features used in selected classifier\n",
    "feature_dic = {'patient_profile':True,\n",
    "               'drug_metrics_profile':True,\n",
    "               'bnf_profile':True,\n",
    "               'bnf_pca_profile':{'include':False,\n",
    "                                  'pca':None},\n",
    "               'disease_profile':True}"
   ]
  },
  {
   "cell_type": "markdown",
   "id": "d50a3319",
   "metadata": {},
   "source": [
    "#### Loop through hypertension + drugs and evaluate"
   ]
  },
  {
   "cell_type": "code",
   "execution_count": 26,
   "id": "431336a8",
   "metadata": {},
   "outputs": [
    {
     "name": "stdout",
     "output_type": "stream",
     "text": [
      "[5, '0.82+/-0.01']\n",
      "[17, '0.81+/-0.01']\n",
      "[135, '0.85+/-0.01']\n",
      "[142, '0.79+/-0.02']\n",
      "[150, '0.68+/-0.01']\n",
      "[84, '0.67+/-0.05']\n"
     ]
    }
   ],
   "source": [
    "drug_list = [5, 17, 135, 142, 150, 84]\n",
    "\n",
    "results = []\n",
    "results_formatted = []\n",
    "\n",
    "for drug in drug_list:\n",
    "\n",
    "    # initialize test AUC score lists\n",
    "    te_au = []\n",
    "    \n",
    "    # load and unpack stat_dic for each drug\n",
    "    stat_dic, target_list, patids_neg_dic, filter_6_mnth, filter_12_mnth = get_stat_dic(drug)\n",
    "    \n",
    "    # get a list of positive and negative patients as per the target, version and eventdate\n",
    "    patids_pos = [patid for patid in list(stat_dic.keys()) \n",
    "                    if stat_dic[patid]['target'][target][0]==1]\n",
    "    patids_pos = list(set.intersection(set(patids_pos), \n",
    "                                       set(filter_12_mnth) if filter_type=='12_mnth' else set(filter_6_mnth)))\n",
    "    patids_neg = list(set(patids_neg_dic[version]) - \\\n",
    "                                       set(filter_12_mnth) if filter_type=='12_mnth' else set(filter_6_mnth))\n",
    "\n",
    "    patids = patids_pos + patids_neg\n",
    "    random.seed(0)\n",
    "    random.shuffle(patids)\n",
    "    \n",
    "    # build X and y data for these patients\n",
    "    X, y, dic = build_data(stat_dic, patids, feature_dic, disease_dic, \n",
    "                           lkp_bnf, lkp_prd, eventdate, target, tdqm_display=False)\n",
    "    \n",
    "    k_fold_index_set = list(kf.split(X))\n",
    "    \n",
    "    for fold in range(k_folds):\n",
    "        # split the data in to the k-th fold using SKLearn k-fold split\n",
    "        _, test_idx = k_fold_index_set[fold]\n",
    "        _, _, X_test, y_test = _, _, X[test_idx], y[test_idx]\n",
    "    \n",
    "        # get data in required format for XGBoost\n",
    "        ddata = xgb.DMatrix(X_test, label=y_test, feature_names=list(dic.values()))\n",
    "        \n",
    "        # calculate required metrics for train and test then append to score lists\n",
    "        te_au.append(roc_auc_score(y_test, [round(pred) for pred in estimator_135.predict(ddata, output_margin=True)]))\n",
    "        ### requires output_margin=True when testing on AUC, otherwise False for e.g. accuracy ###\n",
    "\n",
    "    # calculate mean and standard deviation over the k-fold cross validation and append to results lists\n",
    "    result = [drug,\n",
    "              round(np.mean(np.array(te_au)),3),\n",
    "              round(np.std(np.array(te_au)),3)]       \n",
    "    results.append(result)\n",
    "\n",
    "    result_formatted = [drug,\n",
    "                        f'{round(np.mean(np.array(te_au)),2)}+/-{round(np.std(np.array(te_au)),2)}']\n",
    "    results_formatted.append(result_formatted)\n",
    "\n",
    "    # print result to screen\n",
    "    print(result_formatted)"
   ]
  },
  {
   "cell_type": "code",
   "execution_count": null,
   "id": "a2f86876",
   "metadata": {},
   "outputs": [],
   "source": [
    "# mean ages across drugs\n",
    "\n",
    "# 5: 63.614248145635315\n",
    "# 17: 65.92641654798555\n",
    "# 135: 65.68368214703445\n",
    "# 142: 66.91171431412003\n",
    "# 150: 76.12419712385608\n",
    "# 84: 48.34163192376414"
   ]
  },
  {
   "cell_type": "markdown",
   "id": "0fd23c64",
   "metadata": {},
   "source": [
    "## 2. Build a combined classifier"
   ]
  },
  {
   "cell_type": "markdown",
   "id": "c1ce5793",
   "metadata": {},
   "source": [
    "#### Combine the hypertension medication data"
   ]
  },
  {
   "cell_type": "code",
   "execution_count": 8,
   "id": "957c469c",
   "metadata": {},
   "outputs": [],
   "source": [
    "# target, version and eventdate of selected classifier\n",
    "target = 'patids_v1a_pos'\n",
    "version = 'v1'\n",
    "eventdate = 'eventdate_min'\n",
    "filter_type = '12_mnth'\n",
    "\n",
    "# features used in selected classifier\n",
    "feature_dic = {'patient_profile':True,\n",
    "               'drug_metrics_profile':True,\n",
    "               'bnf_profile':True,\n",
    "               'bnf_pca_profile':{'include':False,\n",
    "                                  'pca':None},\n",
    "               'disease_profile':True}\n",
    "\n",
    "X_comb = np.zeros((1, 2377)) # 2377 features with patient / drug_metric / bnf / disease profiles\n",
    "y_comb = np.zeros((1, 1))\n",
    "\n",
    "# list of drugs to aggregate data over - selected hypertensive drugs in this case\n",
    "drug_list = [5, 17, 135, 142]\n",
    "\n",
    "for drug in drug_list:\n",
    "    \n",
    "    # load and unpack stat_dic for each drug\n",
    "    stat_dic, target_list, patids_neg_dic, filter_6_mnth, filter_12_mnth = get_stat_dic(drug)\n",
    "    \n",
    "    # get a list of positive and negative patients as per the target, version and eventdate\n",
    "    patids_pos = [patid for patid in list(stat_dic.keys()) \n",
    "                    if stat_dic[patid]['target'][target][0]==1]\n",
    "    patids_pos = list(set.intersection(set(patids_pos), \n",
    "                                       set(filter_12_mnth) if filter_type=='12_mnth' else set(filter_6_mnth)))\n",
    "    patids_neg = list(set(patids_neg_dic[version]) - \\\n",
    "                                       set(filter_12_mnth) if filter_type=='12_mnth' else set(filter_6_mnth))\n",
    "\n",
    "    patids = patids_pos + patids_neg\n",
    "    random.seed(0)\n",
    "    random.shuffle(patids)\n",
    "    \n",
    "    # build X and y data for these patients\n",
    "    X, y, dic = build_data(stat_dic, patids, feature_dic, disease_dic, \n",
    "                           lkp_bnf, lkp_prd, eventdate, target, tdqm_display=False)\n",
    "    \n",
    "    X_comb = np.concatenate((X_comb, X), axis=0)\n",
    "    y_comb = np.concatenate((y_comb, y), axis=0)\n",
    "    \n",
    "X_comb = np.delete(X_comb, 0, axis=0)\n",
    "y_comb = np.delete(y_comb, 0, axis=0)\n",
    "\n",
    "# size of data\n",
    "n = len(X_comb)\n",
    "\n",
    "# shuffle data\n",
    "np.random.seed(0)\n",
    "shuffler = np.random.permutation(n)\n",
    "X_comb = X_comb[shuffler]\n",
    "y_comb = y_comb[shuffler]"
   ]
  },
  {
   "cell_type": "code",
   "execution_count": 9,
   "id": "645484f2",
   "metadata": {},
   "outputs": [],
   "source": [
    "# get weights for the unbalanced data\n",
    "w_0 = len(y_comb) / (2 * sum(y_comb==0))\n",
    "w_1 = len(y_comb) / (2 * sum(y_comb==1))"
   ]
  },
  {
   "cell_type": "markdown",
   "id": "ad50f751",
   "metadata": {},
   "source": [
    "#### Grid-search for best parameters"
   ]
  },
  {
   "cell_type": "code",
   "execution_count": 11,
   "id": "5cdff524",
   "metadata": {},
   "outputs": [],
   "source": [
    "# use test set for early stopping in GridSearch\n",
    "X_train, X_test, y_train, y_test = train_test_split(X_comb, y_comb, test_size=1/6, random_state=0)\n",
    "\n",
    "# use last dic from for loop to map columns to feature names (all dics should be the same)\n",
    "X_train_df = pd.DataFrame(data=X_train, columns=list(dic.values()))\n",
    "X_test_df = pd.DataFrame(data=X_test, columns=list(dic.values()))"
   ]
  },
  {
   "cell_type": "code",
   "execution_count": 10,
   "id": "c4934dd7",
   "metadata": {},
   "outputs": [
    {
     "data": {
      "text/plain": [
       "GridSearchCV(cv=5,\n",
       "             estimator=XGBClassifier(base_score=None, booster=None,\n",
       "                                     colsample_bylevel=None,\n",
       "                                     colsample_bynode=None,\n",
       "                                     colsample_bytree=None, gamma=None,\n",
       "                                     gpu_id=None, importance_type='gain',\n",
       "                                     interaction_constraints=None,\n",
       "                                     learning_rate=None, max_delta_step=None,\n",
       "                                     max_depth=None, min_child_weight=None,\n",
       "                                     missing=nan, monotone_constraints=None,\n",
       "                                     n_estimators=100, n_jobs...\n",
       "                                     num_parallel_tree=None, random_state=None,\n",
       "                                     reg_alpha=None, reg_lambda=None,\n",
       "                                     scale_pos_weight=None, subsample=None,\n",
       "                                     tree_method=None, use_label_encoder=False,\n",
       "                                     validate_parameters=None, verbosity=None),\n",
       "             param_grid={'eta': [0.1, 0.15, 0.2, 0.25, 0.3],\n",
       "                         'eval_metric': ['auc'], 'max_depth': [3, 4, 5, 6],\n",
       "                         'min_child_weight': [2, 4, 8, 16, 32, 64],\n",
       "                         'n_estimators': [200],\n",
       "                         'objective': ['binary:logistic']},\n",
       "             scoring='roc_auc')"
      ]
     },
     "execution_count": 10,
     "metadata": {},
     "output_type": "execute_result"
    }
   ],
   "source": [
    "grid_params = {'objective':['binary:logistic'], 'eval_metric':['auc'], \n",
    "               # if not gridsearch, set large enough that never reached because applying early stopping criteria\n",
    "               'n_estimators':[200], \n",
    "               'max_depth':[3,4,5,6], 'eta':[0.1,0.15,0.2,0.25,0.3], 'min_child_weight':[2,4,8,16,32,64]}\n",
    "\n",
    "# using SKLearn API for grid search and better printing of trees\n",
    "model = xgb.XGBClassifier(use_label_encoder=False)\n",
    "gridsearch = GridSearchCV(model, grid_params, scoring='roc_auc', refit=True, cv=5)\n",
    "gridsearch.fit(X_train_df, y_train.flatten(), sample_weight=[w_0 if y_train_i==0 else w_1 for y_train_i in y_train],\n",
    "               early_stopping_rounds=10, eval_set=[(X_test_df, y_test.flatten())],\n",
    "               verbose=False)"
   ]
  },
  {
   "cell_type": "code",
   "execution_count": 11,
   "id": "0d18cb0f",
   "metadata": {},
   "outputs": [
    {
     "data": {
      "text/plain": [
       "{'eta': 0.1,\n",
       " 'eval_metric': 'auc',\n",
       " 'max_depth': 4,\n",
       " 'min_child_weight': 64,\n",
       " 'n_estimators': 200,\n",
       " 'objective': 'binary:logistic'}"
      ]
     },
     "execution_count": 11,
     "metadata": {},
     "output_type": "execute_result"
    }
   ],
   "source": [
    "# best parameters\n",
    "gridsearch.best_params_\n",
    "\n",
    "# {'eta': 0.1,\n",
    "#  'eval_metric': 'auc',\n",
    "#  'max_depth': 4,\n",
    "#  'min_child_weight': 64,\n",
    "#  'n_estimators': 200,\n",
    "#  'objective': 'binary:logistic'}"
   ]
  },
  {
   "cell_type": "code",
   "execution_count": 10,
   "id": "a7cc0cac",
   "metadata": {},
   "outputs": [],
   "source": [
    "params = {'max_depth':4, 'eta':0.1, 'objective':'binary:logistic', 'eval_metric':'auc', 'min_child_weight':64}"
   ]
  },
  {
   "cell_type": "code",
   "execution_count": 18,
   "id": "01401de8",
   "metadata": {},
   "outputs": [
    {
     "data": {
      "text/plain": [
       "0.8283002506067934"
      ]
     },
     "execution_count": 18,
     "metadata": {},
     "output_type": "execute_result"
    }
   ],
   "source": [
    "# best parameters\n",
    "gridsearch.best_score_"
   ]
  },
  {
   "cell_type": "code",
   "execution_count": 12,
   "id": "c70fc4c1",
   "metadata": {},
   "outputs": [],
   "source": [
    "# save best booster\n",
    "pickle.dump(gridsearch.best_estimator_.get_booster(), open('booster_best_24082021.p', 'wb'))"
   ]
  },
  {
   "cell_type": "code",
   "execution_count": 13,
   "id": "b9f20f19",
   "metadata": {},
   "outputs": [],
   "source": [
    "# save best estimator\n",
    "pickle.dump(gridsearch.best_estimator_, open('estimator_best_24082021.p', 'wb'))"
   ]
  },
  {
   "cell_type": "code",
   "execution_count": 35,
   "id": "601a4061",
   "metadata": {},
   "outputs": [],
   "source": [
    "estimator = pickle.load(open('estimator_best_24082021.p', 'rb'))"
   ]
  },
  {
   "cell_type": "code",
   "execution_count": 20,
   "id": "35cc89b1",
   "metadata": {},
   "outputs": [],
   "source": [
    "# save best estimator\n",
    "pickle.dump(gridsearch, open('gridsearch_24082021.p', 'wb'))"
   ]
  },
  {
   "cell_type": "markdown",
   "id": "94bce862",
   "metadata": {},
   "source": [
    "#### Vizualizations"
   ]
  },
  {
   "cell_type": "code",
   "execution_count": 37,
   "id": "64b646c7",
   "metadata": {},
   "outputs": [
    {
     "data": {
      "image/png": "[encoded data removed]",
      "text/plain": [
       "<Figure size 576x576 with 1 Axes>"
      ]
     },
     "metadata": {
      "needs_background": "light"
     },
     "output_type": "display_data"
    }
   ],
   "source": [
    "topk = 10\n",
    "\n",
    "# sort model importances and take top k\n",
    "sorted_importance = {k:v for k,v in sorted(estimator.get_booster().get_score(importance_type='gain').items(),\n",
    "                                           key=lambda item: item[1], reverse=True)[:topk]}\n",
    "\n",
    "df = pd.DataFrame({'Feature': list(sorted_importance.keys())[:topk],\n",
    "                   'Importance': 100*np.array(list(sorted_importance.values())[:topk])/\\\n",
    "                                 max(np.array(list(sorted_importance.values())))})\n",
    "ax = df.plot(x='Feature', kind='barh', figsize=(8,8))\n",
    "ax.invert_yaxis()\n",
    "plt.xlabel('Percent Importance (%)', labelpad=8, fontsize='large', fontweight='demibold')\n",
    "plt.ylabel('Feature', fontsize='large', fontweight='demibold')\n",
    "plt.grid(axis='x')\n",
    "ax.set_xticks(ticks=np.linspace(0,100,11))\n",
    "plt.savefig('feature_importance_hypertension.jpg', format='jpg', dpi=300, bbox_inches='tight')\n",
    "plt.show()"
   ]
  },
  {
   "cell_type": "markdown",
   "id": "b948da89",
   "metadata": {},
   "source": [
    "#### Establish optimum number of training rounds"
   ]
  },
  {
   "cell_type": "code",
   "execution_count": 22,
   "id": "28f2327a",
   "metadata": {},
   "outputs": [],
   "source": [
    "num_boost_round = 500\n",
    "\n",
    "# initialize training and test auc score lists\n",
    "tr_epoch_au = []\n",
    "te_epoch_au = []\n",
    "\n",
    "k_fold_index_set = list(kf.split(X_comb))\n",
    "\n",
    "for fold in range(k_folds):\n",
    "    \n",
    "    evals_result = {}\n",
    "\n",
    "    # split the data in to the k-th fold using SKLearn k-fold split\n",
    "    train_idx, test_idx = k_fold_index_set[fold]\n",
    "    X_train, y_train, X_test, y_test = X_comb[train_idx], y_comb[train_idx], X_comb[test_idx], y_comb[test_idx]\n",
    "\n",
    "    # get data in required format for XGBoost - basic WEIGHTING for unbalanced data\n",
    "    dtrain = xgb.DMatrix(X_train, label=y_train, feature_names=list(dic.values()),\n",
    "                         weight=[w_0 if y_train_i==0 else w_1 for y_train_i in y_train])\n",
    "    dtest = xgb.DMatrix(X_test, label=y_test, feature_names=list(dic.values()),\n",
    "                        weight=[w_0 if y_test_i==0 else w_1 for y_test_i in y_test])\n",
    "\n",
    "    # using Learning API in XGBoost so that can store feature_names within the dMatrix\n",
    "    evals = [(dtrain, 'dtrain'), (dtest, 'dtest')] # early stopping on the last item in evals (so test)\n",
    "    model = xgb.train(params, dtrain, num_boost_round, evals=evals,\n",
    "                      evals_result=evals_result, verbose_eval=False)\n",
    "\n",
    "    # get accuracy score from evals_test for train and test\n",
    "    tr_epoch_au.append(np.array(list(evals_result['dtrain'].values())[0]))\n",
    "    te_epoch_au.append(np.array(list(evals_result['dtest'].values())[0]))"
   ]
  },
  {
   "cell_type": "code",
   "execution_count": 25,
   "id": "d9fcfc8b",
   "metadata": {},
   "outputs": [
    {
     "data": {
      "image/png": "[encoded data removed]",
      "text/plain": [
       "<Figure size 504x360 with 1 Axes>"
      ]
     },
     "metadata": {
      "needs_background": "light"
     },
     "output_type": "display_data"
    },
    {
     "name": "stdout",
     "output_type": "stream",
     "text": [
      "optimal training rounds: 202\n",
      "optimal AUC: 0.8289768000000001\n"
     ]
    }
   ],
   "source": [
    "plt.figure(figsize=(7,5))\n",
    "line_b = plt.errorbar((np.linspace(1,500,500)), np.mean(np.array(te_epoch_au), axis=0), \n",
    "             yerr=np.std(np.array(te_epoch_au), axis=0), errorevery=20, capsize=3, label='Test +/- s.d')\n",
    "\n",
    "line_a = plt.errorbar((np.linspace(1,500,500)), np.mean(np.array(tr_epoch_au), axis=0), \n",
    "             yerr=np.std(np.array(tr_epoch_au), axis=0), errorevery=20, capsize=3, label='Train +/- s.d')\n",
    "plt.xlabel('Boosting Rounds', labelpad=8) #, fontsize='large', fontweight='demibold')\n",
    "plt.ylabel('AUC', labelpad=8) #, fontsize='large', fontweight='demibold')\n",
    "plt.ylim(0.78,0.90)\n",
    "plt.xlim(0,500)\n",
    "plt.grid(True)\n",
    "plt.axvline(x=np.argmax(np.mean(np.array(te_epoch_au), axis=0))+1, color='red', linestyle=(0,(3,4)),\n",
    "            label=f'x = {np.argmax(np.mean(np.array(te_epoch_au), axis=0))+1}')\n",
    "plt.legend(loc='center right')\n",
    "# plt.savefig('boosting_rounds.jpg', format='jpg', dpi=300, bbox_inches='tight')\n",
    "plt.show()\n",
    "\n",
    "print(f'optimal training rounds: {np.argmax(np.mean(np.array(te_epoch_au), axis=0))+1}')\n",
    "print(f'optimal AUC: {np.max(np.mean(np.array(te_epoch_au), axis=0))}')"
   ]
  },
  {
   "cell_type": "markdown",
   "id": "690d3a9f",
   "metadata": {},
   "source": [
    "#### 20 runs for final evaluation metrics"
   ]
  },
  {
   "cell_type": "code",
   "execution_count": 11,
   "id": "be5fe4f9",
   "metadata": {},
   "outputs": [],
   "source": [
    "threshold = 0.8 # inferred from 135 chart (and validated on hypertensive cohort in a previous version)"
   ]
  },
  {
   "cell_type": "code",
   "execution_count": 15,
   "id": "a5656748",
   "metadata": {},
   "outputs": [],
   "source": [
    "num_boost_round = 202"
   ]
  },
  {
   "cell_type": "code",
   "execution_count": 13,
   "id": "c7e9000c",
   "metadata": {},
   "outputs": [
    {
     "name": "stdout",
     "output_type": "stream",
     "text": [
      "[985772 305711 435829 117952 963395 152315 882371 359783 304137 122579\n",
      " 610581 448242 374564 735831 736326 310744 170584 839052 604474 541377]\n"
     ]
    }
   ],
   "source": [
    "np.random.seed(seed=0)\n",
    "\n",
    "seed_list = np.random.randint(0, 1000000, 20)\n",
    "print(seed_list)"
   ]
  },
  {
   "cell_type": "code",
   "execution_count": 29,
   "id": "60f635f7",
   "metadata": {},
   "outputs": [
    {
     "name": "stdout",
     "output_type": "stream",
     "text": [
      "0.827886432921555 0.922363325227416 0.40198863636363635 0.39088397790055246 0.3963585434173669\n",
      "0.8315597513328328 0.9201116815275151 0.40796703296703296 0.3944223107569721 0.4010803511141121\n",
      "0.8210511583064316 0.9155183283797171 0.3733850129198966 0.3894878706199461 0.3812664907651715\n",
      "0.8305922920892496 0.9165090516076736 0.3852140077821012 0.396 0.3905325443786983\n",
      "0.8310262964703229 0.9193010897955507 0.4140730717185386 0.39791937581274384 0.40583554376657827\n",
      "0.8385950481317203 0.9245249031793209 0.4014285714285714 0.4014285714285714 0.4014285714285714\n",
      "0.8272818534188824 0.9192110240475547 0.4034582132564842 0.3669724770642202 0.3843514070006864\n",
      "0.8372111427666984 0.9190308925515627 0.38095238095238093 0.3731138545953361 0.376992376992377\n",
      "0.8247103257887995 0.917409709087634 0.385752688172043 0.38420348058902276 0.3849765258215962\n",
      "0.8379411078864859 0.9210123390074755 0.39917127071823205 0.3953488372093023 0.3972508591065292\n",
      "0.8275501765243369 0.915158065387733 0.38346883468834686 0.36753246753246754 0.3753315649867374\n",
      "0.8155546239088649 0.9145276051517608 0.3615894039735099 0.3689189189189189 0.3652173913043478\n",
      "0.8304966631425081 0.9181302350716023 0.39509536784741145 0.3841059602649007 0.38952316991269315\n",
      "0.8283590956308111 0.9231739169593803 0.41810344827586204 0.39377537212449254 0.40557491289198605\n",
      "0.8255086233830835 0.9182203008195983 0.39373297002724794 0.38430851063829785 0.3889636608344549\n",
      "0.8297897606227423 0.9170494460956499 0.39575033200531207 0.3900523560209424 0.39288068556361233\n",
      "0.8243238835279685 0.9191209582995586 0.3806818181818182 0.36712328767123287 0.3737796373779637\n",
      "0.8280551193892467 0.9191209582995586 0.3923076923076923 0.4191780821917808 0.4052980132450331\n",
      "0.836790626007902 0.9179501035756102 0.3997194950911641 0.37109375 0.3848750844024308\n",
      "0.8332673770297261 0.9168693145996577 0.3880794701986755 0.3885941644562334 0.388336646785951\n",
      "['0.83+/-0.006', '0.92+/-0.003', '0.39+/-0.013', '0.39+/-0.013', '0.39+/-0.011']\n"
     ]
    }
   ],
   "source": [
    "# initialize evaluation score lists\n",
    "tr_au, tr_as, tr_ps, tr_rs, te_fs = [], [], [], [], []\n",
    "te_au, te_as, te_ps, te_rs, te_fs = [], [], [], [], []\n",
    "\n",
    "for seed in seed_list:\n",
    "    # split the data in to train and test for each random seed\n",
    "    X_train, X_test, y_train, y_test = train_test_split(X_comb, y_comb, test_size=1/5, random_state=seed)\n",
    "\n",
    "    # get data in required format for XGBoost - basic WEIGHTING for unbalanced data (defined at X/y top level)\n",
    "    dtrain = xgb.DMatrix(X_train, label=y_train, feature_names=list(dic.values()),\n",
    "                         weight=[w_0 if y_train_i==0 else w_1 for y_train_i in y_train])\n",
    "    dtest = xgb.DMatrix(X_test, label=y_test, feature_names=list(dic.values()),\n",
    "                        weight=[w_0 if y_test_i==0 else w_1 for y_test_i in y_test])\n",
    "\n",
    "    # using Learning API in XGBoost so that can store feature_names within the dMatrix\n",
    "    model = xgb.train(params, dtrain, num_boost_round, verbose_eval=False)\n",
    "\n",
    "    # calculate evaluation scores and append to score lists\n",
    "    te_au.append(roc_auc_score(y_test, [pred for pred in model.predict(dtest, output_margin=True)]))\n",
    "    te_as.append(accuracy_score(y_test, [pred>threshold for pred in model.predict(dtest)]))\n",
    "    te_ps.append(precision_score(y_test, [pred>threshold for pred in model.predict(dtest)]))\n",
    "    te_rs.append(recall_score(y_test, [pred>threshold for pred in model.predict(dtest)]))\n",
    "    te_fs.append(f1_score(y_test, [pred>threshold for pred in model.predict(dtest)]))\n",
    "    \n",
    "    # print progress out\n",
    "    print(te_au[-1], te_as[-1], te_ps[-1], te_rs[-1], te_fs[-1])\n",
    "\n",
    "# calculate mean and standard deviation over the k-fold cross validation and append to results lists\n",
    "results = [te_au, te_as, te_ps, te_rs, te_fs]\n",
    "\n",
    "result_formatted = [f'{round(np.mean(np.array(te_au)),2)}+/-{round(np.std(np.array(te_au)),3)}',\n",
    "                    f'{round(np.mean(np.array(te_as)),2)}+/-{round(np.std(np.array(te_as)),3)}',\n",
    "                    f'{round(np.mean(np.array(te_ps)),2)}+/-{round(np.std(np.array(te_ps)),3)}',\n",
    "                    f'{round(np.mean(np.array(te_rs)),2)}+/-{round(np.std(np.array(te_rs)),3)}',\n",
    "                    f'{round(np.mean(np.array(te_fs)),2)}+/-{round(np.std(np.array(te_fs)),3)}']\n",
    "\n",
    "# print final formatted result to screen\n",
    "print(result_formatted)\n",
    "            \n",
    "# save results\n",
    "pickle.dump(results, open('Results\\\\results_final_20_unbalanced.p', 'wb'))"
   ]
  },
  {
   "cell_type": "markdown",
   "id": "8b624405",
   "metadata": {},
   "source": [
    "#### Threshold selection"
   ]
  },
  {
   "cell_type": "code",
   "execution_count": 24,
   "id": "62b4e302",
   "metadata": {},
   "outputs": [],
   "source": [
    "# splitting in to 80% train 20% test\n",
    "X_train, X_test, y_train, y_test = train_test_split(X_comb, y_comb, test_size=1/5, random_state=839052)\n",
    "\n",
    "# using scikit learn API so that can use precision_recall curve\n",
    "model = xgb.XGBClassifier(n_estimators=num_boost_round, max_depth=4, learning_rate=0.1, objective='binary:logistic', \n",
    "                          min_child_weight=64, use_label_encoder=False)\n",
    "fitted_model = model.fit(X_train, y_train, sample_weight=[w_0 if y_train_i==0 else w_1 for y_train_i in y_train],\n",
    "                         eval_metric='auc')"
   ]
  },
  {
   "cell_type": "code",
   "execution_count": 25,
   "id": "988155f1",
   "metadata": {},
   "outputs": [],
   "source": [
    "threshold=[]\n",
    "f1_scores=[]\n",
    "accuracy_scores=[]\n",
    "precision_scores=[]\n",
    "recall_scores=[]\n",
    "roc_auc_scores=[]\n",
    "for i in range(-100,100):\n",
    "    threshold.append(0.5+i*0.005)\n",
    "    f1_scores.append(f1_score(y_test, \n",
    "                              [pred>0.5+i*0.005 for pred in fitted_model.predict_proba(X_test)[:,1]]))\n",
    "    accuracy_scores.append(accuracy_score(y_test, \n",
    "                                          [pred>0.5+i*0.005 for pred in fitted_model.predict_proba(X_test)[:,1]]))\n",
    "    recall_scores.append(recall_score(y_test, \n",
    "                                      [pred>0.5+i*0.005 for pred in fitted_model.predict_proba(X_test)[:,1]],\n",
    "                                      zero_division=0))\n",
    "    precision_scores.append(precision_score(y_test, \n",
    "                                            [pred>0.5+i*0.005 for pred in fitted_model.predict_proba(X_test)[:,1]],\n",
    "                                            zero_division=0))"
   ]
  },
  {
   "cell_type": "code",
   "execution_count": 27,
   "id": "550bb432",
   "metadata": {},
   "outputs": [
    {
     "data": {
      "image/png": "[encoded data removed]",
      "text/plain": [
       "<Figure size 432x360 with 1 Axes>"
      ]
     },
     "metadata": {
      "needs_background": "light"
     },
     "output_type": "display_data"
    },
    {
     "name": "stdout",
     "output_type": "stream",
     "text": [
      "max f1 score: 0.4088995790739627\n",
      "precision/recall at this point: 0.36441586280814575/0.4657534246575342\n",
      "\n",
      "max accuracy score: 0.9384850941187066\n"
     ]
    }
   ],
   "source": [
    "plt.figure(figsize=(6,5))\n",
    "plt.plot(threshold, precision_scores,\n",
    "         label=f'XGBClassifier: Precision',# (F1 = {round(np.max(f1_scores),2)})',\n",
    "         marker='.', markersize=3)\n",
    "plt.plot(threshold, recall_scores,\n",
    "         label=f'XGBClassifier: Recall',# (F1 = {round(np.max(f1_scores),2)})',\n",
    "         marker='.', markersize=3)\n",
    "plt.ylabel('Score (Positive label: 1)', labelpad=8) # fontsize='large', fontweight='demibold'\n",
    "plt.xlabel('Threshold (Positive label: 1)', labelpad=8) # fontsize='large', fontweight='demibold'\n",
    "plt.axvline(x=threshold[np.argmax(f1_scores)], color='red', linestyle=(0,(3,4)), \n",
    "                        label=f'x = {round(threshold[np.argmax(f1_scores)], 3)}')\n",
    "plt.axvline(x=threshold[np.argmax(accuracy_scores)], color='green', linestyle=(0,(3,4)), \n",
    "                        label=f'x = {round(threshold[np.argmax(accuracy_scores)], 3)}')\n",
    "plt.legend(loc='center left')\n",
    "plt.grid(True)\n",
    "plt.savefig('precision_recall_threshold_ht_2.jpg', format='jpg', dpi=300)\n",
    "plt.show()\n",
    "\n",
    "print(f'max f1 score: {np.max(f1_scores)}')\n",
    "print(f'precision/recall at this point: {precision_scores[np.argmax(f1_scores)]}/{recall_scores[np.argmax(f1_scores)]}')\n",
    "print()\n",
    "print(f'max accuracy score: {np.max(accuracy_scores)}')"
   ]
  },
  {
   "cell_type": "markdown",
   "id": "e16bd918",
   "metadata": {},
   "source": [
    "#### Measure the effect of additional data"
   ]
  },
  {
   "cell_type": "code",
   "execution_count": 27,
   "id": "dac7f3e6",
   "metadata": {},
   "outputs": [],
   "source": [
    "# reasonable params (taken from a previous version of gridsearch)\n",
    "params = {'max_depth':5, 'eta':0.2, 'objective':'binary:logistic', 'eval_metric':'auc', 'min_child_weight':64}\n",
    "num_boost_round = 200"
   ]
  },
  {
   "cell_type": "code",
   "execution_count": 28,
   "id": "cec405e8",
   "metadata": {
    "collapsed": true
   },
   "outputs": [
    {
     "name": "stdout",
     "output_type": "stream",
     "text": [
      "[0.05, '0.85+/-0.02', '0.82+/-0.02']\n",
      "[0.1, '0.87+/-0.01', '0.82+/-0.02']\n",
      "[0.15, '0.87+/-0.01', '0.83+/-0.01']\n",
      "[0.2, '0.86+/-0.0', '0.83+/-0.01']\n",
      "[0.25, '0.87+/-0.01', '0.83+/-0.01']\n",
      "[0.3, '0.86+/-0.01', '0.82+/-0.01']\n",
      "[0.35, '0.87+/-0.01', '0.82+/-0.01']\n",
      "[0.4, '0.86+/-0.01', '0.82+/-0.01']\n",
      "[0.45, '0.86+/-0.01', '0.82+/-0.01']\n",
      "[0.5, '0.86+/-0.01', '0.83+/-0.01']\n",
      "[0.55, '0.86+/-0.0', '0.83+/-0.01']\n",
      "[0.6, '0.86+/-0.0', '0.83+/-0.0']\n",
      "[0.65, '0.86+/-0.0', '0.82+/-0.01']\n",
      "[0.7, '0.86+/-0.01', '0.83+/-0.01']\n",
      "[0.75, '0.86+/-0.0', '0.82+/-0.0']\n",
      "[0.8, '0.86+/-0.0', '0.83+/-0.0']\n",
      "[0.85, '0.86+/-0.01', '0.83+/-0.0']\n",
      "[0.9, '0.86+/-0.01', '0.83+/-0.01']\n",
      "[0.95, '0.86+/-0.0', '0.83+/-0.01']\n",
      "[1.0, '0.86+/-0.01', '0.83+/-0.01']\n"
     ]
    }
   ],
   "source": [
    "data_cuts = np.linspace(0.05, 1, 20)\n",
    "\n",
    "results = []\n",
    "results_formatted = []\n",
    "\n",
    "for data_cut in data_cuts:\n",
    "    \n",
    "    X_cut = X_comb[:int(data_cut * n)]\n",
    "    y_cut = y_comb[:int(data_cut * n)]\n",
    "\n",
    "    k_fold_index_set = list(kf.split(X_cut))\n",
    "    \n",
    "    # get weights for the unbalanced data\n",
    "    w_0 = len(y_cut) / (2 * sum(y_cut==0))\n",
    "    w_1 = len(y_cut) / (2 * sum(y_cut==1))\n",
    "\n",
    "    # initialize training and test accuracy score lists\n",
    "    tr_au = []\n",
    "    te_au = []\n",
    "    \n",
    "    evals_result = {}\n",
    "    \n",
    "    for fold in range(k_folds):\n",
    "        # split the data in to the k-th fold using SKLearn k-fold split\n",
    "        train_idx, test_idx = k_fold_index_set[fold]\n",
    "        X_train, y_train, X_test, y_test = X_cut[train_idx], y_cut[train_idx], X_cut[test_idx], y_cut[test_idx]\n",
    "\n",
    "        # get data in required format for XGBoost\n",
    "        dtrain = xgb.DMatrix(X_train, label=y_train, feature_names=list(dic.values()),\n",
    "                             weight=[w_0 if y_train_i==0 else w_1 for y_train_i in y_train])\n",
    "        dtest = xgb.DMatrix(X_test, label=y_test, feature_names=list(dic.values()),\n",
    "                            weight=[w_0 if y_test_i==0 else w_1 for y_test_i in y_test])# hypertensives\n",
    "\n",
    "        # train XGBoost\n",
    "        bst = xgb.train(params, dtrain, num_boost_round, evals=[(dtrain,'dtrain'),\n",
    "                                                                (dtest,'dtest')],\n",
    "                        early_stopping_rounds=20, evals_result=evals_result, verbose_eval=False)\n",
    "\n",
    "        # calculate required metrics for train and test then append to score lists\n",
    "        tr_au.append(list(evals_result['dtrain'].values())[0][bst.best_iteration])\n",
    "        te_au.append(list(evals_result['dtest'].values())[0][bst.best_iteration])\n",
    "\n",
    "    # calculate mean and standard deviation over the k-fold cross validation and append to results lists\n",
    "    result = [round(data_cut,2),\n",
    "              round(np.mean(np.array(tr_au)),3),\n",
    "              round(np.std(np.array(tr_au)),3),\n",
    "              round(np.mean(np.array(te_au)),3),\n",
    "              round(np.std(np.array(te_au)),3)]\n",
    "    results.append(result)\n",
    "\n",
    "    result_formatted = [round(data_cut,2),\n",
    "                        f'{round(np.mean(np.array(tr_au)),2)}+/-{round(np.std(np.array(tr_au)),2)}',\n",
    "                        f'{round(np.mean(np.array(te_au)),2)}+/-{round(np.std(np.array(te_au)),2)}']\n",
    "    results_formatted.append(result_formatted)\n",
    "\n",
    "    # print result to screen\n",
    "    print(result_formatted)\n",
    "    \n",
    "# save results\n",
    "pickle.dump(results, open('Results\\\\results_data_CV_hypertensives.p', 'wb'))\n",
    "pickle.dump(results_formatted, open('Results\\\\results_data_CV_formatted_hypertensives.p', 'wb'))"
   ]
  },
  {
   "cell_type": "code",
   "execution_count": 33,
   "id": "a12acb32",
   "metadata": {},
   "outputs": [
    {
     "data": {
      "image/png": "[encoded data removed]",
      "text/plain": [
       "<Figure size 504x360 with 1 Axes>"
      ]
     },
     "metadata": {
      "needs_background": "light"
     },
     "output_type": "display_data"
    }
   ],
   "source": [
    "results = pickle.load(open('Results\\\\results_data_CV_hypertensives.p', 'rb'))\n",
    "\n",
    "plt.figure(figsize=(7,5))\n",
    "plt.errorbar(np.array(results)[:,0], np.array(results)[:,1], \n",
    "             yerr=np.array(results)[:,2], errorevery=1, capsize=3, label='Train +/- s.d')\n",
    "plt.errorbar(np.array(results)[:,0], np.array(results)[:,3], \n",
    "             yerr=np.array(results)[:,4], errorevery=1, capsize=3, label='Test +/- s.d')\n",
    "plt.legend(loc='lower right')\n",
    "plt.ylim(0.75,0.95)\n",
    "plt.xlim(0,1.05)\n",
    "plt.ylabel('AUC', labelpad=8)\n",
    "plt.xlabel('Fraction of Avaliable Data', labelpad=8)\n",
    "plt.grid(True)\n",
    "plt.savefig('effect_of_data.jpg', format='jpg', dpi=300, bbox_inches='tight')\n",
    "plt.show()"
   ]
  },
  {
   "cell_type": "code",
   "execution_count": null,
   "id": "66f86ef9",
   "metadata": {},
   "outputs": [],
   "source": [
    "# results of this show that we need to add more features or increase complextiy of model - NOT more data"
   ]
  },
  {
   "cell_type": "code",
   "execution_count": null,
   "id": "beb85560",
   "metadata": {},
   "outputs": [],
   "source": []
  },
  {
   "cell_type": "code",
   "execution_count": null,
   "id": "eb8e0ec2",
   "metadata": {},
   "outputs": [],
   "source": []
  }
 ],
 "metadata": {
  "kernelspec": {
   "display_name": "Python 3",
   "language": "python",
   "name": "python3"
  },
  "language_info": {
   "codemirror_mode": {
    "name": "ipython",
    "version": 3
   },
   "file_extension": ".py",
   "mimetype": "text/x-python",
   "name": "python",
   "nbconvert_exporter": "python",
   "pygments_lexer": "ipython3",
   "version": "3.8.5"
  }
 },
 "nbformat": 4,
 "nbformat_minor": 5
}
