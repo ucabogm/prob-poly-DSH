{
 "cells": [
  {
   "cell_type": "markdown",
   "id": "1a1f78a2",
   "metadata": {},
   "source": [
    "# Setup\n",
    "\n",
    "Import basic packages and bring in lookup tables for clinical conditions and medications and pre-defined mapping functions.\n",
    "\n",
    "#### Packages"
   ]
  },
  {
   "cell_type": "code",
   "execution_count": 1,
   "id": "ca5313c7",
   "metadata": {},
   "outputs": [],
   "source": [
    "import pandas as pd\n",
    "import numpy as np\n",
    "import pickle\n",
    "from datetime import datetime, timedelta\n",
    "import random\n",
    "from tqdm import tqdm\n",
    "import matplotlib.pyplot as plt\n",
    "from itertools import combinations\n",
    "# set number of rows pandas dataframe displays\n",
    "pd.set_option('display.max_rows', 3000)"
   ]
  },
  {
   "cell_type": "markdown",
   "id": "2d86e88b",
   "metadata": {},
   "source": [
    "#### Lookup tables"
   ]
  },
  {
   "cell_type": "code",
   "execution_count": 2,
   "id": "d859eda7",
   "metadata": {},
   "outputs": [],
   "source": [
    "lkp_med = pd.read_csv('S:\\CALIBER_17_205R\\MSc\\Oliver\\Lookup Tables\\lookup_medical_table.csv', sep=',')\n",
    "lkp_med_code_dic = pickle.load(open('S:\\CALIBER_17_205R\\MSc\\Oliver\\Python Code\\lkp_med_code_dic.p', 'rb'))\n",
    "lkp_med_term_dic = pickle.load(open('S:\\CALIBER_17_205R\\MSc\\Oliver\\Python Code\\lkp_med_term_dic.p', 'rb'))\n",
    "\n",
    "lkp_bnf = pd.read_csv('S:\\CALIBER_17_205R\\MSc\\Oliver\\Lookup Tables\\lookup_bnf_table.csv', \n",
    "                      sep=',', dtype={'bnfcode':str, 'bnf':str})\n",
    "\n",
    "lkp_prd = pd.read_csv('S:\\CALIBER_17_205R\\MSc\\Oliver\\Lookup Tables\\lookup_product_table.csv', sep=',', \n",
    "                      low_memory=False)"
   ]
  },
  {
   "cell_type": "markdown",
   "id": "1ec11880",
   "metadata": {},
   "source": [
    "#### Mappings from helper_functions"
   ]
  },
  {
   "cell_type": "code",
   "execution_count": 3,
   "id": "a3abea87",
   "metadata": {},
   "outputs": [],
   "source": [
    "from helper_functions import medcode_to_read, medcode_to_term, read_to_medcode, cprd_to_bnf, bnf_to_chapter"
   ]
  },
  {
   "cell_type": "markdown",
   "id": "7bf76231",
   "metadata": {},
   "source": [
    "#### Disease readcode lists\n",
    "\n",
    "Predominantly taken from ClinicalCodes.org"
   ]
  },
  {
   "cell_type": "code",
   "execution_count": 4,
   "id": "eace9f16",
   "metadata": {},
   "outputs": [],
   "source": [
    "# diabetes\n",
    "db_csv = pd.read_csv(r'S:\\CALIBER_17_205R\\MSc\\Oliver\\Clinical Code Lists\\diabetes.csv', sep=',')\n",
    "diabetes_readcodes = list(db_csv['code'])\n",
    "\n",
    "# heart-failure\n",
    "hf_csv = pd.read_csv(r'S:\\CALIBER_17_205R\\MSc\\Oliver\\Clinical Code Lists\\heart-failure.csv', sep=',')\n",
    "heartfailure_readcodes = list(hf_csv['code'])\n",
    "\n",
    "# thrombosis\n",
    "tm_csv = pd.read_csv(r'S:\\CALIBER_17_205R\\MSc\\Oliver\\Clinical Code Lists\\res25-p16_thrombosis.csv', sep=',')\n",
    "thrombosis_readcodes = list(tm_csv['code'])\n",
    "\n",
    "# mild-liver-disease\n",
    "ld_csv = pd.read_csv(r'S:\\CALIBER_17_205R\\MSc\\Oliver\\Clinical Code Lists\\res27-mild-liver-disease.csv', sep=',')\n",
    "liverdisease_readcodes = list(ld_csv['code'])\n",
    "\n",
    "# renal-disease\n",
    "rd_csv = pd.read_csv(r'S:\\CALIBER_17_205R\\MSc\\Oliver\\Clinical Code Lists\\res27-renal-disease.csv', sep=',')\n",
    "renaldisease_readcodes = list(rd_csv['code'])\n",
    "\n",
    "# hypertension\n",
    "ht_csv = pd.read_csv(r'S:\\CALIBER_17_205R\\MSc\\Oliver\\Clinical Code Lists\\hypertension.csv', sep=',')\n",
    "hypertension_readcodes = list(ht_csv['code'])"
   ]
  },
  {
   "cell_type": "markdown",
   "id": "98fffbef",
   "metadata": {},
   "source": [
    "Construct disease_dic from the readcodes specified above, to feed into the build_data function"
   ]
  },
  {
   "cell_type": "code",
   "execution_count": 5,
   "id": "e9b3f45c",
   "metadata": {},
   "outputs": [],
   "source": [
    "disease_dic = {'db':diabetes_readcodes,\n",
    "               'hf':heartfailure_readcodes,\n",
    "               'tm':thrombosis_readcodes,\n",
    "               'ld':liverdisease_readcodes,\n",
    "               'rd':renaldisease_readcodes,\n",
    "               'ht':hypertension_readcodes}"
   ]
  },
  {
   "cell_type": "markdown",
   "id": "b01e677d",
   "metadata": {},
   "source": [
    "# Bring in stat_dic\n",
    "\n",
    "There is a stat_dic which contains statistics realting to all patients sampled for each specific drug."
   ]
  },
  {
   "cell_type": "code",
   "execution_count": 6,
   "id": "0e64da86",
   "metadata": {},
   "outputs": [],
   "source": [
    "stat_dic = pickle.load(open('stat_dic_135.p', 'rb')) # read pickle file"
   ]
  },
  {
   "cell_type": "markdown",
   "id": "bd4b5db6",
   "metadata": {},
   "source": [
    "#### Infer targets avaliable from stat_dic\n",
    "\n",
    "By indexing the first avaliable entry."
   ]
  },
  {
   "cell_type": "code",
   "execution_count": 7,
   "id": "a9c55d79",
   "metadata": {},
   "outputs": [],
   "source": [
    "target_list = list(stat_dic[list(stat_dic.keys())[0]]['target'].keys())"
   ]
  },
  {
   "cell_type": "markdown",
   "id": "352d9bf1",
   "metadata": {},
   "source": [
    "#### Get negative patids for each version\n",
    "\n",
    "There is one version of negative patients for hospital admissions indicating a serious ADR and another for drug specific side-effects."
   ]
  },
  {
   "cell_type": "code",
   "execution_count": 8,
   "id": "637a2e99",
   "metadata": {},
   "outputs": [],
   "source": [
    "patids_neg_dic = {'v1':[patid for patid in list(stat_dic.keys()) \n",
    "                        if stat_dic[patid]['target']['patids_v1_neg'][0]==1],\n",
    "                  'v2':[patid for patid in list(stat_dic.keys()) \n",
    "                        if stat_dic[patid]['target']['patids_v2_neg'][0]==1]}"
   ]
  },
  {
   "cell_type": "markdown",
   "id": "e4ae7327",
   "metadata": {},
   "source": [
    "#### Create a x month filters\n",
    "\n",
    "That will be applied to positive patids when projecting from the minimum date of prescription to filter to include only patients that incur the event(s) of interest x months from the first date of prescription."
   ]
  },
  {
   "cell_type": "code",
   "execution_count": 9,
   "id": "3033cd2a",
   "metadata": {},
   "outputs": [],
   "source": [
    "filter_0_mnth = []\n",
    "for patid in list(stat_dic.keys()):\n",
    "    if stat_dic[patid]['drug_duration_max']<=0:\n",
    "        filter_0_mnth.append(patid)\n",
    "        \n",
    "filter_6_mnth = []\n",
    "for patid in list(stat_dic.keys()):\n",
    "    if stat_dic[patid]['drug_duration_max']<185:\n",
    "        filter_6_mnth.append(patid)\n",
    "        \n",
    "filter_12_mnth = []\n",
    "for patid in list(stat_dic.keys()):\n",
    "    if stat_dic[patid]['drug_duration_max']<365:\n",
    "        filter_12_mnth.append(patid)\n",
    "        \n",
    "filter_24_mnth = []\n",
    "for patid in list(stat_dic.keys()):\n",
    "    if stat_dic[patid]['drug_duration_max']<730:\n",
    "        filter_24_mnth.append(patid)\n",
    "        \n",
    "filter_60_mnth = []\n",
    "for patid in list(stat_dic.keys()):\n",
    "    if stat_dic[patid]['drug_duration_max']<1825:\n",
    "        filter_60_mnth.append(patid)\n",
    "        \n",
    "filter_120_mnth = []\n",
    "for patid in list(stat_dic.keys()):\n",
    "    if stat_dic[patid]['drug_duration_max']<3650:\n",
    "        filter_120_mnth.append(patid)"
   ]
  },
  {
   "cell_type": "markdown",
   "id": "6b936ef7",
   "metadata": {},
   "source": [
    "#### Target and prediction type definitions\n",
    "\n",
    "We can build a classifier to predict within X months of first prescription by changing the filter above."
   ]
  },
  {
   "cell_type": "code",
   "execution_count": 10,
   "id": "52cd2142",
   "metadata": {},
   "outputs": [],
   "source": [
    "target_dic = {'patids_v1a_pos':'EHA',\n",
    "              'patids_v1b_pos':'HC',\n",
    "              'patids_v1c_pos':'A&E',\n",
    "              'patids_v1d_pos':'ANY_HOS',\n",
    "              'patids_v1e_pos':'ANY_HOS_MR',\n",
    "              'patids_v1f_pos':'ANY_HOS_MC',\n",
    "              'patids_v1g_pos':'ANY_HOS_CNI',\n",
    "              'patids_v2a_pos':'SE',\n",
    "              'patids_v2b_pos':'SE_MR',\n",
    "              'patids_v2c_pos':'SE_MC',\n",
    "              'patids_v2d_pos':'SE_CNI'}\n",
    "\n",
    "eventdate_dic = {'eventdate_min':'Within 6 months of first prescription',\n",
    "                 'eventdate_max_6':'Within 6 months'}"
   ]
  },
  {
   "cell_type": "markdown",
   "id": "c05b920a",
   "metadata": {},
   "source": [
    "# Classifiers\n",
    "\n",
    "#### Packages\n",
    "\n",
    "Packages imported from SKLearn, XGBoost and user-defined functions"
   ]
  },
  {
   "cell_type": "code",
   "execution_count": 11,
   "id": "447dcd1b",
   "metadata": {},
   "outputs": [],
   "source": [
    "from sklearn.model_selection import train_test_split\n",
    "from sklearn.model_selection import KFold\n",
    "from sklearn.model_selection import GridSearchCV\n",
    "from sklearn.decomposition import PCA\n",
    "from sklearn.decomposition import SparsePCA\n",
    "from sklearn.decomposition import KernelPCA\n",
    "from sklearn.decomposition import TruncatedSVD\n",
    "from sklearn.metrics import accuracy_score\n",
    "from sklearn.metrics import precision_score\n",
    "from sklearn.metrics import recall_score\n",
    "from sklearn.metrics import f1_score\n",
    "from sklearn.metrics import roc_auc_score\n",
    "from sklearn.metrics import precision_recall_curve\n",
    "from sklearn.metrics import plot_precision_recall_curve\n",
    "from sklearn.metrics import average_precision_score\n",
    "from sklearn.metrics import roc_curve\n",
    "from sklearn.metrics import plot_roc_curve\n",
    "\n",
    "from sklearn import tree\n",
    "from sklearn.ensemble import RandomForestClassifier\n",
    "import xgboost as xgb\n",
    "\n",
    "from helper_functions import add_neg_patids, build_data"
   ]
  },
  {
   "cell_type": "markdown",
   "id": "20a7e7ee",
   "metadata": {},
   "source": [
    "Cross-validation will be done over 5 folds"
   ]
  },
  {
   "cell_type": "code",
   "execution_count": 12,
   "id": "3d99ab9d",
   "metadata": {},
   "outputs": [],
   "source": [
    "k_folds = 5\n",
    "kf = KFold(n_splits=k_folds, shuffle=True, random_state=0)"
   ]
  },
  {
   "cell_type": "markdown",
   "id": "38a78c7c",
   "metadata": {},
   "source": [
    "## 1. 5-fold CV over avaliable targets - 6 months"
   ]
  },
  {
   "cell_type": "markdown",
   "id": "e8867fe1",
   "metadata": {},
   "source": [
    "#### Define parameters to cross-validate over\n",
    "\n",
    "In this case we perform cross validation using XGBoost with generic parameters that have been observered to perform reasonably on the data. See XGBoost documentation for justification of objective and eval_metric suitability."
   ]
  },
  {
   "cell_type": "code",
   "execution_count": 13,
   "id": "b9fc49e7",
   "metadata": {},
   "outputs": [],
   "source": [
    "eventdate_list = ['eventdate_min', 'eventdate_max_6']\n",
    "\n",
    "feature_dic = {'patient_profile':True,\n",
    "               'drug_metrics_profile':True,\n",
    "               'bnf_profile':True,\n",
    "               'bnf_pca_profile':{'include':False,\n",
    "                                  'pca':None},\n",
    "               'disease_profile':True}\n",
    "\n",
    "# these parameters have been chosen as reasonable parameters to give an indication of potential accuracy\n",
    "params = {'max_depth':4, 'eta':0.3, 'objective':'binary:logistic', 'eval_metric':'auc', 'min_child_weight':10}\n",
    "num_boost_round = 200"
   ]
  },
  {
   "cell_type": "markdown",
   "id": "c3476a95",
   "metadata": {},
   "source": [
    "#### Run cross-validation"
   ]
  },
  {
   "cell_type": "code",
   "execution_count": 14,
   "id": "4d3c039d",
   "metadata": {},
   "outputs": [
    {
     "name": "stdout",
     "output_type": "stream",
     "text": [
      "['Within 6 months of first prescription', 'EHA', '0.86+/-0.01', '0.8+/-0.01']\n",
      "['Within 6 months of first prescription', 'HC', '0.81+/-0.01', '0.76+/-0.01']\n",
      "['Within 6 months of first prescription', 'A&E', '0.86+/-0.02', '0.75+/-0.03']\n",
      "['Within 6 months of first prescription', 'ANY_HOS', '0.82+/-0.0', '0.77+/-0.01']\n",
      "['Within 6 months of first prescription', 'ANY_HOS_MR', '0.84+/-0.03', '0.77+/-0.02']\n",
      "['Within 6 months of first prescription', 'ANY_HOS_MC', '0.89+/-0.05', '0.66+/-0.06']\n",
      "['Within 6 months of first prescription', 'ANY_HOS_CNI', '0.81+/-0.01', '0.77+/-0.01']\n",
      "['Within 6 months of first prescription', 'SE', '0.76+/-0.01', '0.73+/-0.01']\n",
      "['Within 6 months of first prescription', 'SE_MR', '0.8+/-0.02', '0.75+/-0.02']\n",
      "['Within 6 months of first prescription', 'SE_MC', '0.91+/-0.03', '0.67+/-0.03']\n",
      "['Within 6 months of first prescription', 'SE_CNI', '0.76+/-0.01', '0.73+/-0.01']\n",
      "['Within 6 months', 'EHA', '0.81+/-0.01', '0.76+/-0.0']\n",
      "['Within 6 months', 'HC', '0.78+/-0.01', '0.75+/-0.01']\n",
      "['Within 6 months', 'A&E', '0.83+/-0.01', '0.75+/-0.01']\n",
      "['Within 6 months', 'ANY_HOS', '0.8+/-0.01', '0.75+/-0.0']\n",
      "['Within 6 months', 'ANY_HOS_MR', '0.8+/-0.01', '0.75+/-0.01']\n",
      "['Within 6 months', 'ANY_HOS_MC', '0.85+/-0.04', '0.75+/-0.02']\n",
      "['Within 6 months', 'ANY_HOS_CNI', '0.79+/-0.01', '0.75+/-0.0']\n",
      "['Within 6 months', 'SE', '0.83+/-0.01', '0.79+/-0.0']\n",
      "['Within 6 months', 'SE_MR', '0.83+/-0.01', '0.77+/-0.01']\n",
      "['Within 6 months', 'SE_MC', '0.9+/-0.04', '0.78+/-0.03']\n",
      "['Within 6 months', 'SE_CNI', '0.83+/-0.01', '0.79+/-0.0']\n"
     ]
    }
   ],
   "source": [
    "results = []\n",
    "results_formatted = []\n",
    "\n",
    "# predict targets from each eventdate\n",
    "for eventdate in eventdate_list:\n",
    "\n",
    "    # loop  through all targets in the stat_dic\n",
    "    for target in target_list:\n",
    "        # set up to predict positive instances (negative instances are obtains from the add_neg_patids function)\n",
    "        if target[-3:]=='pos':\n",
    "            patids_pos = [patid for patid in list(stat_dic.keys()) \n",
    "                                if stat_dic[patid]['target'][target][0]==1]\n",
    "            # version for the add_neg_patids function\n",
    "            version = target[7:9]\n",
    "\n",
    "            # if projecting from minimum date, apply a maximum filter to the allowable duration to the target date\n",
    "            if eventdate=='eventdate_min':\n",
    "                patids_pos = list(set.intersection(set(patids_pos), set(filter_6_mnth)))\n",
    "                # apply the same filter to negative cases\n",
    "                patids_neg = list(set(patids_neg_dic[version]) - set(filter_6_mnth))\n",
    "            else:\n",
    "                patids_neg = patids_neg_dic[version]\n",
    "                \n",
    "            # get an unbalanced set of positive and negative patids (without filter applied)\n",
    "            patids = patids_pos + patids_neg              \n",
    "            random.seed(0)\n",
    "            random.shuffle(patids)\n",
    "\n",
    "            # build data and apply SKLearn k-fold split\n",
    "            X, y, dic = build_data(stat_dic, patids, feature_dic, disease_dic, \n",
    "                                   lkp_bnf, lkp_prd, eventdate, target, tdqm_display=False)\n",
    "            k_fold_index_set = list(kf.split(X))\n",
    "            \n",
    "            # get weights for the unbalanced data\n",
    "            w_0 = len(y) / (2 * sum(y==0))\n",
    "            w_1 = len(y) / (2 * sum(y==1))\n",
    "\n",
    "            # initialize training and test auc score lists\n",
    "            tr_au = []\n",
    "            te_au = []\n",
    "            \n",
    "            evals_result = {}\n",
    "\n",
    "            for fold in range(k_folds):\n",
    "                # split the data in to the k-th fold using SKLearn k-fold split\n",
    "                train_idx, test_idx = k_fold_index_set[fold]\n",
    "                X_train, y_train, X_test, y_test = X[train_idx], y[train_idx], X[test_idx], y[test_idx]\n",
    "\n",
    "                # get data in required format for XGBoost - basic WEIGHTING for unbalanced data\n",
    "                dtrain = xgb.DMatrix(X_train, label=y_train, feature_names=list(dic.values()),\n",
    "                                     weight=[w_0 if y_train_i==0 else w_1 for y_train_i in y_train])\n",
    "                dtest = xgb.DMatrix(X_test, label=y_test, feature_names=list(dic.values()),\n",
    "                                    weight=[w_0 if y_test_i==0 else w_1 for y_test_i in y_test]) \n",
    "                \n",
    "                # using Learning API in XGBoost so that can store feature_names within the dMatrix\n",
    "                evals = [(dtrain, 'dtrain'), (dtest, 'dtest')] # early stopping on the last item in evals (so test)\n",
    "                model = xgb.train(params, dtrain, num_boost_round, evals, early_stopping_rounds=20, \n",
    "                                  evals_result=evals_result, verbose_eval=False)\n",
    "\n",
    "                # get accuracy score from evals_test for train and test based on best iter then append to score lists\n",
    "                tr_au.append(list(evals_result['dtrain'].values())[0][model.best_iteration])\n",
    "                te_au.append(list(evals_result['dtest'].values())[0][model.best_iteration])\n",
    "\n",
    "            # calculate mean and standard deviation over the k-fold cross validation and append to results lists\n",
    "            result = [eventdate, \n",
    "                      target, \n",
    "                      round(np.mean(np.array(tr_au)),3), \n",
    "                      round(np.std(np.array(tr_au)),3), \n",
    "                      round(np.mean(np.array(te_au)),3), \n",
    "                      round(np.std(np.array(te_au)),3)]\n",
    "            results.append(result)\n",
    "            \n",
    "            result_formatted = [eventdate_dic[eventdate],\n",
    "                                target_dic[target], \n",
    "                                f'{round(np.mean(np.array(tr_au)),2)}+/-{round(np.std(np.array(tr_au)),2)}',\n",
    "                                f'{round(np.mean(np.array(te_au)),2)}+/-{round(np.std(np.array(te_au)),2)}']\n",
    "            results_formatted.append(result_formatted)\n",
    "\n",
    "            # print result to screen for checking progress\n",
    "            print(result_formatted)\n",
    "            \n",
    "# save results\n",
    "pickle.dump(results, open(r'Results\\\\results_target_CV_unbalanced_135.p', 'wb'))\n",
    "pickle.dump(results_formatted, open(r'Results\\\\results_target_CV_unbalanced_formatted_135.p', 'wb'))"
   ]
  },
  {
   "cell_type": "markdown",
   "id": "5c5fd4c0",
   "metadata": {},
   "source": [
    "Print formatted results to latex code for direct insertion in to report."
   ]
  },
  {
   "cell_type": "code",
   "execution_count": 22,
   "id": "e6fd5363",
   "metadata": {},
   "outputs": [
    {
     "name": "stdout",
     "output_type": "stream",
     "text": [
      "\\begin{tabular}{llll}\n",
      "\\toprule\n",
      "                      Prediction Type &      Target &   Train AUC &    Test AUC \\\\\n",
      "\\midrule\n",
      "Within 6 months of first prescription &         EHA & 0.86+/-0.01 &  0.8+/-0.01 \\\\\n",
      "Within 6 months of first prescription &          HC & 0.81+/-0.01 & 0.76+/-0.01 \\\\\n",
      "Within 6 months of first prescription &         A\\&E & 0.86+/-0.02 & 0.75+/-0.03 \\\\\n",
      "Within 6 months of first prescription &     ANY\\_HOS &  0.82+/-0.0 & 0.77+/-0.01 \\\\\n",
      "Within 6 months of first prescription &  ANY\\_HOS\\_MR & 0.84+/-0.03 & 0.77+/-0.02 \\\\\n",
      "Within 6 months of first prescription &  ANY\\_HOS\\_MC & 0.89+/-0.05 & 0.66+/-0.06 \\\\\n",
      "Within 6 months of first prescription & ANY\\_HOS\\_CNI & 0.81+/-0.01 & 0.77+/-0.01 \\\\\n",
      "Within 6 months of first prescription &          SE & 0.76+/-0.01 & 0.73+/-0.01 \\\\\n",
      "Within 6 months of first prescription &       SE\\_MR &  0.8+/-0.02 & 0.75+/-0.02 \\\\\n",
      "Within 6 months of first prescription &       SE\\_MC & 0.91+/-0.03 & 0.67+/-0.03 \\\\\n",
      "Within 6 months of first prescription &      SE\\_CNI & 0.76+/-0.01 & 0.73+/-0.01 \\\\\n",
      "                      Within 6 months &         EHA & 0.81+/-0.01 &  0.76+/-0.0 \\\\\n",
      "                      Within 6 months &          HC & 0.78+/-0.01 & 0.75+/-0.01 \\\\\n",
      "                      Within 6 months &         A\\&E & 0.83+/-0.01 & 0.75+/-0.01 \\\\\n",
      "                      Within 6 months &     ANY\\_HOS &  0.8+/-0.01 &  0.75+/-0.0 \\\\\n",
      "                      Within 6 months &  ANY\\_HOS\\_MR &  0.8+/-0.01 & 0.75+/-0.01 \\\\\n",
      "                      Within 6 months &  ANY\\_HOS\\_MC & 0.85+/-0.04 & 0.75+/-0.02 \\\\\n",
      "                      Within 6 months & ANY\\_HOS\\_CNI & 0.79+/-0.01 &  0.75+/-0.0 \\\\\n",
      "                      Within 6 months &          SE & 0.83+/-0.01 &  0.79+/-0.0 \\\\\n",
      "                      Within 6 months &       SE\\_MR & 0.83+/-0.01 & 0.77+/-0.01 \\\\\n",
      "                      Within 6 months &       SE\\_MC &  0.9+/-0.04 & 0.78+/-0.03 \\\\\n",
      "                      Within 6 months &      SE\\_CNI & 0.83+/-0.01 &  0.79+/-0.0 \\\\\n",
      "\\bottomrule\n",
      "\\end{tabular}\n",
      "\n"
     ]
    }
   ],
   "source": [
    "results_formatted = pickle.load(open('Results\\\\results_target_CV_unbalanced_formatted_135.p', 'rb'))\n",
    "df = pd.DataFrame(results_formatted, columns=['Prediction Type','Target','Train AUC','Test AUC'])\n",
    "print(df.to_latex(index=False))"
   ]
  },
  {
   "cell_type": "markdown",
   "id": "8a43c1ef",
   "metadata": {},
   "source": [
    "## 1b. 5-fold CV over different periods"
   ]
  },
  {
   "cell_type": "markdown",
   "id": "2a71cefe",
   "metadata": {},
   "source": [
    "#### Define parameters to cross-validate over\n",
    "\n",
    "In this case we perform cross validation using XGBoost with generic parameters that have been observered to perform reasonably on the data. See XGBoost documentation for justification of objective and eval_metric suitability."
   ]
  },
  {
   "cell_type": "code",
   "execution_count": 13,
   "id": "2f999e44",
   "metadata": {},
   "outputs": [],
   "source": [
    "eventdate_list = ['eventdate_min', 'eventdate_max_6']\n",
    "\n",
    "feature_dic = {'patient_profile':True,\n",
    "               'drug_metrics_profile':True,\n",
    "               'bnf_profile':True,\n",
    "               'bnf_pca_profile':{'include':False,\n",
    "                                  'pca':None},\n",
    "               'disease_profile':True}\n",
    "\n",
    "# these parameters have been chosen as reasonable parameters to give an indication of potential accuracy\n",
    "params = {'max_depth':4, 'eta':0.3, 'objective':'binary:logistic', 'eval_metric':'auc', 'min_child_weight':10}\n",
    "num_boost_round = 200"
   ]
  },
  {
   "cell_type": "markdown",
   "id": "887ca66d",
   "metadata": {},
   "source": [
    "#### Run cross-validation"
   ]
  },
  {
   "cell_type": "code",
   "execution_count": 16,
   "id": "ea689b90",
   "metadata": {},
   "outputs": [
    {
     "name": "stdout",
     "output_type": "stream",
     "text": [
      "['0_mnth', '0.88+/-0.04', '0.78+/-0.03'] 342 18908\n",
      "['6_mnth', '0.86+/-0.01', '0.8+/-0.01'] 829 17503\n",
      "['12_mnth', '0.86+/-0.01', '0.82+/-0.01'] 1080 16380\n",
      "['24_mnth', '0.86+/-0.01', '0.82+/-0.01'] 1536 14400\n",
      "['60_mnth', '0.86+/-0.01', '0.83+/-0.01'] 2544 10001\n",
      "['120_mnth', '0.87+/-0.01', '0.84+/-0.01'] 3984 4637\n"
     ]
    }
   ],
   "source": [
    "target = 'patids_v1a_pos'\n",
    "version = 'v1'\n",
    "eventdate = 'eventdate_min'\n",
    "\n",
    "period_dic = {'0_mnth'  : filter_0_mnth, \n",
    "              '6_mnth'  : filter_6_mnth, \n",
    "              '12_mnth' : filter_12_mnth, \n",
    "              '24_mnth' : filter_24_mnth, \n",
    "              '60_mnth' : filter_60_mnth,\n",
    "              '120_mnth': filter_120_mnth}\n",
    "\n",
    "results = []\n",
    "results_formatted = []\n",
    "\n",
    "# predict targets over each period\n",
    "for period_key, filter_list in list(period_dic.items()):\n",
    "\n",
    "    # set up to predict positive instances (negative instances are obtains from the add_neg_patids function)\n",
    "    patids_pos = [patid for patid in list(stat_dic.keys()) \n",
    "                        if stat_dic[patid]['target'][target][0]==1]\n",
    "    # apply a maximum filter to the allowable duration to the target date\n",
    "    patids_pos = list(set.intersection(set(patids_pos), set(filter_list)))\n",
    "    \n",
    "    # apply the same filter to the negative cases\n",
    "    patids_neg = list(set(patids_neg_dic[version]) - set(filter_list))\n",
    "\n",
    "    # get an unbalanced set of positive and negative patids\n",
    "    patids = patids_pos + patids_neg\n",
    "    random.seed(0)\n",
    "    random.shuffle(patids)\n",
    "\n",
    "    # build data and apply SKLearn k-fold split\n",
    "    X, y, dic = build_data(stat_dic, patids, feature_dic, disease_dic, \n",
    "                           lkp_bnf, lkp_prd, eventdate, target, tdqm_display=False)\n",
    "    k_fold_index_set = list(kf.split(X))\n",
    "\n",
    "    # get weights for the unbalanced data\n",
    "    w_0 = len(y) / (2 * sum(y==0))\n",
    "    w_1 = len(y) / (2 * sum(y==1))\n",
    "\n",
    "    # initialize training and test auc score lists\n",
    "    tr_au = []\n",
    "    te_au = []\n",
    "\n",
    "    evals_result = {}\n",
    "\n",
    "    for fold in range(k_folds):\n",
    "        # split the data in to the k-th fold using SKLearn k-fold split\n",
    "        train_idx, test_idx = k_fold_index_set[fold]\n",
    "        X_train, y_train, X_test, y_test = X[train_idx], y[train_idx], X[test_idx], y[test_idx]\n",
    "\n",
    "        # get data in required format for XGBoost - basic WEIGHTING for unbalanced data\n",
    "        dtrain = xgb.DMatrix(X_train, label=y_train, feature_names=list(dic.values()),\n",
    "                             weight=[w_0 if y_train_i==0 else w_1 for y_train_i in y_train])\n",
    "        dtest = xgb.DMatrix(X_test, label=y_test, feature_names=list(dic.values()),\n",
    "                            weight=[w_0 if y_test_i==0 else w_1 for y_test_i in y_test]) \n",
    "\n",
    "        # using Learning API in XGBoost so that can store feature_names within the dMatrix\n",
    "        evals = [(dtrain, 'dtrain'), (dtest, 'dtest')] # early stopping on the last item in evals (so test)\n",
    "        model = xgb.train(params, dtrain, num_boost_round, evals, early_stopping_rounds=20, \n",
    "                          evals_result=evals_result, verbose_eval=False)\n",
    "\n",
    "        # get accuracy score from evals_test for train and test based on best iter then append to score lists\n",
    "        tr_au.append(list(evals_result['dtrain'].values())[0][model.best_iteration])\n",
    "        te_au.append(list(evals_result['dtest'].values())[0][model.best_iteration])\n",
    "\n",
    "    # calculate mean and standard deviation over the k-fold cross validation and append to results lists\n",
    "    result = [period_key, \n",
    "              round(np.mean(np.array(tr_au)),3), \n",
    "              round(np.std(np.array(tr_au)),3), \n",
    "              round(np.mean(np.array(te_au)),3), \n",
    "              round(np.std(np.array(te_au)),3)]\n",
    "    results.append(result)\n",
    "\n",
    "    result_formatted = [period_key,\n",
    "                        f'{round(np.mean(np.array(tr_au)),2)}+/-{round(np.std(np.array(tr_au)),2)}',\n",
    "                        f'{round(np.mean(np.array(te_au)),2)}+/-{round(np.std(np.array(te_au)),2)}']\n",
    "    results_formatted.append(result_formatted)\n",
    "\n",
    "    # print result to screen for checking progress\n",
    "    print(result_formatted, len(patids_pos), len(patids_neg))\n",
    "\n",
    "# save results\n",
    "pickle.dump(results, open(r'Results\\\\results_period_CV_unbalanced_135.p', 'wb'))\n",
    "pickle.dump(results_formatted, open(r'Results\\\\results_period_CV_unbalanced_formatted_135.p', 'wb'))"
   ]
  },
  {
   "cell_type": "markdown",
   "id": "81a5a67c",
   "metadata": {},
   "source": [
    "Print formatted results to latex code for direct insertion in to report."
   ]
  },
  {
   "cell_type": "code",
   "execution_count": 23,
   "id": "35cc5b88",
   "metadata": {},
   "outputs": [
    {
     "name": "stdout",
     "output_type": "stream",
     "text": [
      "\\begin{tabular}{lll}\n",
      "\\toprule\n",
      "  Period &   Train AUC &    Test AUC \\\\\n",
      "\\midrule\n",
      "  0\\_mnth & 0.88+/-0.04 & 0.78+/-0.03 \\\\\n",
      "  6\\_mnth & 0.86+/-0.01 &  0.8+/-0.01 \\\\\n",
      " 12\\_mnth & 0.86+/-0.01 & 0.82+/-0.01 \\\\\n",
      " 24\\_mnth & 0.86+/-0.01 & 0.82+/-0.01 \\\\\n",
      " 60\\_mnth & 0.86+/-0.01 & 0.83+/-0.01 \\\\\n",
      "120\\_mnth & 0.87+/-0.01 & 0.84+/-0.01 \\\\\n",
      "\\bottomrule\n",
      "\\end{tabular}\n",
      "\n"
     ]
    }
   ],
   "source": [
    "results_formatted = pickle.load(open('Results\\\\results_period_CV_unbalanced_formatted_135.p', 'rb'))\n",
    "df = pd.DataFrame(results_formatted, columns=['Period','Train AUC','Test AUC'])\n",
    "print(df.to_latex(index=False))"
   ]
  },
  {
   "cell_type": "markdown",
   "id": "841fbbf2",
   "metadata": {},
   "source": [
    "## 2. 5-fold CV over features - 12 months"
   ]
  },
  {
   "cell_type": "markdown",
   "id": "f8909099",
   "metadata": {},
   "source": [
    "#### Define parameters to cross-validate over\n",
    "\n",
    "For consistency we with the above we perform cross validation using XGBoost with generic parameters that have been observered to perform reasonably on the data. See XGBoost documentation for justification of objective and eval_metric suitability."
   ]
  },
  {
   "cell_type": "code",
   "execution_count": 17,
   "id": "c3f2cb70",
   "metadata": {},
   "outputs": [],
   "source": [
    "feature_dic = {'patient_profile':False,\n",
    "               'drug_metrics_profile':False,\n",
    "               'bnf_profile':False,\n",
    "               'bnf_pca_profile':{'include':False,\n",
    "                                  'pca':None},\n",
    "               'disease_profile':False}\n",
    "\n",
    "# these parameters have been chosen as reasonable parameters to give an indication of potential accuracy\n",
    "params = {'max_depth':4, 'eta':0.3, 'objective':'binary:logistic', 'eval_metric':'auc', 'min_child_weight':10}\n",
    "num_boost_round = 200\n",
    "\n",
    "target = 'patids_v1a_pos'\n",
    "version = 'v1'\n",
    "eventdate = 'eventdate_min'"
   ]
  },
  {
   "cell_type": "markdown",
   "id": "17b21cfb",
   "metadata": {},
   "source": [
    "#### Run cross-validation"
   ]
  },
  {
   "cell_type": "code",
   "execution_count": 18,
   "id": "df434e63",
   "metadata": {},
   "outputs": [
    {
     "name": "stdout",
     "output_type": "stream",
     "text": [
      "[['drug_metrics_profile'], '0.72+/-0.01', '0.72+/-0.02']\n",
      "[['patient_profile'], '0.75+/-0.01', '0.71+/-0.02']\n",
      "[['disease_profile'], '0.69+/-0.0', '0.69+/-0.01']\n",
      "[['bnf_profile'], '0.81+/-0.01', '0.76+/-0.01']\n",
      "[['drug_metrics_profile', 'patient_profile'], '0.8+/-0.01', '0.78+/-0.01']\n",
      "[['drug_metrics_profile', 'disease_profile'], '0.77+/-0.01', '0.76+/-0.02']\n",
      "[['drug_metrics_profile', 'bnf_profile'], '0.82+/-0.02', '0.76+/-0.01']\n",
      "[['patient_profile', 'disease_profile'], '0.8+/-0.01', '0.77+/-0.02']\n",
      "[['patient_profile', 'bnf_profile'], '0.86+/-0.01', '0.8+/-0.01']\n",
      "[['disease_profile', 'bnf_profile'], '0.83+/-0.01', '0.78+/-0.01']\n",
      "[['drug_metrics_profile', 'patient_profile', 'disease_profile'], '0.83+/-0.01', '0.81+/-0.01']\n",
      "[['drug_metrics_profile', 'patient_profile', 'bnf_profile'], '0.86+/-0.01', '0.81+/-0.01']\n",
      "[['drug_metrics_profile', 'disease_profile', 'bnf_profile'], '0.82+/-0.02', '0.78+/-0.02']\n",
      "[['patient_profile', 'disease_profile', 'bnf_profile'], '0.86+/-0.0', '0.81+/-0.01']\n",
      "[['drug_metrics_profile', 'patient_profile', 'disease_profile', 'bnf_profile'], '0.86+/-0.01', '0.82+/-0.01']\n"
     ]
    }
   ],
   "source": [
    "results = []\n",
    "results_formatted = []\n",
    "\n",
    "keys = set(feature_dic.keys())\n",
    "\n",
    "patids_pos = [patid for patid in list(stat_dic.keys()) \n",
    "                    if stat_dic[patid]['target'][target][0]==1]\n",
    "patids_pos = list(set.intersection(set(patids_pos), set(filter_12_mnth)))\n",
    "patids_neg = list(set(patids_neg_dic[version]) - set(filter_12_mnth))\n",
    "\n",
    "# get an unbalanced set of positive and negative patids\n",
    "patids = patids_pos + patids_neg\n",
    "random.seed(0)\n",
    "random.shuffle(patids)\n",
    "\n",
    "for i in range(1,len(keys)):\n",
    "    for comb in combinations(keys-set(['bnf_pca_profile']), i):\n",
    "        \n",
    "        # turn features on for each key in the combination\n",
    "        for key in list(comb):\n",
    "            feature_dic[key]=True\n",
    "            \n",
    "        # build data and apply SKLearn k-fold split\n",
    "        X, y, dic = build_data(stat_dic, patids, feature_dic, disease_dic, \n",
    "                               lkp_bnf, lkp_prd, eventdate, target, tdqm_display=False)\n",
    "        k_fold_index_set = list(kf.split(X))\n",
    "               \n",
    "        # get weights for the unbalanced data\n",
    "        w_0 = len(y) / (2 * sum(y==0))\n",
    "        w_1 = len(y) / (2 * sum(y==1))\n",
    "            \n",
    "        # initialize training and test auc score lists\n",
    "        tr_au = []\n",
    "        te_au = []\n",
    "        \n",
    "        evals_result = {}\n",
    "\n",
    "        for fold in range(k_folds):\n",
    "            # split the data in to the k-th fold using SKLearn k-fold split\n",
    "            train_idx, test_idx = k_fold_index_set[fold]\n",
    "            X_train, y_train, X_test, y_test = X[train_idx], y[train_idx], X[test_idx], y[test_idx]\n",
    "\n",
    "            # get data in required format for XGBoost - basic WEIGHTING for unbalanced data\n",
    "            dtrain = xgb.DMatrix(X_train, label=y_train, feature_names=list(dic.values()),\n",
    "                                 weight=[w_0 if y_train_i==0 else w_1 for y_train_i in y_train])\n",
    "            dtest = xgb.DMatrix(X_test, label=y_test, feature_names=list(dic.values()),\n",
    "                                weight=[w_0 if y_test_i==0 else w_1 for y_test_i in y_test])\n",
    "            \n",
    "            # using Learning API in XGBoost so that can store feature_names within the dMatrix\n",
    "            evals = [(dtrain, 'dtrain'), (dtest, 'dtest')] # early stopping on the last item in evals (so test)\n",
    "            model = xgb.train(params, dtrain, num_boost_round, evals, early_stopping_rounds=20, \n",
    "                              evals_result=evals_result, verbose_eval=False)\n",
    "\n",
    "            # get accuracy score from evals_test for train and test based on best iter then append to score lists\n",
    "            tr_au.append(list(evals_result['dtrain'].values())[0][model.best_iteration])\n",
    "            te_au.append(list(evals_result['dtest'].values())[0][model.best_iteration])\n",
    "\n",
    "        # calculate mean and standard deviation over the k-fold cross validation and append to results lists\n",
    "        result = [list(comb), \n",
    "                  round(np.mean(np.array(tr_au)),3), \n",
    "                  round(np.std(np.array(tr_au)),3), \n",
    "                  round(np.mean(np.array(te_au)),3), \n",
    "                  round(np.std(np.array(te_au)),3)]\n",
    "        results.append(result)\n",
    "\n",
    "        result_formatted = [list(comb), \n",
    "                            f'{round(np.mean(np.array(tr_au)),2)}+/-{round(np.std(np.array(tr_au)),2)}',\n",
    "                            f'{round(np.mean(np.array(te_au)),2)}+/-{round(np.std(np.array(te_au)),2)}']\n",
    "        results_formatted.append(result_formatted)\n",
    "\n",
    "        # print result to screen for checking progress\n",
    "        print(result_formatted)\n",
    "        \n",
    "        # turn features off for each key in the combination\n",
    "        for key in list(comb):\n",
    "            feature_dic[key]=False \n",
    "            \n",
    "# save results\n",
    "pickle.dump(results, open('Results\\\\results_feature_CV_unbalanced_135.p', 'wb'))\n",
    "pickle.dump(results_formatted, open('Results\\\\results_feature_CV_unbalanced_formatted_135.p', 'wb'))"
   ]
  },
  {
   "cell_type": "markdown",
   "id": "6636ae7b",
   "metadata": {},
   "source": [
    "Print formatted results to latex code for direct insertion in to report."
   ]
  },
  {
   "cell_type": "code",
   "execution_count": 24,
   "id": "b300c7c2",
   "metadata": {},
   "outputs": [
    {
     "name": "stdout",
     "output_type": "stream",
     "text": [
      "\\begin{tabular}{lll}\n",
      "\\toprule\n",
      "                               Feature Combination &   Train AUC &    Test AUC \\\\\n",
      "\\midrule\n",
      "                            [drug\\_metrics\\_profile] & 0.72+/-0.01 & 0.72+/-0.02 \\\\\n",
      "                                 [patient\\_profile] & 0.75+/-0.01 & 0.71+/-0.02 \\\\\n",
      "                                 [disease\\_profile] &  0.69+/-0.0 & 0.69+/-0.01 \\\\\n",
      "                                     [bnf\\_profile] & 0.81+/-0.01 & 0.76+/-0.01 \\\\\n",
      "           [drug\\_metrics\\_profile, patient\\_profile] &  0.8+/-0.01 & 0.78+/-0.01 \\\\\n",
      "           [drug\\_metrics\\_profile, disease\\_profile] & 0.77+/-0.01 & 0.76+/-0.02 \\\\\n",
      "               [drug\\_metrics\\_profile, bnf\\_profile] & 0.82+/-0.02 & 0.76+/-0.01 \\\\\n",
      "                [patient\\_profile, disease\\_profile] &  0.8+/-0.01 & 0.77+/-0.02 \\\\\n",
      "                    [patient\\_profile, bnf\\_profile] & 0.86+/-0.01 &  0.8+/-0.01 \\\\\n",
      "                    [disease\\_profile, bnf\\_profile] & 0.83+/-0.01 & 0.78+/-0.01 \\\\\n",
      "[drug\\_metrics\\_profile, patient\\_profile, disease... & 0.83+/-0.01 & 0.81+/-0.01 \\\\\n",
      "[drug\\_metrics\\_profile, patient\\_profile, bnf\\_pro... & 0.86+/-0.01 & 0.81+/-0.01 \\\\\n",
      "[drug\\_metrics\\_profile, disease\\_profile, bnf\\_pro... & 0.82+/-0.02 & 0.78+/-0.02 \\\\\n",
      "   [patient\\_profile, disease\\_profile, bnf\\_profile] &  0.86+/-0.0 & 0.81+/-0.01 \\\\\n",
      "[drug\\_metrics\\_profile, patient\\_profile, disease... & 0.86+/-0.01 & 0.82+/-0.01 \\\\\n",
      "\\bottomrule\n",
      "\\end{tabular}\n",
      "\n"
     ]
    }
   ],
   "source": [
    "results_formatted = pickle.load(open('Results\\\\results_feature_CV_unbalanced_formatted_135.p', 'rb'))\n",
    "df = pd.DataFrame(results_formatted, columns=['Feature Combination','Train AUC','Test AUC'])\n",
    "print(df.to_latex(index=False))"
   ]
  },
  {
   "cell_type": "markdown",
   "id": "ef0331e7",
   "metadata": {},
   "source": [
    "## 3. EHA model trained on all 135 data - 12 months"
   ]
  },
  {
   "cell_type": "markdown",
   "id": "61d2c25d",
   "metadata": {},
   "source": [
    "### Get data"
   ]
  },
  {
   "cell_type": "code",
   "execution_count": null,
   "id": "3ed2a6f1",
   "metadata": {},
   "outputs": [],
   "source": [
    "# these parameters have been chosen as reasonable parameters to give an indication of potential accuracy\n",
    "params = {'max_depth':4, 'eta':0.3, 'objective':'binary:logistic', 'eval_metric':'auc', 'min_child_weight':10}\n",
    "\n",
    "target = 'patids_v1a_pos'\n",
    "version = 'v1'\n",
    "eventdate = 'eventdate_min'\n",
    "\n",
    "patids_pos = [patid for patid in list(stat_dic.keys()) \n",
    "                    if stat_dic[patid]['target'][target][0]==1]\n",
    "patids_pos = list(set.intersection(set(patids_pos), set(filter_12_mnth)))\n",
    "patids_neg = list(set(patids_neg_dic[version]) - set(filter_12_mnth))\n",
    "\n",
    "patids = patids_pos + patids_neg\n",
    "random.seed(0)\n",
    "random.shuffle(patids)\n",
    "\n",
    "feature_dic = {'patient_profile':True,\n",
    "               'drug_metrics_profile':True,\n",
    "               'bnf_profile':True,\n",
    "               'bnf_pca_profile':{'include':False,\n",
    "                                  'pca':None},\n",
    "               'disease_profile':True}\n",
    "\n",
    "# get data\n",
    "X, y, dic = build_data(stat_dic, patids, feature_dic, disease_dic, \n",
    "                       lkp_bnf, lkp_prd, eventdate, target, tdqm_display=True)\n",
    "\n",
    "k_fold_index_set = list(kf.split(X))\n",
    "\n",
    "# get weights for the unbalanced data\n",
    "w_0 = len(y) / (2 * sum(y==0))\n",
    "w_1 = len(y) / (2 * sum(y==1))"
   ]
  },
  {
   "cell_type": "markdown",
   "id": "171eeca4",
   "metadata": {},
   "source": [
    "### Establish optimum number of training rounds"
   ]
  },
  {
   "cell_type": "code",
   "execution_count": 50,
   "id": "3e089720",
   "metadata": {},
   "outputs": [],
   "source": [
    "num_boost_round = 100\n",
    "\n",
    "# initialize training and test auc score lists\n",
    "tr_epoch_au = []\n",
    "te_epoch_au = []\n",
    "\n",
    "for fold in range(k_folds):\n",
    "    \n",
    "    evals_result = {}\n",
    "\n",
    "    # split the data in to the k-th fold using SKLearn k-fold split\n",
    "    train_idx, test_idx = k_fold_index_set[fold]\n",
    "    X_train, y_train, X_test, y_test = X[train_idx], y[train_idx], X[test_idx], y[test_idx]\n",
    "\n",
    "    # get data in required format for XGBoost - basic WEIGHTING for unbalanced data\n",
    "    dtrain = xgb.DMatrix(X_train, label=y_train, feature_names=list(dic.values()),\n",
    "                         weight=[w_0 if y_train_i==0 else w_1 for y_train_i in y_train])\n",
    "    dtest = xgb.DMatrix(X_test, label=y_test, feature_names=list(dic.values()),\n",
    "                        weight=[w_0 if y_test_i==0 else w_1 for y_test_i in y_test])\n",
    "\n",
    "    # using Learning API in XGBoost so that can store feature_names within the dMatrix\n",
    "    evals = [(dtrain, 'dtrain'), (dtest, 'dtest')] # early stopping on the last item in evals (so test)\n",
    "    model = xgb.train(params, dtrain, num_boost_round, evals=evals,\n",
    "                      evals_result=evals_result, verbose_eval=False)\n",
    "\n",
    "    # get accuracy score from evals_test for train and test\n",
    "    tr_epoch_au.append(np.array(list(evals_result['dtrain'].values())[0]))\n",
    "    te_epoch_au.append(np.array(list(evals_result['dtest'].values())[0]))"
   ]
  },
  {
   "cell_type": "code",
   "execution_count": 58,
   "id": "df7384cc",
   "metadata": {},
   "outputs": [
    {
     "data": {
      "image/png": "[encoded data removed]",
      "text/plain": [
       "<Figure size 504x360 with 1 Axes>"
      ]
     },
     "metadata": {
      "needs_background": "light"
     },
     "output_type": "display_data"
    },
    {
     "name": "stdout",
     "output_type": "stream",
     "text": [
      "optimal training rounds: 32\n",
      "optimal AUC: 0.813974\n"
     ]
    }
   ],
   "source": [
    "plt.figure(figsize=(7,5))\n",
    "line_b = plt.errorbar((np.linspace(1,100,100)), np.mean(np.array(te_epoch_au), axis=0), \n",
    "             yerr=np.std(np.array(te_epoch_au), axis=0), errorevery=5, capsize=3, label='Test +/- s.d')\n",
    "\n",
    "line_a = plt.errorbar((np.linspace(1,100,100)), np.mean(np.array(tr_epoch_au), axis=0), \n",
    "             yerr=np.std(np.array(tr_epoch_au), axis=0), errorevery=5, capsize=3, label='Train +/- s.d')\n",
    "plt.xlabel('Boosting Rounds', labelpad=8) #, fontsize='large', fontweight='demibold')\n",
    "plt.ylabel('AUC', labelpad=8) #, fontsize='large', fontweight='demibold')\n",
    "plt.ylim(0.76,0.92)\n",
    "plt.xlim(0,100)\n",
    "plt.grid(True)\n",
    "plt.axvline(x=np.argmax(np.mean(np.array(te_epoch_au), axis=0))+1, color='red', linestyle=(0,(3,4)),\n",
    "            label=f'x = {np.argmax(np.mean(np.array(te_epoch_au), axis=0))+1}')\n",
    "plt.legend(loc='center right')\n",
    "plt.savefig('boosting_rounds.jpg', format='jpg', dpi=300, bbox_inches='tight')\n",
    "plt.show()\n",
    "\n",
    "print(f'optimal training rounds: {np.argmax(np.mean(np.array(te_epoch_au), axis=0))+1}')\n",
    "print(f'optimal AUC: {np.max(np.mean(np.array(te_epoch_au), axis=0))}')"
   ]
  },
  {
   "cell_type": "markdown",
   "id": "4f5db6e2",
   "metadata": {},
   "source": [
    "### Train on all data and save"
   ]
  },
  {
   "cell_type": "code",
   "execution_count": 174,
   "id": "5e025c6e",
   "metadata": {},
   "outputs": [],
   "source": [
    "num_boost_round = 32 # 32 from chart above\n",
    "\n",
    "# get data in required format for XGBoost\n",
    "ddata = xgb.DMatrix(X, label=y, feature_names=list(dic.values()),\n",
    "                    weight=[w_0 if y_i==0 else w_1 for y_i in y])\n",
    "\n",
    "# using Learning API in XGBoost so that can store feature_names within the dMatrix\n",
    "evals_result = {}\n",
    "evals = [(ddata, 'ddata')]\n",
    "model = xgb.train(params, ddata, num_boost_round, evals=evals,\n",
    "                  evals_result=evals_result, verbose_eval=False)"
   ]
  },
  {
   "cell_type": "code",
   "execution_count": 175,
   "id": "6bcdf316",
   "metadata": {},
   "outputs": [],
   "source": [
    "# save model\n",
    "pickle.dump(model, open('model_eha_unbalanced_135.p', 'wb'))"
   ]
  },
  {
   "cell_type": "markdown",
   "id": "89cfa0dd",
   "metadata": {},
   "source": [
    "### Evaluate"
   ]
  },
  {
   "cell_type": "code",
   "execution_count": 14,
   "id": "ec6794dc",
   "metadata": {},
   "outputs": [],
   "source": [
    "num_boost_round = 32 # from chart above"
   ]
  },
  {
   "cell_type": "markdown",
   "id": "1a556ca9",
   "metadata": {},
   "source": [
    "#### Threshold selection"
   ]
  },
  {
   "cell_type": "code",
   "execution_count": 15,
   "id": "c4b23526",
   "metadata": {},
   "outputs": [],
   "source": [
    "# splitting in to 80% train 20% test\n",
    "X_train, X_test, y_train, y_test = train_test_split(X, y, test_size=1/5, random_state=0)\n",
    "\n",
    "# using scikit learn API so that can use precision_recall curve\n",
    "model = xgb.XGBClassifier(n_estimators=num_boost_round, max_depth=4, learning_rate=0.3, objective='binary:logistic', \n",
    "                          min_child_weight=10, use_label_encoder=False)\n",
    "fitted_model = model.fit(X_train, y_train, sample_weight=[w_0 if y_train_i==0 else w_1 for y_train_i in y_train],\n",
    "                         eval_metric='auc')"
   ]
  },
  {
   "cell_type": "code",
   "execution_count": 16,
   "id": "882efd43",
   "metadata": {},
   "outputs": [],
   "source": [
    "threshold=[]\n",
    "f1_scores=[]\n",
    "accuracy_scores=[]\n",
    "precision_scores=[]\n",
    "recall_scores=[]\n",
    "roc_auc_scores=[]\n",
    "for i in range(-100,100):\n",
    "    threshold.append(0.5+i*0.005)\n",
    "    f1_scores.append(f1_score(y_test, \n",
    "                              [pred>0.5+i*0.005 for pred in fitted_model.predict_proba(X_test)[:,1]]))\n",
    "    accuracy_scores.append(accuracy_score(y_test, \n",
    "                                          [pred>0.5+i*0.005 for pred in fitted_model.predict_proba(X_test)[:,1]]))\n",
    "    recall_scores.append(recall_score(y_test, \n",
    "                                      [pred>0.5+i*0.005 for pred in fitted_model.predict_proba(X_test)[:,1]],\n",
    "                                      zero_division=0))\n",
    "    precision_scores.append(precision_score(y_test, \n",
    "                                            [pred>0.5+i*0.005 for pred in fitted_model.predict_proba(X_test)[:,1]],\n",
    "                                            zero_division=0))"
   ]
  },
  {
   "cell_type": "code",
   "execution_count": 54,
   "id": "ab7d1467",
   "metadata": {},
   "outputs": [
    {
     "data": {
      "image/png": "[encoded data removed]",
      "text/plain": [
       "<Figure size 504x360 with 1 Axes>"
      ]
     },
     "metadata": {
      "needs_background": "light"
     },
     "output_type": "display_data"
    },
    {
     "name": "stdout",
     "output_type": "stream",
     "text": [
      "max f1 score: 0.36989247311827955\n",
      "precision/recall at this point: 0.3722943722943723/0.36752136752136755\n",
      "\n",
      "max accuracy score: 0.9347079037800687\n"
     ]
    }
   ],
   "source": [
    "plt.figure(figsize=(7,5))\n",
    "plt.plot(threshold, precision_scores, label='Precision')\n",
    "plt.plot(threshold, recall_scores, label='Recall')\n",
    "plt.ylabel('Score', labelpad=8) # fontsize='large', fontweight='demibold'\n",
    "plt.xlabel('Threshold', labelpad=8) # fontsize='large', fontweight='demibold'\n",
    "plt.axvline(x=threshold[np.argmax(f1_scores)], color='red', linestyle=(0,(3,4)), \n",
    "                        label=f'x = {round(threshold[np.argmax(f1_scores)], 3)}')\n",
    "plt.axvline(x=threshold[np.argmax(accuracy_scores)], color='green', linestyle=(0,(3,4)), \n",
    "                        label=f'x = {round(threshold[np.argmax(accuracy_scores)], 3)}')\n",
    "plt.legend(loc='center left')\n",
    "plt.grid(True)\n",
    "plt.savefig('precision_recall_threshold.jpg', format='jpg', dpi=300)\n",
    "plt.show()\n",
    "\n",
    "print(f'max f1 score: {np.max(f1_scores)}')\n",
    "print(f'precision/recall at this point: {precision_scores[np.argmax(f1_scores)]}/{recall_scores[np.argmax(f1_scores)]}')\n",
    "print()\n",
    "print(f'max accuracy score: {np.max(accuracy_scores)}')"
   ]
  },
  {
   "cell_type": "code",
   "execution_count": 19,
   "id": "e3141113",
   "metadata": {},
   "outputs": [
    {
     "data": {
      "image/png": "[encoded data removed]",
      "text/plain": [
       "<Figure size 432x360 with 1 Axes>"
      ]
     },
     "metadata": {
      "needs_background": "light"
     },
     "output_type": "display_data"
    },
    {
     "name": "stdout",
     "output_type": "stream",
     "text": [
      "max accuracy score: 0.9347079037800687\n"
     ]
    }
   ],
   "source": [
    "plt.figure(figsize=(6,5))\n",
    "plt.plot(threshold, f1_scores,\n",
    "         label=f'XGBClassifier (F1 = {round(np.max(f1_scores),2)})',\n",
    "         marker='.', markersize=3)\n",
    "plt.ylabel('F1-Score (Positive label: 1)', labelpad=8) # fontsize='large', fontweight='demibold'\n",
    "plt.xlabel('Threshold (Positive label: 1)', labelpad=8) # fontsize='large', fontweight='demibold'\n",
    "plt.axvline(x=threshold[np.argmax(f1_scores)], color='red', linestyle=(0,(3,4)), \n",
    "                        label=f'x = {round(threshold[np.argmax(f1_scores)],3)}')\n",
    "plt.axvline(x=threshold[np.argmax(accuracy_scores)], color='green', linestyle=(0,(3,4)), \n",
    "            label=f'x = {round(threshold[np.argmax(accuracy_scores)],3)}')\n",
    "plt.legend(loc='lower left')\n",
    "plt.grid(True)\n",
    "plt.ylim(-0.02,0.42)\n",
    "plt.savefig('f1_threshold.jpg', format='jpg', dpi=300)\n",
    "plt.show()\n",
    "\n",
    "print(f'max accuracy score: {np.max(accuracy_scores)}')"
   ]
  },
  {
   "cell_type": "markdown",
   "id": "ac86fc58",
   "metadata": {},
   "source": [
    "#### 20 runs for final evaluation metrics"
   ]
  },
  {
   "cell_type": "code",
   "execution_count": 22,
   "id": "af6400e2",
   "metadata": {},
   "outputs": [],
   "source": [
    "threshold = 0.8 # inferred from charts above"
   ]
  },
  {
   "cell_type": "code",
   "execution_count": 23,
   "id": "dd34abad",
   "metadata": {},
   "outputs": [
    {
     "name": "stdout",
     "output_type": "stream",
     "text": [
      "[985772 305711 435829 117952 963395 152315 882371 359783 304137 122579\n",
      " 610581 448242 374564 735831 736326 310744 170584 839052 604474 541377]\n"
     ]
    }
   ],
   "source": [
    "np.random.seed(seed=0)\n",
    "\n",
    "seed_list = np.random.randint(0, 1000000, 20)\n",
    "print(seed_list)"
   ]
  },
  {
   "cell_type": "code",
   "execution_count": 26,
   "id": "da64df03",
   "metadata": {
    "scrolled": false
   },
   "outputs": [
    {
     "name": "stdout",
     "output_type": "stream",
     "text": [
      "['0.81+/-0.013', '0.92+/-0.004', '0.36+/-0.035', '0.32+/-0.03', '0.34+/-0.03']\n"
     ]
    }
   ],
   "source": [
    "# initialize evaluation score lists\n",
    "tr_au, tr_as, tr_ps, tr_rs, te_fs = [], [], [], [], []\n",
    "te_au, te_as, te_ps, te_rs, te_fs = [], [], [], [], []\n",
    "\n",
    "for seed in seed_list:\n",
    "    # split the data in to train and test for each random seed\n",
    "    X_train, X_test, y_train, y_test = train_test_split(X, y, test_size=1/5, random_state=seed)\n",
    "\n",
    "    # get data in required format for XGBoost - basic WEIGHTING for unbalanced data (defined at X/y top level)\n",
    "    dtrain = xgb.DMatrix(X_train, label=y_train, feature_names=list(dic.values()),\n",
    "                         weight=[w_0 if y_train_i==0 else w_1 for y_train_i in y_train])\n",
    "    dtest = xgb.DMatrix(X_test, label=y_test, feature_names=list(dic.values()),\n",
    "                        weight=[w_0 if y_test_i==0 else w_1 for y_test_i in y_test])\n",
    "\n",
    "    # using Learning API in XGBoost so that can store feature_names within the dMatrix\n",
    "    model = xgb.train(params, dtrain, num_boost_round, verbose_eval=False)\n",
    "\n",
    "    # calculate evaluation scores and append to score lists\n",
    "    te_au.append(roc_auc_score(y_test, [pred for pred in model.predict(dtest, output_margin=True)]))\n",
    "    te_as.append(accuracy_score(y_test, [pred>threshold for pred in model.predict(dtest)]))\n",
    "    te_ps.append(precision_score(y_test, [pred>threshold for pred in model.predict(dtest)]))\n",
    "    te_rs.append(recall_score(y_test, [pred>threshold for pred in model.predict(dtest)]))\n",
    "    te_fs.append(f1_score(y_test, [pred>threshold for pred in model.predict(dtest)]))\n",
    "    \n",
    "    # print progress out\n",
    "#     print(te_au[-1], te_as[-1], te_ps[-1], te_rs[-1], te_fs[-1])\n",
    "\n",
    "# calculate mean and standard deviation over the k-fold cross validation and append to results lists\n",
    "results = [te_au, te_as, te_ps, te_rs, te_fs]\n",
    "\n",
    "result_formatted = [f'{round(np.mean(np.array(te_au)),2)}+/-{round(np.std(np.array(te_au)),3)}',\n",
    "                    f'{round(np.mean(np.array(te_as)),2)}+/-{round(np.std(np.array(te_as)),3)}',\n",
    "                    f'{round(np.mean(np.array(te_ps)),2)}+/-{round(np.std(np.array(te_ps)),3)}',\n",
    "                    f'{round(np.mean(np.array(te_rs)),2)}+/-{round(np.std(np.array(te_rs)),3)}',\n",
    "                    f'{round(np.mean(np.array(te_fs)),2)}+/-{round(np.std(np.array(te_fs)),3)}']\n",
    "\n",
    "# print final formatted result to screen\n",
    "print(result_formatted)\n",
    "            \n",
    "# save results\n",
    "pickle.dump(results, open('Results\\\\results_final_20_unbalanced_135.p', 'wb'))"
   ]
  },
  {
   "cell_type": "markdown",
   "id": "dc6b096c",
   "metadata": {},
   "source": [
    "#### Precision-recall and ROC curves"
   ]
  },
  {
   "cell_type": "code",
   "execution_count": 21,
   "id": "5b274ab7",
   "metadata": {},
   "outputs": [],
   "source": [
    "# selected a seed from seed_list above for printing out example charts\n",
    "X_train, X_test, y_train, y_test = train_test_split(X, y, test_size=1/5, random_state=604474)\n",
    "\n",
    "# get data in required format for XGBoost - basic WEIGHTING for unbalanced data (defined at X/y top level)\n",
    "dtrain = xgb.DMatrix(X_train, label=y_train, feature_names=list(dic.values()),\n",
    "                     weight=[w_0 if y_train_i==0 else w_1 for y_train_i in y_train])\n",
    "dtest = xgb.DMatrix(X_test, label=y_test, feature_names=list(dic.values()),\n",
    "                    weight=[w_0 if y_test_i==0 else w_1 for y_test_i in y_test])\n",
    "\n",
    "# using Learning API in XGBoost so that can store feature_names within the dMatrix\n",
    "example_model = xgb.train(params, dtrain, num_boost_round, verbose_eval=False)\n",
    "\n",
    "# predictions from example model\n",
    "preds = [pred for pred in example_model.predict(dtest, output_margin=True)]"
   ]
  },
  {
   "cell_type": "code",
   "execution_count": 24,
   "id": "2e0f0897",
   "metadata": {},
   "outputs": [
    {
     "data": {
      "image/png": "[encoded data removed]",
      "text/plain": [
       "<Figure size 432x360 with 1 Axes>"
      ]
     },
     "metadata": {
      "needs_background": "light"
     },
     "output_type": "display_data"
    }
   ],
   "source": [
    "precision, recall, _ = precision_recall_curve(y_test, preds) # , sample_weight=sample_weight)\n",
    "# sample_weight = [w_0 if y_test_i==0 else w_1 for y_test_i in y_test]\n",
    "\n",
    "plt.figure(figsize=(6,5))\n",
    "plt.plot(recall, precision, \n",
    "         label=f'XGBClassifier (AP = {round(average_precision_score(y_test, preds),2)})', # sample_weight=\n",
    "         marker='.', markersize=3)\n",
    "# calculate the no skill line as the proportion of the positive class\n",
    "plt.plot([sum(y_test)/len(y_test), sum(y_test)/len(y_test)], color='grey', linestyle='dashed', label='No skill')\n",
    "plt.legend(loc='upper right')\n",
    "plt.ylim(-0.05,1.05)\n",
    "plt.ylabel('Precision (Positive label: 1)', labelpad=8)\n",
    "plt.xlabel('Recall (Positive label: 1)', labelpad=8)\n",
    "plt.grid(True)\n",
    "plt.savefig('precision_recall_curve.jpg', format='jpg', dpi=300)\n",
    "plt.show()"
   ]
  },
  {
   "cell_type": "code",
   "execution_count": 37,
   "id": "90aaf3af",
   "metadata": {},
   "outputs": [],
   "source": [
    "# selected a seed from seed_list above for printing out example charts\n",
    "X_train, X_test, y_train, y_test = train_test_split(X, y, test_size=1/5, random_state=985772)\n",
    "\n",
    "# get data in required format for XGBoost - basic WEIGHTING for unbalanced data (defined at X/y top level)\n",
    "dtrain = xgb.DMatrix(X_train, label=y_train, feature_names=list(dic.values()),\n",
    "                     weight=[w_0 if y_train_i==0 else w_1 for y_train_i in y_train])\n",
    "dtest = xgb.DMatrix(X_test, label=y_test, feature_names=list(dic.values()),\n",
    "                    weight=[w_0 if y_test_i==0 else w_1 for y_test_i in y_test])\n",
    "\n",
    "# using Learning API in XGBoost so that can store feature_names within the dMatrix\n",
    "example_model = xgb.train(params, dtrain, num_boost_round, verbose_eval=False)\n",
    "\n",
    "# predictions from example model\n",
    "preds = [pred for pred in example_model.predict(dtest, output_margin=True)]"
   ]
  },
  {
   "cell_type": "code",
   "execution_count": 38,
   "id": "32070ec6",
   "metadata": {},
   "outputs": [
    {
     "data": {
      "image/png": "[encoded data removed]",
      "text/plain": [
       "<Figure size 432x360 with 1 Axes>"
      ]
     },
     "metadata": {
      "needs_background": "light"
     },
     "output_type": "display_data"
    }
   ],
   "source": [
    "fpr, tpr, _ = roc_curve(y_test, preds) # , sample_weight=sample_weight)\n",
    "# sample_weight = [w_0 if y_test_i==0 else w_1 for y_test_i in y_test]\n",
    "\n",
    "plt.figure(figsize=(6,5))\n",
    "plt.plot(fpr, tpr, \n",
    "         label=f'XGBClassifier (AUC = {round(roc_auc_score(y_test, preds),2)})', # sample_weight=\n",
    "         marker='.', markersize=3)\n",
    "# calculate the no skill line as the proportion of the positive class\n",
    "plt.plot([0,1], color='grey', linestyle='dashed', label='No skill')\n",
    "plt.legend(loc='lower right')\n",
    "plt.ylim(-0.05,1.05)\n",
    "plt.ylabel('True Positive Rate (Positive label: 1)', labelpad=8)\n",
    "plt.xlabel('False Positive Rate (Positive label: 1)', labelpad=8)\n",
    "plt.grid(True)\n",
    "plt.savefig('roc_curve.jpg', format='jpg', dpi=300)\n",
    "plt.show()"
   ]
  },
  {
   "cell_type": "markdown",
   "id": "d69a296a",
   "metadata": {},
   "source": [
    "### Interpretability"
   ]
  },
  {
   "cell_type": "code",
   "execution_count": 14,
   "id": "dc376fc3",
   "metadata": {},
   "outputs": [],
   "source": [
    "# load model that was trained on all data\n",
    "model = pickle.load(open('model_eha_unbalanced_135.p', 'rb'))"
   ]
  },
  {
   "cell_type": "code",
   "execution_count": 47,
   "id": "860e0381",
   "metadata": {},
   "outputs": [
    {
     "data": {
      "image/png": "[encoded data removed]",
      "text/plain": [
       "<Figure size 576x576 with 1 Axes>"
      ]
     },
     "metadata": {
      "needs_background": "light"
     },
     "output_type": "display_data"
    }
   ],
   "source": [
    "topk = 10\n",
    "\n",
    "# sort model importances and take top k\n",
    "sorted_importance = {k:v for k,v in sorted(model.get_score(importance_type='gain').items(),\n",
    "                                           key=lambda item: item[1], reverse=True)[:topk]}\n",
    "\n",
    "df = pd.DataFrame({'Feature': list(sorted_importance.keys())[:topk],\n",
    "                   'Importance': 100*np.array(list(sorted_importance.values())[:topk])/\\\n",
    "                                 max(np.array(list(sorted_importance.values())))})\n",
    "\n",
    "ax = df.plot(x='Feature', kind='barh', figsize=(8,8))\n",
    "ax.invert_yaxis()\n",
    "plt.xlabel('Percent Importance (%)', labelpad=8, fontsize='large', fontweight='demibold')\n",
    "plt.ylabel('Feature', fontsize='large', fontweight='demibold')\n",
    "plt.grid(axis='x')\n",
    "ax.set_xticks(ticks=np.linspace(0,100,11))\n",
    "plt.savefig('feature_importance.jpg', format='jpg', dpi=300, bbox_inches='tight')\n",
    "plt.show()"
   ]
  },
  {
   "cell_type": "code",
   "execution_count": 32,
   "id": "63dc3c7e",
   "metadata": {
    "scrolled": false
   },
   "outputs": [
    {
     "data": {
      "image/svg+xml": [
       "<?xml version=\"1.0\" encoding=\"UTF-8\" standalone=\"no\"?>\r\n",
       "<!DOCTYPE svg PUBLIC \"-//W3C//DTD SVG 1.1//EN\"\r\n",
       " \"http://www.w3.org/Graphics/SVG/1.1/DTD/svg11.dtd\">\r\n",
       "<!-- Generated by graphviz version 2.38.0 (20140413.2041)\r\n",
       " -->\r\n",
       "<!-- Title: %3 Pages: 1 -->\r\n",
       "<svg width=\"720pt\" height=\"505pt\"\r\n",
       " viewBox=\"0.00 0.00 720.00 504.83\" xmlns=\"http://www.w3.org/2000/svg\" xmlns:xlink=\"http://www.w3.org/1999/xlink\">\r\n",
       "<g id=\"graph0\" class=\"graph\" transform=\"scale(0.591133 0.591133) rotate(0) translate(4 850)\">\r\n",
       "<title>%3</title>\r\n",
       "<polygon fill=\"white\" stroke=\"none\" points=\"-4,4 -4,-850 1214,-850 1214,4 -4,4\"/>\r\n",
       "<!-- 0 -->\r\n",
       "<g id=\"node1\" class=\"node\"><title>0</title>\r\n",
       "<path fill=\"none\" stroke=\"black\" d=\"M86,-460C86,-460 12,-460 12,-460 6,-460 0,-454 0,-448 0,-448 0,-436 0,-436 0,-430 6,-424 12,-424 12,-424 86,-424 86,-424 92,-424 98,-430 98,-436 98,-436 98,-448 98,-448 98,-454 92,-460 86,-460\"/>\r\n",
       "<text text-anchor=\"middle\" x=\"49\" y=\"-438.3\" font-family=\"Times New Roman,serif\" font-size=\"14.00\">num_med&lt;7.5</text>\r\n",
       "</g>\r\n",
       "<!-- 1 -->\r\n",
       "<g id=\"node2\" class=\"node\"><title>1</title>\r\n",
       "<path fill=\"none\" stroke=\"black\" d=\"M299,-547C299,-547 215,-547 215,-547 209,-547 203,-541 203,-535 203,-535 203,-523 203,-523 203,-517 209,-511 215,-511 215,-511 299,-511 299,-511 305,-511 311,-517 311,-523 311,-523 311,-535 311,-535 311,-541 305,-547 299,-547\"/>\r\n",
       "<text text-anchor=\"middle\" x=\"257\" y=\"-525.3\" font-family=\"Times New Roman,serif\" font-size=\"14.00\">age&lt;72.9082184</text>\r\n",
       "</g>\r\n",
       "<!-- 0&#45;&gt;1 -->\r\n",
       "<g id=\"edge1\" class=\"edge\"><title>0&#45;&gt;1</title>\r\n",
       "<path fill=\"none\" stroke=\"#0000ff\" d=\"M92.6833,-460.026C125,-473.675 169.547,-492.488 203.954,-507.02\"/>\r\n",
       "<polygon fill=\"#0000ff\" stroke=\"#0000ff\" points=\"202.797,-510.33 213.371,-510.997 205.521,-503.882 202.797,-510.33\"/>\r\n",
       "<text text-anchor=\"middle\" x=\"150.5\" y=\"-501.8\" font-family=\"Times New Roman,serif\" font-size=\"14.00\">yes, missing</text>\r\n",
       "</g>\r\n",
       "<!-- 2 -->\r\n",
       "<g id=\"node3\" class=\"node\"><title>2</title>\r\n",
       "<path fill=\"none\" stroke=\"black\" d=\"M299,-329C299,-329 215,-329 215,-329 209,-329 203,-323 203,-317 203,-317 203,-305 203,-305 203,-299 209,-293 215,-293 215,-293 299,-293 299,-293 305,-293 311,-299 311,-305 311,-305 311,-317 311,-317 311,-323 305,-329 299,-329\"/>\r\n",
       "<text text-anchor=\"middle\" x=\"257\" y=\"-307.3\" font-family=\"Times New Roman,serif\" font-size=\"14.00\">age&lt;74.7246552</text>\r\n",
       "</g>\r\n",
       "<!-- 0&#45;&gt;2 -->\r\n",
       "<g id=\"edge2\" class=\"edge\"><title>0&#45;&gt;2</title>\r\n",
       "<path fill=\"none\" stroke=\"#ff0000\" d=\"M78.6434,-423.785C115.31,-400.468 178.895,-360.033 219.138,-334.441\"/>\r\n",
       "<polygon fill=\"#ff0000\" stroke=\"#ff0000\" points=\"221.04,-337.38 227.6,-329.06 217.283,-331.473 221.04,-337.38\"/>\r\n",
       "<text text-anchor=\"middle\" x=\"150.5\" y=\"-402.8\" font-family=\"Times New Roman,serif\" font-size=\"14.00\">no</text>\r\n",
       "</g>\r\n",
       "<!-- 3 -->\r\n",
       "<g id=\"node4\" class=\"node\"><title>3</title>\r\n",
       "<path fill=\"none\" stroke=\"black\" d=\"M547.5,-711C547.5,-711 458.5,-711 458.5,-711 452.5,-711 446.5,-705 446.5,-699 446.5,-699 446.5,-687 446.5,-687 446.5,-681 452.5,-675 458.5,-675 458.5,-675 547.5,-675 547.5,-675 553.5,-675 559.5,-681 559.5,-687 559.5,-687 559.5,-699 559.5,-699 559.5,-705 553.5,-711 547.5,-711\"/>\r\n",
       "<text text-anchor=\"middle\" x=\"503\" y=\"-689.3\" font-family=\"Times New Roman,serif\" font-size=\"14.00\">hypertension&lt;0.5</text>\r\n",
       "</g>\r\n",
       "<!-- 1&#45;&gt;3 -->\r\n",
       "<g id=\"edge3\" class=\"edge\"><title>1&#45;&gt;3</title>\r\n",
       "<path fill=\"none\" stroke=\"#0000ff\" d=\"M285.045,-547.177C329.407,-576.995 417.607,-636.277 466.787,-669.333\"/>\r\n",
       "<polygon fill=\"#0000ff\" stroke=\"#0000ff\" points=\"464.954,-672.317 475.206,-674.991 468.859,-666.508 464.954,-672.317\"/>\r\n",
       "<text text-anchor=\"middle\" x=\"363.5\" y=\"-623.8\" font-family=\"Times New Roman,serif\" font-size=\"14.00\">yes, missing</text>\r\n",
       "</g>\r\n",
       "<!-- 4 -->\r\n",
       "<g id=\"node5\" class=\"node\"><title>4</title>\r\n",
       "<path fill=\"none\" stroke=\"black\" d=\"M545,-547C545,-547 461,-547 461,-547 455,-547 449,-541 449,-535 449,-535 449,-523 449,-523 449,-517 455,-511 461,-511 461,-511 545,-511 545,-511 551,-511 557,-517 557,-523 557,-523 557,-535 557,-535 557,-541 551,-547 545,-547\"/>\r\n",
       "<text text-anchor=\"middle\" x=\"503\" y=\"-525.3\" font-family=\"Times New Roman,serif\" font-size=\"14.00\">age&lt;84.6808243</text>\r\n",
       "</g>\r\n",
       "<!-- 1&#45;&gt;4 -->\r\n",
       "<g id=\"edge4\" class=\"edge\"><title>1&#45;&gt;4</title>\r\n",
       "<path fill=\"none\" stroke=\"#ff0000\" d=\"M311.245,-529C348.783,-529 399.214,-529 438.794,-529\"/>\r\n",
       "<polygon fill=\"#ff0000\" stroke=\"#ff0000\" points=\"438.868,-532.5 448.868,-529 438.868,-525.5 438.868,-532.5\"/>\r\n",
       "<text text-anchor=\"middle\" x=\"363.5\" y=\"-532.8\" font-family=\"Times New Roman,serif\" font-size=\"14.00\">no</text>\r\n",
       "</g>\r\n",
       "<!-- 5 -->\r\n",
       "<g id=\"node18\" class=\"node\"><title>5</title>\r\n",
       "<path fill=\"none\" stroke=\"black\" d=\"M578,-329C578,-329 428,-329 428,-329 422,-329 416,-323 416,-317 416,-317 416,-305 416,-305 416,-299 422,-293 428,-293 428,-293 578,-293 578,-293 584,-293 590,-299 590,-305 590,-305 590,-317 590,-317 590,-323 584,-329 578,-329\"/>\r\n",
       "<text text-anchor=\"middle\" x=\"503\" y=\"-307.3\" font-family=\"Times New Roman,serif\" font-size=\"14.00\">Proton Pump Inhibitors&lt;0.5</text>\r\n",
       "</g>\r\n",
       "<!-- 2&#45;&gt;5 -->\r\n",
       "<g id=\"edge17\" class=\"edge\"><title>2&#45;&gt;5</title>\r\n",
       "<path fill=\"none\" stroke=\"#0000ff\" d=\"M311.245,-311C338.829,-311 373.374,-311 405.461,-311\"/>\r\n",
       "<polygon fill=\"#0000ff\" stroke=\"#0000ff\" points=\"405.78,-314.5 415.78,-311 405.78,-307.5 405.78,-314.5\"/>\r\n",
       "<text text-anchor=\"middle\" x=\"363.5\" y=\"-314.8\" font-family=\"Times New Roman,serif\" font-size=\"14.00\">yes, missing</text>\r\n",
       "</g>\r\n",
       "<!-- 6 -->\r\n",
       "<g id=\"node19\" class=\"node\"><title>6</title>\r\n",
       "<path fill=\"none\" stroke=\"black\" d=\"M545,-171C545,-171 461,-171 461,-171 455,-171 449,-165 449,-159 449,-159 449,-147 449,-147 449,-141 455,-135 461,-135 461,-135 545,-135 545,-135 551,-135 557,-141 557,-147 557,-147 557,-159 557,-159 557,-165 551,-171 545,-171\"/>\r\n",
       "<text text-anchor=\"middle\" x=\"503\" y=\"-149.3\" font-family=\"Times New Roman,serif\" font-size=\"14.00\">age&lt;86.5287628</text>\r\n",
       "</g>\r\n",
       "<!-- 2&#45;&gt;6 -->\r\n",
       "<g id=\"edge18\" class=\"edge\"><title>2&#45;&gt;6</title>\r\n",
       "<path fill=\"none\" stroke=\"#ff0000\" d=\"M285.99,-292.875C330.273,-264.2 416.484,-208.375 465.544,-176.607\"/>\r\n",
       "<polygon fill=\"#ff0000\" stroke=\"#ff0000\" points=\"467.47,-179.529 473.962,-171.156 463.665,-173.653 467.47,-179.529\"/>\r\n",
       "<text text-anchor=\"middle\" x=\"363.5\" y=\"-267.8\" font-family=\"Times New Roman,serif\" font-size=\"14.00\">no</text>\r\n",
       "</g>\r\n",
       "<!-- 7 -->\r\n",
       "<g id=\"node6\" class=\"node\"><title>7</title>\r\n",
       "<path fill=\"none\" stroke=\"black\" d=\"M870,-792C870,-792 796,-792 796,-792 790,-792 784,-786 784,-780 784,-780 784,-768 784,-768 784,-762 790,-756 796,-756 796,-756 870,-756 870,-756 876,-756 882,-762 882,-768 882,-768 882,-780 882,-780 882,-786 876,-792 870,-792\"/>\r\n",
       "<text text-anchor=\"middle\" x=\"833\" y=\"-770.3\" font-family=\"Times New Roman,serif\" font-size=\"14.00\">num_med&lt;2.5</text>\r\n",
       "</g>\r\n",
       "<!-- 3&#45;&gt;7 -->\r\n",
       "<g id=\"edge5\" class=\"edge\"><title>3&#45;&gt;7</title>\r\n",
       "<path fill=\"none\" stroke=\"#0000ff\" d=\"M559.641,-706.741C619.286,-721.47 713.542,-744.747 774.059,-759.691\"/>\r\n",
       "<polygon fill=\"#0000ff\" stroke=\"#0000ff\" points=\"773.293,-763.107 783.841,-762.107 774.971,-756.311 773.293,-763.107\"/>\r\n",
       "<text text-anchor=\"middle\" x=\"642.5\" y=\"-736.8\" font-family=\"Times New Roman,serif\" font-size=\"14.00\">yes, missing</text>\r\n",
       "</g>\r\n",
       "<!-- 8 -->\r\n",
       "<g id=\"node7\" class=\"node\"><title>8</title>\r\n",
       "<path fill=\"none\" stroke=\"black\" d=\"M875,-711C875,-711 791,-711 791,-711 785,-711 779,-705 779,-699 779,-699 779,-687 779,-687 779,-681 785,-675 791,-675 791,-675 875,-675 875,-675 881,-675 887,-681 887,-687 887,-687 887,-699 887,-699 887,-705 881,-711 875,-711\"/>\r\n",
       "<text text-anchor=\"middle\" x=\"833\" y=\"-689.3\" font-family=\"Times New Roman,serif\" font-size=\"14.00\">age&lt;65.4342499</text>\r\n",
       "</g>\r\n",
       "<!-- 3&#45;&gt;8 -->\r\n",
       "<g id=\"edge6\" class=\"edge\"><title>3&#45;&gt;8</title>\r\n",
       "<path fill=\"none\" stroke=\"#ff0000\" d=\"M559.641,-693C617.521,-693 707.996,-693 768.602,-693\"/>\r\n",
       "<polygon fill=\"#ff0000\" stroke=\"#ff0000\" points=\"768.808,-696.5 778.808,-693 768.808,-689.5 768.808,-696.5\"/>\r\n",
       "<text text-anchor=\"middle\" x=\"642.5\" y=\"-696.8\" font-family=\"Times New Roman,serif\" font-size=\"14.00\">no</text>\r\n",
       "</g>\r\n",
       "<!-- 9 -->\r\n",
       "<g id=\"node12\" class=\"node\"><title>9</title>\r\n",
       "<path fill=\"none\" stroke=\"black\" d=\"M942,-576C942,-576 724,-576 724,-576 718,-576 712,-570 712,-564 712,-564 712,-552 712,-552 712,-546 718,-540 724,-540 724,-540 942,-540 942,-540 948,-540 954,-546 954,-552 954,-552 954,-564 954,-564 954,-570 948,-576 942,-576\"/>\r\n",
       "<text text-anchor=\"middle\" x=\"833\" y=\"-554.3\" font-family=\"Times New Roman,serif\" font-size=\"14.00\">Hypercalcaemia And Hypercalciuria&lt;0.5</text>\r\n",
       "</g>\r\n",
       "<!-- 4&#45;&gt;9 -->\r\n",
       "<g id=\"edge11\" class=\"edge\"><title>4&#45;&gt;9</title>\r\n",
       "<path fill=\"none\" stroke=\"#0000ff\" d=\"M557.063,-533.692C596.244,-537.156 651.326,-542.026 701.909,-546.498\"/>\r\n",
       "<polygon fill=\"#0000ff\" stroke=\"#0000ff\" points=\"701.69,-549.992 711.959,-547.387 702.307,-543.019 701.69,-549.992\"/>\r\n",
       "<text text-anchor=\"middle\" x=\"642.5\" y=\"-546.8\" font-family=\"Times New Roman,serif\" font-size=\"14.00\">yes, missing</text>\r\n",
       "</g>\r\n",
       "<!-- 10 -->\r\n",
       "<g id=\"node13\" class=\"node\"><title>10</title>\r\n",
       "<path fill=\"none\" stroke=\"black\" d=\"M875,-522C875,-522 791,-522 791,-522 785,-522 779,-516 779,-510 779,-510 779,-498 779,-498 779,-492 785,-486 791,-486 791,-486 875,-486 875,-486 881,-486 887,-492 887,-498 887,-498 887,-510 887,-510 887,-516 881,-522 875,-522\"/>\r\n",
       "<text text-anchor=\"middle\" x=\"833\" y=\"-500.3\" font-family=\"Times New Roman,serif\" font-size=\"14.00\">age&lt;88.0958862</text>\r\n",
       "</g>\r\n",
       "<!-- 4&#45;&gt;10 -->\r\n",
       "<g id=\"edge12\" class=\"edge\"><title>4&#45;&gt;10</title>\r\n",
       "<path fill=\"none\" stroke=\"#ff0000\" d=\"M557.03,-519.664C573.332,-517.112 591.362,-514.609 608,-513 662.09,-507.769 723.811,-505.567 768.748,-504.646\"/>\r\n",
       "<polygon fill=\"#ff0000\" stroke=\"#ff0000\" points=\"769.001,-508.142 778.933,-504.453 768.868,-501.143 769.001,-508.142\"/>\r\n",
       "<text text-anchor=\"middle\" x=\"642.5\" y=\"-516.8\" font-family=\"Times New Roman,serif\" font-size=\"14.00\">no</text>\r\n",
       "</g>\r\n",
       "<!-- 15 -->\r\n",
       "<g id=\"node8\" class=\"node\"><title>15</title>\r\n",
       "<path fill=\"none\" stroke=\"black\" d=\"M1191,-846C1191,-846 1095,-846 1095,-846 1089,-846 1083,-840 1083,-834 1083,-834 1083,-822 1083,-822 1083,-816 1089,-810 1095,-810 1095,-810 1191,-810 1191,-810 1197,-810 1203,-816 1203,-822 1203,-822 1203,-834 1203,-834 1203,-840 1197,-846 1191,-846\"/>\r\n",
       "<text text-anchor=\"middle\" x=\"1143\" y=\"-824.3\" font-family=\"Times New Roman,serif\" font-size=\"14.00\">leaf=&#45;0.199583381</text>\r\n",
       "</g>\r\n",
       "<!-- 7&#45;&gt;15 -->\r\n",
       "<g id=\"edge7\" class=\"edge\"><title>7&#45;&gt;15</title>\r\n",
       "<path fill=\"none\" stroke=\"#0000ff\" d=\"M882.125,-782.438C933.279,-791.406 1014.64,-805.671 1072.69,-815.849\"/>\r\n",
       "<polygon fill=\"#0000ff\" stroke=\"#0000ff\" points=\"1072.43,-819.357 1082.89,-817.636 1073.64,-812.462 1072.43,-819.357\"/>\r\n",
       "<text text-anchor=\"middle\" x=\"1023.5\" y=\"-815.8\" font-family=\"Times New Roman,serif\" font-size=\"14.00\">yes, missing</text>\r\n",
       "</g>\r\n",
       "<!-- 16 -->\r\n",
       "<g id=\"node9\" class=\"node\"><title>16</title>\r\n",
       "<path fill=\"none\" stroke=\"black\" d=\"M1192,-792C1192,-792 1094,-792 1094,-792 1088,-792 1082,-786 1082,-780 1082,-780 1082,-768 1082,-768 1082,-762 1088,-756 1094,-756 1094,-756 1192,-756 1192,-756 1198,-756 1204,-762 1204,-768 1204,-768 1204,-780 1204,-780 1204,-786 1198,-792 1192,-792\"/>\r\n",
       "<text text-anchor=\"middle\" x=\"1143\" y=\"-770.3\" font-family=\"Times New Roman,serif\" font-size=\"14.00\">leaf=0.0301317554</text>\r\n",
       "</g>\r\n",
       "<!-- 7&#45;&gt;16 -->\r\n",
       "<g id=\"edge8\" class=\"edge\"><title>7&#45;&gt;16</title>\r\n",
       "<path fill=\"none\" stroke=\"#ff0000\" d=\"M882.125,-774C932.96,-774 1013.63,-774 1071.61,-774\"/>\r\n",
       "<polygon fill=\"#ff0000\" stroke=\"#ff0000\" points=\"1071.79,-777.5 1081.79,-774 1071.79,-770.5 1071.79,-777.5\"/>\r\n",
       "<text text-anchor=\"middle\" x=\"1023.5\" y=\"-777.8\" font-family=\"Times New Roman,serif\" font-size=\"14.00\">no</text>\r\n",
       "</g>\r\n",
       "<!-- 17 -->\r\n",
       "<g id=\"node10\" class=\"node\"><title>17</title>\r\n",
       "<path fill=\"none\" stroke=\"black\" d=\"M1191,-738C1191,-738 1095,-738 1095,-738 1089,-738 1083,-732 1083,-726 1083,-726 1083,-714 1083,-714 1083,-708 1089,-702 1095,-702 1095,-702 1191,-702 1191,-702 1197,-702 1203,-708 1203,-714 1203,-714 1203,-726 1203,-726 1203,-732 1197,-738 1191,-738\"/>\r\n",
       "<text text-anchor=\"middle\" x=\"1143\" y=\"-716.3\" font-family=\"Times New Roman,serif\" font-size=\"14.00\">leaf=&#45;0.311233699</text>\r\n",
       "</g>\r\n",
       "<!-- 8&#45;&gt;17 -->\r\n",
       "<g id=\"edge9\" class=\"edge\"><title>8&#45;&gt;17</title>\r\n",
       "<path fill=\"none\" stroke=\"#0000ff\" d=\"M887.298,-697.672C938.598,-702.169 1016.45,-708.994 1072.57,-713.914\"/>\r\n",
       "<polygon fill=\"#0000ff\" stroke=\"#0000ff\" points=\"1072.52,-717.423 1082.79,-714.809 1073.13,-710.449 1072.52,-717.423\"/>\r\n",
       "<text text-anchor=\"middle\" x=\"1023.5\" y=\"-715.8\" font-family=\"Times New Roman,serif\" font-size=\"14.00\">yes, missing</text>\r\n",
       "</g>\r\n",
       "<!-- 18 -->\r\n",
       "<g id=\"node11\" class=\"node\"><title>18</title>\r\n",
       "<path fill=\"none\" stroke=\"black\" d=\"M1187.5,-684C1187.5,-684 1098.5,-684 1098.5,-684 1092.5,-684 1086.5,-678 1086.5,-672 1086.5,-672 1086.5,-660 1086.5,-660 1086.5,-654 1092.5,-648 1098.5,-648 1098.5,-648 1187.5,-648 1187.5,-648 1193.5,-648 1199.5,-654 1199.5,-660 1199.5,-660 1199.5,-672 1199.5,-672 1199.5,-678 1193.5,-684 1187.5,-684\"/>\r\n",
       "<text text-anchor=\"middle\" x=\"1143\" y=\"-662.3\" font-family=\"Times New Roman,serif\" font-size=\"14.00\">leaf=&#45;0.16686511</text>\r\n",
       "</g>\r\n",
       "<!-- 8&#45;&gt;18 -->\r\n",
       "<g id=\"edge10\" class=\"edge\"><title>8&#45;&gt;18</title>\r\n",
       "<path fill=\"none\" stroke=\"#ff0000\" d=\"M887.298,-688.328C939.733,-683.731 1019.9,-676.703 1076.26,-671.763\"/>\r\n",
       "<polygon fill=\"#ff0000\" stroke=\"#ff0000\" points=\"1076.84,-675.225 1086.5,-670.865 1076.23,-668.252 1076.84,-675.225\"/>\r\n",
       "<text text-anchor=\"middle\" x=\"1023.5\" y=\"-681.8\" font-family=\"Times New Roman,serif\" font-size=\"14.00\">no</text>\r\n",
       "</g>\r\n",
       "<!-- 19 -->\r\n",
       "<g id=\"node14\" class=\"node\"><title>19</title>\r\n",
       "<path fill=\"none\" stroke=\"black\" d=\"M1192,-630C1192,-630 1094,-630 1094,-630 1088,-630 1082,-624 1082,-618 1082,-618 1082,-606 1082,-606 1082,-600 1088,-594 1094,-594 1094,-594 1192,-594 1192,-594 1198,-594 1204,-600 1204,-606 1204,-606 1204,-618 1204,-618 1204,-624 1198,-630 1192,-630\"/>\r\n",
       "<text text-anchor=\"middle\" x=\"1143\" y=\"-608.3\" font-family=\"Times New Roman,serif\" font-size=\"14.00\">leaf=0.0469016172</text>\r\n",
       "</g>\r\n",
       "<!-- 9&#45;&gt;19 -->\r\n",
       "<g id=\"edge13\" class=\"edge\"><title>9&#45;&gt;19</title>\r\n",
       "<path fill=\"none\" stroke=\"#0000ff\" d=\"M936.988,-576.056C981.322,-583.829 1032.02,-592.717 1071.9,-599.71\"/>\r\n",
       "<polygon fill=\"#0000ff\" stroke=\"#0000ff\" points=\"1071.34,-603.166 1081.8,-601.445 1072.55,-596.271 1071.34,-603.166\"/>\r\n",
       "<text text-anchor=\"middle\" x=\"1023.5\" y=\"-599.8\" font-family=\"Times New Roman,serif\" font-size=\"14.00\">yes, missing</text>\r\n",
       "</g>\r\n",
       "<!-- 20 -->\r\n",
       "<g id=\"node15\" class=\"node\"><title>20</title>\r\n",
       "<path fill=\"none\" stroke=\"black\" d=\"M1191,-576C1191,-576 1095,-576 1095,-576 1089,-576 1083,-570 1083,-564 1083,-564 1083,-552 1083,-552 1083,-546 1089,-540 1095,-540 1095,-540 1191,-540 1191,-540 1197,-540 1203,-546 1203,-552 1203,-552 1203,-564 1203,-564 1203,-570 1197,-576 1191,-576\"/>\r\n",
       "<text text-anchor=\"middle\" x=\"1143\" y=\"-554.3\" font-family=\"Times New Roman,serif\" font-size=\"14.00\">leaf=&#45;0.455410749</text>\r\n",
       "</g>\r\n",
       "<!-- 9&#45;&gt;20 -->\r\n",
       "<g id=\"edge14\" class=\"edge\"><title>9&#45;&gt;20</title>\r\n",
       "<path fill=\"none\" stroke=\"#ff0000\" d=\"M954.404,-558C994.484,-558 1037.76,-558 1072.63,-558\"/>\r\n",
       "<polygon fill=\"#ff0000\" stroke=\"#ff0000\" points=\"1072.7,-561.5 1082.7,-558 1072.7,-554.5 1072.7,-561.5\"/>\r\n",
       "<text text-anchor=\"middle\" x=\"1023.5\" y=\"-561.8\" font-family=\"Times New Roman,serif\" font-size=\"14.00\">no</text>\r\n",
       "</g>\r\n",
       "<!-- 21 -->\r\n",
       "<g id=\"node16\" class=\"node\"><title>21</title>\r\n",
       "<path fill=\"none\" stroke=\"black\" d=\"M1189,-522C1189,-522 1097,-522 1097,-522 1091,-522 1085,-516 1085,-510 1085,-510 1085,-498 1085,-498 1085,-492 1091,-486 1097,-486 1097,-486 1189,-486 1189,-486 1195,-486 1201,-492 1201,-498 1201,-498 1201,-510 1201,-510 1201,-516 1195,-522 1189,-522\"/>\r\n",
       "<text text-anchor=\"middle\" x=\"1143\" y=\"-500.3\" font-family=\"Times New Roman,serif\" font-size=\"14.00\">leaf=0.218001693</text>\r\n",
       "</g>\r\n",
       "<!-- 10&#45;&gt;21 -->\r\n",
       "<g id=\"edge15\" class=\"edge\"><title>10&#45;&gt;21</title>\r\n",
       "<path fill=\"none\" stroke=\"#0000ff\" d=\"M887.298,-504C939.247,-504 1018.42,-504 1074.69,-504\"/>\r\n",
       "<polygon fill=\"#0000ff\" stroke=\"#0000ff\" points=\"1074.92,-507.5 1084.92,-504 1074.92,-500.5 1074.92,-507.5\"/>\r\n",
       "<text text-anchor=\"middle\" x=\"1023.5\" y=\"-507.8\" font-family=\"Times New Roman,serif\" font-size=\"14.00\">yes, missing</text>\r\n",
       "</g>\r\n",
       "<!-- 22 -->\r\n",
       "<g id=\"node17\" class=\"node\"><title>22</title>\r\n",
       "<path fill=\"none\" stroke=\"black\" d=\"M1189,-468C1189,-468 1097,-468 1097,-468 1091,-468 1085,-462 1085,-456 1085,-456 1085,-444 1085,-444 1085,-438 1091,-432 1097,-432 1097,-432 1189,-432 1189,-432 1195,-432 1201,-438 1201,-444 1201,-444 1201,-456 1201,-456 1201,-462 1195,-468 1189,-468\"/>\r\n",
       "<text text-anchor=\"middle\" x=\"1143\" y=\"-446.3\" font-family=\"Times New Roman,serif\" font-size=\"14.00\">leaf=0.335059583</text>\r\n",
       "</g>\r\n",
       "<!-- 10&#45;&gt;22 -->\r\n",
       "<g id=\"edge16\" class=\"edge\"><title>10&#45;&gt;22</title>\r\n",
       "<path fill=\"none\" stroke=\"#ff0000\" d=\"M887.298,-494.656C939.354,-485.529 1018.75,-471.609 1075.04,-461.74\"/>\r\n",
       "<polygon fill=\"#ff0000\" stroke=\"#ff0000\" points=\"1075.67,-465.182 1084.92,-460.008 1074.46,-458.287 1075.67,-465.182\"/>\r\n",
       "<text text-anchor=\"middle\" x=\"1023.5\" y=\"-478.8\" font-family=\"Times New Roman,serif\" font-size=\"14.00\">no</text>\r\n",
       "</g>\r\n",
       "<!-- 11 -->\r\n",
       "<g id=\"node20\" class=\"node\"><title>11</title>\r\n",
       "<path fill=\"none\" stroke=\"black\" d=\"M873,-360C873,-360 793,-360 793,-360 787,-360 781,-354 781,-348 781,-348 781,-336 781,-336 781,-330 787,-324 793,-324 793,-324 873,-324 873,-324 879,-324 885,-330 885,-336 885,-336 885,-348 885,-348 885,-354 879,-360 873,-360\"/>\r\n",
       "<text text-anchor=\"middle\" x=\"833\" y=\"-338.3\" font-family=\"Times New Roman,serif\" font-size=\"14.00\">num_med&lt;15.5</text>\r\n",
       "</g>\r\n",
       "<!-- 5&#45;&gt;11 -->\r\n",
       "<g id=\"edge19\" class=\"edge\"><title>5&#45;&gt;11</title>\r\n",
       "<path fill=\"none\" stroke=\"#0000ff\" d=\"M590.178,-319.145C646.824,-324.499 719.595,-331.376 770.446,-336.182\"/>\r\n",
       "<polygon fill=\"#0000ff\" stroke=\"#0000ff\" points=\"770.347,-339.689 780.632,-337.145 771.005,-332.72 770.347,-339.689\"/>\r\n",
       "<text text-anchor=\"middle\" x=\"642.5\" y=\"-329.8\" font-family=\"Times New Roman,serif\" font-size=\"14.00\">yes, missing</text>\r\n",
       "</g>\r\n",
       "<!-- 12 -->\r\n",
       "<g id=\"node21\" class=\"node\"><title>12</title>\r\n",
       "<path fill=\"none\" stroke=\"black\" d=\"M959,-306C959,-306 707,-306 707,-306 701,-306 695,-300 695,-294 695,-294 695,-282 695,-282 695,-276 701,-270 707,-270 707,-270 959,-270 959,-270 965,-270 971,-276 971,-282 971,-282 971,-294 971,-294 971,-300 965,-306 959,-306\"/>\r\n",
       "<text text-anchor=\"middle\" x=\"833\" y=\"-284.3\" font-family=\"Times New Roman,serif\" font-size=\"14.00\">Angiotensin&#45;converting Enzyme Inhibitors&lt;0.5</text>\r\n",
       "</g>\r\n",
       "<!-- 5&#45;&gt;12 -->\r\n",
       "<g id=\"edge20\" class=\"edge\"><title>5&#45;&gt;12</title>\r\n",
       "<path fill=\"none\" stroke=\"#ff0000\" d=\"M590.239,-302.454C596.247,-301.937 602.213,-301.446 608,-301 632.773,-299.091 659.107,-297.326 684.685,-295.752\"/>\r\n",
       "<polygon fill=\"#ff0000\" stroke=\"#ff0000\" points=\"685.057,-299.236 694.826,-295.136 684.632,-292.249 685.057,-299.236\"/>\r\n",
       "<text text-anchor=\"middle\" x=\"642.5\" y=\"-304.8\" font-family=\"Times New Roman,serif\" font-size=\"14.00\">no</text>\r\n",
       "</g>\r\n",
       "<!-- 13 -->\r\n",
       "<g id=\"node26\" class=\"node\"><title>13</title>\r\n",
       "<path fill=\"none\" stroke=\"black\" d=\"M877.5,-171C877.5,-171 788.5,-171 788.5,-171 782.5,-171 776.5,-165 776.5,-159 776.5,-159 776.5,-147 776.5,-147 776.5,-141 782.5,-135 788.5,-135 788.5,-135 877.5,-135 877.5,-135 883.5,-135 889.5,-141 889.5,-147 889.5,-147 889.5,-159 889.5,-159 889.5,-165 883.5,-171 877.5,-171\"/>\r\n",
       "<text text-anchor=\"middle\" x=\"833\" y=\"-149.3\" font-family=\"Times New Roman,serif\" font-size=\"14.00\">hypertension&lt;0.5</text>\r\n",
       "</g>\r\n",
       "<!-- 6&#45;&gt;13 -->\r\n",
       "<g id=\"edge25\" class=\"edge\"><title>6&#45;&gt;13</title>\r\n",
       "<path fill=\"none\" stroke=\"#0000ff\" d=\"M557.063,-153C613.967,-153 704.414,-153 765.901,-153\"/>\r\n",
       "<polygon fill=\"#0000ff\" stroke=\"#0000ff\" points=\"766.269,-156.5 776.269,-153 766.269,-149.5 766.269,-156.5\"/>\r\n",
       "<text text-anchor=\"middle\" x=\"642.5\" y=\"-156.8\" font-family=\"Times New Roman,serif\" font-size=\"14.00\">yes, missing</text>\r\n",
       "</g>\r\n",
       "<!-- 14 -->\r\n",
       "<g id=\"node27\" class=\"node\"><title>14</title>\r\n",
       "<path fill=\"none\" stroke=\"black\" d=\"M870,-90C870,-90 796,-90 796,-90 790,-90 784,-84 784,-78 784,-78 784,-66 784,-66 784,-60 790,-54 796,-54 796,-54 870,-54 870,-54 876,-54 882,-60 882,-66 882,-66 882,-78 882,-78 882,-84 876,-90 870,-90\"/>\r\n",
       "<text text-anchor=\"middle\" x=\"833\" y=\"-68.3\" font-family=\"Times New Roman,serif\" font-size=\"14.00\">num_med&lt;9.5</text>\r\n",
       "</g>\r\n",
       "<!-- 6&#45;&gt;14 -->\r\n",
       "<g id=\"edge26\" class=\"edge\"><title>6&#45;&gt;14</title>\r\n",
       "<path fill=\"none\" stroke=\"#ff0000\" d=\"M557.063,-139.896C616.489,-125.221 712.497,-101.511 773.9,-86.3478\"/>\r\n",
       "<polygon fill=\"#ff0000\" stroke=\"#ff0000\" points=\"774.952,-89.6933 783.821,-83.8978 773.274,-82.8974 774.952,-89.6933\"/>\r\n",
       "<text text-anchor=\"middle\" x=\"642.5\" y=\"-129.8\" font-family=\"Times New Roman,serif\" font-size=\"14.00\">no</text>\r\n",
       "</g>\r\n",
       "<!-- 23 -->\r\n",
       "<g id=\"node22\" class=\"node\"><title>23</title>\r\n",
       "<path fill=\"none\" stroke=\"black\" d=\"M1198,-414C1198,-414 1088,-414 1088,-414 1082,-414 1076,-408 1076,-402 1076,-402 1076,-390 1076,-390 1076,-384 1082,-378 1088,-378 1088,-378 1198,-378 1198,-378 1204,-378 1210,-384 1210,-390 1210,-390 1210,-402 1210,-402 1210,-408 1204,-414 1198,-414\"/>\r\n",
       "<text text-anchor=\"middle\" x=\"1143\" y=\"-392.3\" font-family=\"Times New Roman,serif\" font-size=\"14.00\">leaf=&#45;0.00711560063</text>\r\n",
       "</g>\r\n",
       "<!-- 11&#45;&gt;23 -->\r\n",
       "<g id=\"edge21\" class=\"edge\"><title>11&#45;&gt;23</title>\r\n",
       "<path fill=\"none\" stroke=\"#0000ff\" d=\"M885.206,-350.978C934.504,-359.621 1009.67,-372.799 1065.96,-382.668\"/>\r\n",
       "<polygon fill=\"#0000ff\" stroke=\"#0000ff\" points=\"1065.43,-386.128 1075.88,-384.408 1066.64,-379.233 1065.43,-386.128\"/>\r\n",
       "<text text-anchor=\"middle\" x=\"1023.5\" y=\"-383.8\" font-family=\"Times New Roman,serif\" font-size=\"14.00\">yes, missing</text>\r\n",
       "</g>\r\n",
       "<!-- 24 -->\r\n",
       "<g id=\"node23\" class=\"node\"><title>24</title>\r\n",
       "<path fill=\"none\" stroke=\"black\" d=\"M1189,-360C1189,-360 1097,-360 1097,-360 1091,-360 1085,-354 1085,-348 1085,-348 1085,-336 1085,-336 1085,-330 1091,-324 1097,-324 1097,-324 1189,-324 1189,-324 1195,-324 1201,-330 1201,-336 1201,-336 1201,-348 1201,-348 1201,-354 1195,-360 1189,-360\"/>\r\n",
       "<text text-anchor=\"middle\" x=\"1143\" y=\"-338.3\" font-family=\"Times New Roman,serif\" font-size=\"14.00\">leaf=0.369883031</text>\r\n",
       "</g>\r\n",
       "<!-- 11&#45;&gt;24 -->\r\n",
       "<g id=\"edge22\" class=\"edge\"><title>11&#45;&gt;24</title>\r\n",
       "<path fill=\"none\" stroke=\"#ff0000\" d=\"M885.206,-342C937.166,-342 1017.86,-342 1074.9,-342\"/>\r\n",
       "<polygon fill=\"#ff0000\" stroke=\"#ff0000\" points=\"1074.91,-345.5 1084.91,-342 1074.91,-338.5 1074.91,-345.5\"/>\r\n",
       "<text text-anchor=\"middle\" x=\"1023.5\" y=\"-345.8\" font-family=\"Times New Roman,serif\" font-size=\"14.00\">no</text>\r\n",
       "</g>\r\n",
       "<!-- 25 -->\r\n",
       "<g id=\"node24\" class=\"node\"><title>25</title>\r\n",
       "<path fill=\"none\" stroke=\"black\" d=\"M1189,-306C1189,-306 1097,-306 1097,-306 1091,-306 1085,-300 1085,-294 1085,-294 1085,-282 1085,-282 1085,-276 1091,-270 1097,-270 1097,-270 1189,-270 1189,-270 1195,-270 1201,-276 1201,-282 1201,-282 1201,-294 1201,-294 1201,-300 1195,-306 1189,-306\"/>\r\n",
       "<text text-anchor=\"middle\" x=\"1143\" y=\"-284.3\" font-family=\"Times New Roman,serif\" font-size=\"14.00\">leaf=0.278625607</text>\r\n",
       "</g>\r\n",
       "<!-- 12&#45;&gt;25 -->\r\n",
       "<g id=\"edge23\" class=\"edge\"><title>12&#45;&gt;25</title>\r\n",
       "<path fill=\"none\" stroke=\"#0000ff\" d=\"M971.336,-288C1007.22,-288 1044.33,-288 1074.74,-288\"/>\r\n",
       "<polygon fill=\"#0000ff\" stroke=\"#0000ff\" points=\"1074.79,-291.5 1084.79,-288 1074.79,-284.5 1074.79,-291.5\"/>\r\n",
       "<text text-anchor=\"middle\" x=\"1023.5\" y=\"-291.8\" font-family=\"Times New Roman,serif\" font-size=\"14.00\">yes, missing</text>\r\n",
       "</g>\r\n",
       "<!-- 26 -->\r\n",
       "<g id=\"node25\" class=\"node\"><title>26</title>\r\n",
       "<path fill=\"none\" stroke=\"black\" d=\"M1189,-252C1189,-252 1097,-252 1097,-252 1091,-252 1085,-246 1085,-240 1085,-240 1085,-228 1085,-228 1085,-222 1091,-216 1097,-216 1097,-216 1189,-216 1189,-216 1195,-216 1201,-222 1201,-228 1201,-228 1201,-240 1201,-240 1201,-246 1195,-252 1189,-252\"/>\r\n",
       "<text text-anchor=\"middle\" x=\"1143\" y=\"-230.3\" font-family=\"Times New Roman,serif\" font-size=\"14.00\">leaf=0.134092197</text>\r\n",
       "</g>\r\n",
       "<!-- 12&#45;&gt;26 -->\r\n",
       "<g id=\"edge24\" class=\"edge\"><title>12&#45;&gt;26</title>\r\n",
       "<path fill=\"none\" stroke=\"#ff0000\" d=\"M936.988,-269.944C982.451,-261.973 1034.6,-252.83 1074.93,-245.76\"/>\r\n",
       "<polygon fill=\"#ff0000\" stroke=\"#ff0000\" points=\"1075.67,-249.183 1084.91,-244.009 1074.46,-242.289 1075.67,-249.183\"/>\r\n",
       "<text text-anchor=\"middle\" x=\"1023.5\" y=\"-262.8\" font-family=\"Times New Roman,serif\" font-size=\"14.00\">no</text>\r\n",
       "</g>\r\n",
       "<!-- 27 -->\r\n",
       "<g id=\"node28\" class=\"node\"><title>27</title>\r\n",
       "<path fill=\"none\" stroke=\"black\" d=\"M1189,-198C1189,-198 1097,-198 1097,-198 1091,-198 1085,-192 1085,-186 1085,-186 1085,-174 1085,-174 1085,-168 1091,-162 1097,-162 1097,-162 1189,-162 1189,-162 1195,-162 1201,-168 1201,-174 1201,-174 1201,-186 1201,-186 1201,-192 1195,-198 1189,-198\"/>\r\n",
       "<text text-anchor=\"middle\" x=\"1143\" y=\"-176.3\" font-family=\"Times New Roman,serif\" font-size=\"14.00\">leaf=0.376448959</text>\r\n",
       "</g>\r\n",
       "<!-- 13&#45;&gt;27 -->\r\n",
       "<g id=\"edge27\" class=\"edge\"><title>13&#45;&gt;27</title>\r\n",
       "<path fill=\"none\" stroke=\"#0000ff\" d=\"M889.776,-157.889C941.755,-162.446 1019.35,-169.249 1074.74,-174.104\"/>\r\n",
       "<polygon fill=\"#0000ff\" stroke=\"#0000ff\" points=\"1074.55,-177.6 1084.81,-174.987 1075.16,-170.627 1074.55,-177.6\"/>\r\n",
       "<text text-anchor=\"middle\" x=\"1023.5\" y=\"-175.8\" font-family=\"Times New Roman,serif\" font-size=\"14.00\">yes, missing</text>\r\n",
       "</g>\r\n",
       "<!-- 28 -->\r\n",
       "<g id=\"node29\" class=\"node\"><title>28</title>\r\n",
       "<path fill=\"none\" stroke=\"black\" d=\"M1189,-144C1189,-144 1097,-144 1097,-144 1091,-144 1085,-138 1085,-132 1085,-132 1085,-120 1085,-120 1085,-114 1091,-108 1097,-108 1097,-108 1189,-108 1189,-108 1195,-108 1201,-114 1201,-120 1201,-120 1201,-132 1201,-132 1201,-138 1195,-144 1189,-144\"/>\r\n",
       "<text text-anchor=\"middle\" x=\"1143\" y=\"-122.3\" font-family=\"Times New Roman,serif\" font-size=\"14.00\">leaf=0.228076205</text>\r\n",
       "</g>\r\n",
       "<!-- 13&#45;&gt;28 -->\r\n",
       "<g id=\"edge28\" class=\"edge\"><title>13&#45;&gt;28</title>\r\n",
       "<path fill=\"none\" stroke=\"#ff0000\" d=\"M889.776,-148.111C941.755,-143.554 1019.35,-136.751 1074.74,-131.896\"/>\r\n",
       "<polygon fill=\"#ff0000\" stroke=\"#ff0000\" points=\"1075.16,-135.373 1084.81,-131.013 1074.55,-128.4 1075.16,-135.373\"/>\r\n",
       "<text text-anchor=\"middle\" x=\"1023.5\" y=\"-141.8\" font-family=\"Times New Roman,serif\" font-size=\"14.00\">no</text>\r\n",
       "</g>\r\n",
       "<!-- 29 -->\r\n",
       "<g id=\"node30\" class=\"node\"><title>29</title>\r\n",
       "<path fill=\"none\" stroke=\"black\" d=\"M1189,-90C1189,-90 1097,-90 1097,-90 1091,-90 1085,-84 1085,-78 1085,-78 1085,-66 1085,-66 1085,-60 1091,-54 1097,-54 1097,-54 1189,-54 1189,-54 1195,-54 1201,-60 1201,-66 1201,-66 1201,-78 1201,-78 1201,-84 1195,-90 1189,-90\"/>\r\n",
       "<text text-anchor=\"middle\" x=\"1143\" y=\"-68.3\" font-family=\"Times New Roman,serif\" font-size=\"14.00\">leaf=0.366319299</text>\r\n",
       "</g>\r\n",
       "<!-- 14&#45;&gt;29 -->\r\n",
       "<g id=\"edge29\" class=\"edge\"><title>14&#45;&gt;29</title>\r\n",
       "<path fill=\"none\" stroke=\"#0000ff\" d=\"M882.125,-72C933.837,-72 1016.42,-72 1074.59,-72\"/>\r\n",
       "<polygon fill=\"#0000ff\" stroke=\"#0000ff\" points=\"1074.79,-75.5001 1084.79,-72 1074.79,-68.5001 1074.79,-75.5001\"/>\r\n",
       "<text text-anchor=\"middle\" x=\"1023.5\" y=\"-75.8\" font-family=\"Times New Roman,serif\" font-size=\"14.00\">yes, missing</text>\r\n",
       "</g>\r\n",
       "<!-- 30 -->\r\n",
       "<g id=\"node31\" class=\"node\"><title>30</title>\r\n",
       "<path fill=\"none\" stroke=\"black\" d=\"M1189,-36C1189,-36 1097,-36 1097,-36 1091,-36 1085,-30 1085,-24 1085,-24 1085,-12 1085,-12 1085,-6 1091,-0 1097,-0 1097,-0 1189,-0 1189,-0 1195,-0 1201,-6 1201,-12 1201,-12 1201,-24 1201,-24 1201,-30 1195,-36 1189,-36\"/>\r\n",
       "<text text-anchor=\"middle\" x=\"1143\" y=\"-14.3\" font-family=\"Times New Roman,serif\" font-size=\"14.00\">leaf=0.430670708</text>\r\n",
       "</g>\r\n",
       "<!-- 14&#45;&gt;30 -->\r\n",
       "<g id=\"edge30\" class=\"edge\"><title>14&#45;&gt;30</title>\r\n",
       "<path fill=\"none\" stroke=\"#ff0000\" d=\"M882.125,-63.5625C933.837,-54.496 1016.42,-40.0171 1074.59,-29.819\"/>\r\n",
       "<polygon fill=\"#ff0000\" stroke=\"#ff0000\" points=\"1075.54,-33.2048 1084.79,-28.0304 1074.34,-26.31 1075.54,-33.2048\"/>\r\n",
       "<text text-anchor=\"middle\" x=\"1023.5\" y=\"-46.8\" font-family=\"Times New Roman,serif\" font-size=\"14.00\">no</text>\r\n",
       "</g>\r\n",
       "</g>\r\n",
       "</svg>\r\n"
      ],
      "text/plain": [
       "<graphviz.files.Source at 0x1492986c9d0>"
      ]
     },
     "execution_count": 32,
     "metadata": {},
     "output_type": "execute_result"
    }
   ],
   "source": [
    "xgb.to_graphviz(model, num_trees=1, rankdir='LR', size='10,10',\n",
    "                condition_node_params = {'shape': 'box',\n",
    "                                         'style': 'rounded'},\n",
    "#                                          'fillcolor': '#78bceb'},\n",
    "                leaf_node_params = {'shape': 'box',\n",
    "                                    'style': 'rounded'})"
   ]
  },
  {
   "cell_type": "code",
   "execution_count": 438,
   "id": "f1558898",
   "metadata": {},
   "outputs": [
    {
     "data": {
      "text/plain": [
       "0.598687660112452"
      ]
     },
     "execution_count": 438,
     "metadata": {},
     "output_type": "execute_result"
    }
   ],
   "source": [
    "leaf_value = 0.4\n",
    "1/(1+np.exp(-1*leaf_value))"
   ]
  },
  {
   "cell_type": "code",
   "execution_count": null,
   "id": "6887c70e",
   "metadata": {},
   "outputs": [],
   "source": [
    "\n",
    "plt.plot(threshold, f1_scores,\n",
    "         label=f'XGBClassifier (F1 = {round(np.max(f1_scores),2)})',\n",
    "         marker='.', markersize=3)\n",
    "plt.ylabel('F1-Score (Positive label: 1)', labelpad=8) # fontsize='large', fontweight='demibold'\n",
    "plt.xlabel('Threshold (Positive label: 1)', labelpad=8) # fontsize='large', fontweight='demibold'\n",
    "\n",
    "plt.axvline(x=threshold[np.argmax(accuracy_scores)], color='green', linestyle=(0,(3,4)), \n",
    "            label=f'x = {round(threshold[np.argmax(accuracy_scores)],3)}')\n",
    "\n",
    "plt.grid(True)\n",
    "plt.ylim(-0.02,0.42)\n",
    "plt.savefig('f1_threshold.jpg', format='jpg', dpi=300)\n",
    "plt.show()\n",
    "\n",
    "print(f'max accuracy score: {np.max(accuracy_scores)}')"
   ]
  },
  {
   "cell_type": "code",
   "execution_count": 40,
   "id": "8c875761",
   "metadata": {},
   "outputs": [
    {
     "data": {
      "image/png": "[encoded data removed]",
      "text/plain": [
       "<Figure size 432x360 with 1 Axes>"
      ]
     },
     "metadata": {
      "needs_background": "light"
     },
     "output_type": "display_data"
    }
   ],
   "source": [
    "df = model.get_split_value_histogram('age', bins=8)\n",
    "\n",
    "plt.figure(figsize=(6,5))\n",
    "ax = plt.plot(round(df['SplitValue'],2), df['Count'], linestyle='None', marker='^', markersize=10)\n",
    "plt.xlabel('Age', labelpad=8) #, fontsize='large', fontweight='demibold')\n",
    "plt.ylabel('Split Count', labelpad=8) # fontsize='large', fontweight='demibold')\n",
    "plt.axvline(x=48, color='red', linestyle=(0,(3,4)), \n",
    "                        label=f'x = 48')\n",
    "plt.axvline(x=65, color='grey', linestyle=(0,(3,4)), \n",
    "                        label=f'x = 65')\n",
    "plt.axvline(x=76, color='green', linestyle=(0,(3,4)), \n",
    "                        label=f'x = 76')\n",
    "plt.yticks(ticks=[0,2,4,6,8,10,12,14,16,18,20,22,24])\n",
    "# plt.grid(axis='x')\n",
    "plt.ylim(0,20)\n",
    "plt.xlim(30,100)\n",
    "plt.legend(loc='upper left')\n",
    "plt.grid(True)\n",
    "plt.savefig('age_split_ccb.jpg', format='jpg', dpi=300)\n",
    "plt.show()"
   ]
  },
  {
   "cell_type": "code",
   "execution_count": null,
   "id": "966dbef2",
   "metadata": {},
   "outputs": [],
   "source": []
  },
  {
   "cell_type": "code",
   "execution_count": null,
   "id": "c6afd6e6",
   "metadata": {},
   "outputs": [],
   "source": []
  },
  {
   "cell_type": "code",
   "execution_count": null,
   "id": "68195600",
   "metadata": {},
   "outputs": [],
   "source": []
  },
  {
   "cell_type": "code",
   "execution_count": null,
   "id": "b8bb0340",
   "metadata": {},
   "outputs": [],
   "source": []
  }
 ],
 "metadata": {
  "kernelspec": {
   "display_name": "Python 3",
   "language": "python",
   "name": "python3"
  },
  "language_info": {
   "codemirror_mode": {
    "name": "ipython",
    "version": 3
   },
   "file_extension": ".py",
   "mimetype": "text/x-python",
   "name": "python",
   "nbconvert_exporter": "python",
   "pygments_lexer": "ipython3",
   "version": "3.8.5"
  }
 },
 "nbformat": 4,
 "nbformat_minor": 5
}
